{
 "cells": [
  {
   "cell_type": "code",
   "execution_count": 1,
   "metadata": {},
   "outputs": [],
   "source": [
    "#!/usr/bin/python\n",
    "\n",
    "\n",
    "'''\n",
    "rightSphnix:\n",
    "* create Labels and store to disk\n",
    "* build models\n",
    "'''\n",
    "\n",
    "##################################################################################\n",
    "#########################       Configure       ##################################\n",
    "##################################################################################\n",
    "\n",
    "assets = 'Test'   # Typically AllStocks, SchwabOneSource, SchwabETFs, or Test\n",
    "horizon = 2       # prediction horizon in days\n",
    "\n",
    "totalBuildTimeAllowed_seconds = 28800\n",
    "\n",
    "\n",
    "startDate = '2010-01-01'\n",
    "\n"
   ]
  },
  {
   "cell_type": "code",
   "execution_count": 2,
   "metadata": {},
   "outputs": [
    {
     "name": "stdout",
     "output_type": "stream",
     "text": [
      "importing packages\n"
     ]
    }
   ],
   "source": [
    "\n",
    "##################################################################################\n",
    "###########################       Imports       ##################################\n",
    "##################################################################################\n",
    "print('importing packages')\n",
    "from multiprocessing import Pool\n",
    "import pandas\n",
    "import os\n",
    "import uyulala\n",
    "#reload(uyulala)\n",
    "\n",
    "import datetime\n",
    "import numpy\n",
    "import random\n",
    "import string\n",
    "import subprocess\n",
    "import time\n",
    "from psutil import virtual_memory\n",
    "import shutil\n",
    "from pathlib import Path\n",
    "import math\n",
    "import glob\n",
    "import shutil\n",
    "\n",
    "totMem = virtual_memory().total\n",
    "availMem = virtual_memory().available\n",
    "\n",
    "folderName = 'Assets-'+assets+'--Hrzn-'+str(horizon)\n"
   ]
  },
  {
   "cell_type": "code",
   "execution_count": 3,
   "metadata": {},
   "outputs": [
    {
     "name": "stdout",
     "output_type": "stream",
     "text": [
      "clearing directories\n"
     ]
    }
   ],
   "source": [
    "\n",
    "##################################################################################\n",
    "#################              Clear directories          ########################\n",
    "##################################################################################\n",
    "print('clearing directories')\n",
    "try:\n",
    "    shutil.rmtree(os.path.join(uyulala.dataDir,'labeled',folderName))\n",
    "    os.makedirs(os.path.join(uyulala.dataDir,'labeled',folderName))\n",
    "except:\n",
    "    os.makedirs(os.path.join(uyulala.dataDir,'labeled',folderName))\n",
    "\n",
    "try:\n",
    "    shutil.rmtree(os.path.join(uyulala.modelsDir,folderName))\n",
    "    os.makedirs(os.path.join(uyulala.modelsDir,folderName))\n",
    "except:\n",
    "    os.makedirs(os.path.join(uyulala.modelsDir,folderName))\n"
   ]
  },
  {
   "cell_type": "code",
   "execution_count": 4,
   "metadata": {},
   "outputs": [
    {
     "name": "stdout",
     "output_type": "stream",
     "text": [
      "getting and transforming data\n",
      "making call: python /Users/Damian/Documents/uyulala/greatRiddleGate/leftSphnix.py --assets=Test --horizon=2 --start=2010-01-01\n"
     ]
    },
    {
     "data": {
      "text/plain": [
       "0"
      ]
     },
     "execution_count": 4,
     "metadata": {},
     "output_type": "execute_result"
    }
   ],
   "source": [
    "'''\n",
    "##################################################################################\n",
    "################# Get and transform data (run leftSphnix) ########################\n",
    "##################################################################################\n",
    "print('getting and transforming data')\n",
    "if assets!=\"Test\":\n",
    "    import warnings\n",
    "    warnings.filterwarnings(\"ignore\")\n",
    "\n",
    "\n",
    "filePath = os.path.join(uyulala.uyulalaDir,'greatRiddleGate','leftSphnix.py')\n",
    "print('making call: '+'python %s --assets=%s --horizon=%i --start=%s' % (filePath,assets,horizon,startDate))\n",
    "subprocess.call('python %s --assets=%s --horizon=%i --start=%s' % (filePath,assets,horizon,startDate), shell=True)\n",
    "\n",
    "'''"
   ]
  },
  {
   "cell_type": "code",
   "execution_count": 5,
   "metadata": {},
   "outputs": [
    {
     "name": "stdout",
     "output_type": "stream",
     "text": [
      "creating \n"
     ]
    }
   ],
   "source": [
    "\n",
    "##################################################################################\n",
    "########################       Create        ###############################\n",
    "##################################################################################\n",
    "print('creating ')\n",
    "\n",
    "evaluate = [ f.replace('.csv','') for f in os.listdir(os.path.join(uyulala.dataDir,'raw',folderName)) if f.endswith(\".csv\") ]\n"
   ]
  },
  {
   "cell_type": "code",
   "execution_count": 6,
   "metadata": {},
   "outputs": [],
   "source": [
    "\n",
    "def createLabels(asset=''):\n",
    "    try:\n",
    "        labeled = pandas.read_csv(os.path.join(uyulala.dataDir,'raw',folderName,asset+'.csv'),parse_dates=['DateCol']).set_index('DateCol',drop=False)\n",
    "        labeled = labeled.drop_duplicates(subset=['Date'], keep='last') # KEEP EVERYTHING BELOW THIS POINT IN ORDER\n",
    "        print('label for biggest loss') # Key Regression Field (what's the biggest loss?)\n",
    "        labeled = uyulala.lowPercentChange(df=labeled,horizon=horizon)\n",
    "        print('label for highest gain') # Key Regression Field (what's the predicted return?)\n",
    "        labeled = uyulala.percentChange(df=labeled,horizon=horizon,HighOrClose='High')\n",
    "        print('label for whether higest gain comes before biggest loss') # Key Classification Field (is it a good buy?)\n",
    "        labeled = uyulala.expectedReturnPct(df=labeled,horizon=horizon)\n",
    "        print('add weights column')  #add weights\n",
    "        labeled = uyulala.weights(df=labeled, horizon=horizon,weightForIncrease=1,weightForDecrease=2)\n",
    "        labeled = labeled.drop(['Open','High','Low','Close','Volume'],axis=1)\n",
    "        labeled['YearMo'] = labeled['DateCol'].dt.strftime('%Y%m')\n",
    "        labeled['Asset'] = labeled['Symbol']\n",
    "        labeled.to_parquet(os.path.join(uyulala.dataDir,'labeled',folderName),index=False,partition_cols=['YearMo','Asset'])\n",
    "        return asset\n",
    "    except:\n",
    "        print('unable to create label for '+asset)\n",
    "        pass\n",
    "\n",
    "\n"
   ]
  },
  {
   "cell_type": "code",
   "execution_count": null,
   "metadata": {},
   "outputs": [
    {
     "name": "stdout",
     "output_type": "stream",
     "text": [
      "labelling data\n",
      "label for biggest losslabel for biggest losslabel for biggest losslabel for biggest losslabel for biggest loss\n",
      "\n",
      "\n",
      "\n",
      "\n",
      "label for highest gainlabel for highest gainlabel for highest gainlabel for highest gainlabel for highest gain\n",
      "\n"
     ]
    }
   ],
   "source": [
    "\n",
    "print('labelling data')\n",
    "for i in range(0,len(evaluate),400):\n",
    "    l = evaluate[i:i+400]\n",
    "    pool = Pool(uyulala.availableCores,maxtasksperchild=1)\n",
    "    pool.map(createLabels, l)\n",
    "    pool.close()\n",
    "    pool.join()\n",
    "\n",
    "print('Done labelling data')\n"
   ]
  },
  {
   "cell_type": "code",
   "execution_count": 3,
   "metadata": {},
   "outputs": [
    {
     "name": "stdout",
     "output_type": "stream",
     "text": [
      "Checking whether there is an H2O instance running at http://localhost:54321 ..... not found.\n",
      "Attempting to start a local H2O server...\n",
      "  Java Version: java version \"1.8.0_101\"; Java(TM) SE Runtime Environment (build 1.8.0_101-b13); Java HotSpot(TM) 64-Bit Server VM (build 25.101-b13, mixed mode)\n",
      "  Starting server from /Users/Damian/opt/anaconda3/envs/uyulala/lib/python3.7/site-packages/h2o/backend/bin/h2o.jar\n",
      "  Ice root: /var/folders/5b/s4769fcn60d842cy18f7nc3h0000gn/T/tmpi0gfopzl\n",
      "  JVM stdout: /var/folders/5b/s4769fcn60d842cy18f7nc3h0000gn/T/tmpi0gfopzl/h2o_Damian_started_from_python.out\n",
      "  JVM stderr: /var/folders/5b/s4769fcn60d842cy18f7nc3h0000gn/T/tmpi0gfopzl/h2o_Damian_started_from_python.err\n",
      "  Server is running at http://127.0.0.1:54321\n",
      "Connecting to H2O server at http://127.0.0.1:54321 ... successful.\n"
     ]
    },
    {
     "data": {
      "text/html": [
       "<div style=\"overflow:auto\"><table style=\"width:50%\"><tr><td>H2O_cluster_uptime:</td>\n",
       "<td>05 secs</td></tr>\n",
       "<tr><td>H2O_cluster_timezone:</td>\n",
       "<td>America/Chicago</td></tr>\n",
       "<tr><td>H2O_data_parsing_timezone:</td>\n",
       "<td>UTC</td></tr>\n",
       "<tr><td>H2O_cluster_version:</td>\n",
       "<td>3.30.1.3</td></tr>\n",
       "<tr><td>H2O_cluster_version_age:</td>\n",
       "<td>27 days </td></tr>\n",
       "<tr><td>H2O_cluster_name:</td>\n",
       "<td>H2O_from_python_Damian_feic16</td></tr>\n",
       "<tr><td>H2O_cluster_total_nodes:</td>\n",
       "<td>1</td></tr>\n",
       "<tr><td>H2O_cluster_free_memory:</td>\n",
       "<td>6.223 Gb</td></tr>\n",
       "<tr><td>H2O_cluster_total_cores:</td>\n",
       "<td>24</td></tr>\n",
       "<tr><td>H2O_cluster_allowed_cores:</td>\n",
       "<td>24</td></tr>\n",
       "<tr><td>H2O_cluster_status:</td>\n",
       "<td>accepting new members, healthy</td></tr>\n",
       "<tr><td>H2O_connection_url:</td>\n",
       "<td>http://127.0.0.1:54321</td></tr>\n",
       "<tr><td>H2O_connection_proxy:</td>\n",
       "<td>{\"http\": null, \"https\": null}</td></tr>\n",
       "<tr><td>H2O_internal_security:</td>\n",
       "<td>False</td></tr>\n",
       "<tr><td>H2O_API_Extensions:</td>\n",
       "<td>Amazon S3, XGBoost, Algos, AutoML, Core V3, TargetEncoder, Core V4</td></tr>\n",
       "<tr><td>Python_version:</td>\n",
       "<td>3.7.6 final</td></tr></table></div>"
      ],
      "text/plain": [
       "--------------------------  ------------------------------------------------------------------\n",
       "H2O_cluster_uptime:         05 secs\n",
       "H2O_cluster_timezone:       America/Chicago\n",
       "H2O_data_parsing_timezone:  UTC\n",
       "H2O_cluster_version:        3.30.1.3\n",
       "H2O_cluster_version_age:    27 days\n",
       "H2O_cluster_name:           H2O_from_python_Damian_feic16\n",
       "H2O_cluster_total_nodes:    1\n",
       "H2O_cluster_free_memory:    6.223 Gb\n",
       "H2O_cluster_total_cores:    24\n",
       "H2O_cluster_allowed_cores:  24\n",
       "H2O_cluster_status:         accepting new members, healthy\n",
       "H2O_connection_url:         http://127.0.0.1:54321\n",
       "H2O_connection_proxy:       {\"http\": null, \"https\": null}\n",
       "H2O_internal_security:      False\n",
       "H2O_API_Extensions:         Amazon S3, XGBoost, Algos, AutoML, Core V3, TargetEncoder, Core V4\n",
       "Python_version:             3.7.6 final\n",
       "--------------------------  ------------------------------------------------------------------"
      ]
     },
     "metadata": {},
     "output_type": "display_data"
    }
   ],
   "source": [
    "\n",
    "##################################################################################\n",
    "##########################       Load Data       #################################\n",
    "##################################################################################\n",
    "try: h2o.cluster().shutdown()\n",
    "except: pass\n",
    "\n",
    "import h2o\n",
    "from h2o.automl import H2OAutoML\n",
    "from h2o.estimators.gbm import H2OGradientBoostingEstimator\n",
    "from h2o.grid.grid_search import H2OGridSearch\n",
    "from h2o.frame import H2OFrame\n",
    "\n",
    "try:\n",
    "    h2o.init(nthreads = -1,max_mem_size=\"%sG\" % int(totMem/1500000000/1.5),min_mem_size=\"%sG\" % int(availMem/1500000000/1.5))\n",
    "except:\n",
    "    time.sleep(20)\n",
    "    h2o.init(nthreads = -1,max_mem_size=\"%sG\" % int(totMem/1500000000/1.5),min_mem_size=\"%sG\" % int(availMem/1500000000/1.5))\n",
    "\n"
   ]
  },
  {
   "cell_type": "code",
   "execution_count": 4,
   "metadata": {},
   "outputs": [
    {
     "name": "stdout",
     "output_type": "stream",
     "text": [
      "full data size: 0.061800569gb\n"
     ]
    }
   ],
   "source": [
    "### IMPORT DATA FOR HYPERPARAMETER TUNING\n",
    "YrMos = [str(f)[-6:] for f in Path(os.path.join(uyulala.dataDir,'labeled',folderName)).glob('**/*') if f.is_dir()]\n",
    "YrMos = [f for f in YrMos if f.startswith('20') | f.startswith('19')]\n",
    "ootMonths = YrMos[-int(len(YrMos)*0.1):] #use latest 10% of months as holdout set\n",
    "\n",
    "dataSize = sum(f.stat().st_size for f in Path(os.path.join(uyulala.dataDir,'transformed',folderName)).glob('**/*') if f.is_file() \\\n",
    "               & ~any([x in str(f) for x in ['YearMo=' + sub for sub in ootMonths] ]) ) \\\n",
    "            + sum(f.stat().st_size for f in Path(os.path.join(uyulala.dataDir,'labeled',folderName)).glob('**/*') if f.is_file() \\\n",
    "               & ~any([x in str(f) for x in ['YearMo=' + sub for sub in ootMonths] ]) )\n",
    "ratio = ((availMem/2000000000) / (20.0000000000000)) / (dataSize/1000000000)\n",
    "print('full data size: {}gb'.format(dataSize/1000000000.00))\n",
    "\n",
    "transformed_files = ['YearMo='+str(f).split('YearMo=')[1] for f in Path(os.path.join(uyulala.dataDir,'transformed',folderName)).glob('**/*') if f.is_file() \\\n",
    "               & ~any([x in str(f) for x in ['YearMo=' + sub for sub in ootMonths] ]) ]\n",
    "\n",
    "if ratio < 0.98:\n",
    "    print('reducing file size by {}%'.format(100*(1-ratio)))\n",
    "    k=math.ceil(len(transformed_files)*ratio)\n",
    "    sampledFiles=random.choices(transformed_files, k=max(1,min(k,len(transformed_files))))\n",
    "else:\n",
    "    sampledFiles=transformed_files\n",
    "#print('Files to use: {}'.format(sampledFiles))"
   ]
  },
  {
   "cell_type": "code",
   "execution_count": 5,
   "metadata": {},
   "outputs": [
    {
     "name": "stdout",
     "output_type": "stream",
     "text": [
      "Parse progress: |█████████████████████████████████████████████████████████| 100%\n"
     ]
    },
    {
     "name": "stderr",
     "output_type": "stream",
     "text": [
      "/Users/Damian/opt/anaconda3/envs/uyulala/lib/python3.7/site-packages/h2o/job.py:70: UserWarning: ParseError at file nfs://Users/Damian/Documents/uyulala/data/transformed/Assets-Test--Hrzn-2/YearMo=201001/Asset=AAPL/22a11e605b1d47c3a1e9a89b35987348.parquet; error = 'Unsupported type override (Numeric -> Enum). Column DateCol will be parsed as Numeric'\n",
      "  warnings.warn(w)\n"
     ]
    },
    {
     "name": "stdout",
     "output_type": "stream",
     "text": [
      "Parse progress: |█████████████████████████████████████████████████████████| 100%\n"
     ]
    },
    {
     "name": "stderr",
     "output_type": "stream",
     "text": [
      "/Users/Damian/opt/anaconda3/envs/uyulala/lib/python3.7/site-packages/h2o/job.py:70: UserWarning: ParseError at file nfs://Users/Damian/Documents/uyulala/data/labeled/Assets-Test--Hrzn-2/YearMo=201001/Asset=AAPL/04dd8b55e0574897b9daff7104104b0f.parquet; error = 'Unsupported type override (Numeric -> Enum). Column DateCol will be parsed as Numeric'\n",
      "  warnings.warn(w)\n"
     ]
    },
    {
     "data": {
      "text/html": [
       "<table>\n",
       "<thead>\n",
       "<tr><th>Symbol  </th><th>Date      </th><th style=\"text-align: right;\">    DateCol</th><th style=\"text-align: right;\">  feat_Open</th><th style=\"text-align: right;\">  feat_High</th><th style=\"text-align: right;\">  feat_Low</th><th style=\"text-align: right;\">  feat_Close</th><th style=\"text-align: right;\">  feat_Volume</th><th style=\"text-align: right;\">  feat_VROC11</th><th style=\"text-align: right;\">  feat_VROC7</th><th style=\"text-align: right;\">  feat_VROC5</th><th style=\"text-align: right;\">  feat_VROC3</th><th style=\"text-align: right;\">  feat_PROC11</th><th style=\"text-align: right;\">  feat_PROC7</th><th style=\"text-align: right;\">  feat_PROC2</th><th style=\"text-align: right;\">  feat_PROC3</th><th style=\"text-align: right;\">  feat_DOW</th><th style=\"text-align: right;\">  feat_RSIg7</th><th style=\"text-align: right;\">  feat_RSIg5</th><th style=\"text-align: right;\">  feat_RSIg3</th><th style=\"text-align: right;\">  feat_RSI17</th><th style=\"text-align: right;\">  feat_RSI13</th><th style=\"text-align: right;\">  feat_RSI11</th><th style=\"text-align: right;\">  feat_Close11/19SMARatio</th><th style=\"text-align: right;\">  feat_Close5/11SMARatio</th><th style=\"text-align: right;\">  feat_Close3/7SMARatio</th><th style=\"text-align: right;\">  feat_Close2PctFromSMA</th><th style=\"text-align: right;\">  feat_Close4PctFromSMA</th><th style=\"text-align: right;\">  feat_Close8PctFromSMA</th><th style=\"text-align: right;\">  feat_10CCI</th><th style=\"text-align: right;\">  feat_6CCI</th><th style=\"text-align: right;\">  feat_3CCI</th><th style=\"text-align: right;\">  feat_10FI</th><th style=\"text-align: right;\">  feat_6FI</th><th style=\"text-align: right;\">  feat_3FI</th><th style=\"text-align: right;\">  feat_10EMV</th><th style=\"text-align: right;\">   feat_6EMV</th><th style=\"text-align: right;\">   feat_3EMV</th><th style=\"text-align: right;\">  feat_Close10PctFromUpperBB</th><th style=\"text-align: right;\">  feat_Close10PctFromLowerBB</th><th style=\"text-align: right;\">  feat_Close10BBBandwidth</th><th style=\"text-align: right;\">  feat_Close10PctB</th><th style=\"text-align: right;\">  feat_Close6PctFromUpperBB</th><th style=\"text-align: right;\">  feat_Close6PctFromLowerBB</th><th style=\"text-align: right;\">  feat_Close6BBBandwidth</th><th style=\"text-align: right;\">  feat_Close6PctB</th><th style=\"text-align: right;\">  feat_Close3PctFromUpperBB</th><th style=\"text-align: right;\">  feat_Close3PctFromLowerBB</th><th style=\"text-align: right;\">  feat_Close3BBBandwidth</th><th style=\"text-align: right;\">  feat_Close3PctB</th><th style=\"text-align: right;\">  feat_DIRatio17</th><th style=\"text-align: right;\">  feat_ADX17</th><th style=\"text-align: right;\">  feat_DMI17</th><th style=\"text-align: right;\">  feat_AdjATR17</th><th style=\"text-align: right;\">  feat_DIRatio14</th><th style=\"text-align: right;\">  feat_ADX14</th><th style=\"text-align: right;\">  feat_DMI14</th><th style=\"text-align: right;\">  feat_AdjATR14</th><th style=\"text-align: right;\">  feat_DIRatio11</th><th style=\"text-align: right;\">  feat_ADX11</th><th style=\"text-align: right;\">  feat_DMI11</th><th style=\"text-align: right;\">  feat_AdjATR11</th><th style=\"text-align: right;\">  feat_DIRatio9</th><th style=\"text-align: right;\">  feat_ADX9</th><th style=\"text-align: right;\">  feat_DMI9</th><th style=\"text-align: right;\">  feat_AdjATR9</th><th style=\"text-align: right;\">  feat_DIRatio7</th><th style=\"text-align: right;\">  feat_ADX7</th><th style=\"text-align: right;\">   feat_DMI7</th><th style=\"text-align: right;\">  feat_AdjATR7</th><th style=\"text-align: right;\">  feat_DIRatio5</th><th style=\"text-align: right;\">  feat_ADX5</th><th style=\"text-align: right;\">  feat_DMI5</th><th style=\"text-align: right;\">  feat_AdjATR5</th><th style=\"text-align: right;\">  feat_DIRatio4</th><th style=\"text-align: right;\">  feat_ADX4</th><th style=\"text-align: right;\">  feat_DMI4</th><th style=\"text-align: right;\">  feat_AdjATR4</th><th style=\"text-align: right;\">  feat_DIRatio3</th><th style=\"text-align: right;\">  feat_ADX3</th><th style=\"text-align: right;\">  feat_DMI3</th><th style=\"text-align: right;\">  feat_AdjATR3</th><th style=\"text-align: right;\">  feat_DIRatio2</th><th style=\"text-align: right;\">  feat_ADX2</th><th style=\"text-align: right;\">  feat_DMI2</th><th style=\"text-align: right;\">  feat_AdjATR2</th><th style=\"text-align: right;\">  feat_Close91226MACD</th><th style=\"text-align: right;\">  feat_Close71123MACD</th><th style=\"text-align: right;\">  feat_235MACDg</th><th style=\"text-align: right;\">  feat_357MACDg</th><th style=\"text-align: right;\">  feat_5711MACDg</th><th style=\"text-align: right;\">  feat_11StocOsc</th><th style=\"text-align: right;\">  feat_11StocOscRatio</th><th style=\"text-align: right;\">  feat_7StocOsc</th><th style=\"text-align: right;\">  feat_7StocOscRatio</th><th style=\"text-align: right;\">  feat_5StocOsc</th><th style=\"text-align: right;\">  feat_5StocOscRatio</th><th style=\"text-align: right;\">  feat_3StocOsc</th><th style=\"text-align: right;\">  feat_3StocOscRatio</th><th style=\"text-align: right;\">  feat_11PriceChannelDist</th><th style=\"text-align: right;\">  feat_7PriceChannelDist</th><th style=\"text-align: right;\">  feat_5PriceChannelDist</th><th style=\"text-align: right;\">  feat_3PriceChannelDist</th><th style=\"text-align: right;\">  feat_PSAR</th><th style=\"text-align: right;\">  feat_10ADL</th><th style=\"text-align: right;\">  feat_10CMF</th><th style=\"text-align: right;\">  feat_10ChaikinOscillator</th><th style=\"text-align: right;\">  feat_5ADL</th><th style=\"text-align: right;\">  feat_5CMF</th><th style=\"text-align: right;\">  feat_5ChaikinOscillator</th><th style=\"text-align: right;\">  feat_10AroonUp</th><th style=\"text-align: right;\">  feat_10AroonDown</th><th style=\"text-align: right;\">  feat_10AroonOscillator</th><th style=\"text-align: right;\">  feat_5AroonUp</th><th style=\"text-align: right;\">  feat_5AroonDown</th><th style=\"text-align: right;\">  feat_5AroonOscillator</th><th style=\"text-align: right;\">  feat_autocorr10High1</th><th style=\"text-align: right;\">  feat_autocorr5High1</th><th style=\"text-align: right;\">  feat_autocorr5High2</th><th style=\"text-align: right;\">  feat_autocorr3High1</th><th style=\"text-align: right;\">  feat_autocorr3High2</th><th style=\"text-align: right;\">  feat_autocorr3High3</th><th style=\"text-align: right;\">  feat_autocorr2High2</th><th style=\"text-align: right;\">  feat_autocorr2High1</th><th style=\"text-align: right;\">  lab_lowPercentChange_H2</th><th style=\"text-align: right;\">  lab_percentChange_H2High</th><th>lab_expectedReturnPct_H2  </th><th style=\"text-align: right;\">  weights</th></tr>\n",
       "</thead>\n",
       "<tbody>\n",
       "<tr><td>AAPL    </td><td>2010-01-29</td><td style=\"text-align: right;\">1.26472e+15</td><td style=\"text-align: right;\">       6.21</td><td style=\"text-align: right;\">       6.24</td><td style=\"text-align: right;\">      5.87</td><td style=\"text-align: right;\">        5.93</td><td style=\"text-align: right;\">  1.24595e+09</td><td style=\"text-align: right;\">     1.05639 </td><td style=\"text-align: right;\">    1.03536 </td><td style=\"text-align: right;\">    0.413017</td><td style=\"text-align: right;\">  -0.332684 </td><td style=\"text-align: right;\">   -0.0414747</td><td style=\"text-align: right;\"> -0.0616541 </td><td style=\"text-align: right;\"> -0.04      </td><td style=\"text-align: right;\"> -0.0545455 </td><td style=\"text-align: right;\">         5</td><td style=\"text-align: right;\">     28.5714</td><td style=\"text-align: right;\">     40.8602</td><td style=\"text-align: right;\">     17.9104</td><td style=\"text-align: right;\">     33.9535</td><td style=\"text-align: right;\">     35.7513</td><td style=\"text-align: right;\">     33.8983</td><td style=\"text-align: right;\">              -0.00624869</td><td style=\"text-align: right;\">            -0.00835469 </td><td style=\"text-align: right;\">           -0.00556729 </td><td style=\"text-align: right;\">            -0.0182119 </td><td style=\"text-align: right;\">            -0.0458568 </td><td style=\"text-align: right;\">            -0.0546034 </td><td style=\"text-align: right;\">   -126.409 </td><td style=\"text-align: right;\"> -108.512  </td><td style=\"text-align: right;\">   -69.0777</td><td style=\"text-align: right;\">  0.0214999</td><td style=\"text-align: right;\">0.0165793 </td><td style=\"text-align: right;\">0.00946995</td><td style=\"text-align: right;\"> -0.0113371 </td><td style=\"text-align: right;\">-0.0229038  </td><td style=\"text-align: right;\">-0.043297   </td><td style=\"text-align: right;\">                 -0.120238  </td><td style=\"text-align: right;\">                  0.00584483</td><td style=\"text-align: right;\">                 13.3732 </td><td style=\"text-align: right;\">         0.0407832</td><td style=\"text-align: right;\">                -0.0970525 </td><td style=\"text-align: right;\">                  0.0149558</td><td style=\"text-align: right;\">                11.6803 </td><td style=\"text-align: right;\">         0.120565</td><td style=\"text-align: right;\">                -0.109277  </td><td style=\"text-align: right;\">                  0.0447835</td><td style=\"text-align: right;\">                15.9194 </td><td style=\"text-align: right;\">         0.258921</td><td style=\"text-align: right;\">        -41.5142</td><td style=\"text-align: right;\">     44.924 </td><td style=\"text-align: right;\">   -18.6498 </td><td style=\"text-align: right;\">      0.0324032</td><td style=\"text-align: right;\">        -41.4171</td><td style=\"text-align: right;\">     43.9512</td><td style=\"text-align: right;\">   -18.2033 </td><td style=\"text-align: right;\">      0.0358748</td><td style=\"text-align: right;\">       -40.6747 </td><td style=\"text-align: right;\">     42.2358</td><td style=\"text-align: right;\">   -17.1793 </td><td style=\"text-align: right;\">      0.0392435</td><td style=\"text-align: right;\">      -39.4963 </td><td style=\"text-align: right;\">    40.4135</td><td style=\"text-align: right;\"> -15.9619  </td><td style=\"text-align: right;\">     0.0440468</td><td style=\"text-align: right;\">     -37.6183  </td><td style=\"text-align: right;\">    38.4104</td><td style=\"text-align: right;\">-14.4493    </td><td style=\"text-align: right;\">     0.0467407</td><td style=\"text-align: right;\">      -36.3066 </td><td style=\"text-align: right;\">    39.7738</td><td style=\"text-align: right;\">  -14.4405 </td><td style=\"text-align: right;\">     0.0490369</td><td style=\"text-align: right;\">      -38.1593 </td><td style=\"text-align: right;\">    43.262 </td><td style=\"text-align: right;\"> -16.5085  </td><td style=\"text-align: right;\">     0.0525935</td><td style=\"text-align: right;\">      -46.313  </td><td style=\"text-align: right;\">    52.3854</td><td style=\"text-align: right;\">  -24.2613 </td><td style=\"text-align: right;\">     0.052448 </td><td style=\"text-align: right;\">      -70.2081 </td><td style=\"text-align: right;\">    73.9173</td><td style=\"text-align: right;\"> -51.8959  </td><td style=\"text-align: right;\">     0.0525181</td><td style=\"text-align: right;\">           0.318865  </td><td style=\"text-align: right;\">            0.272589 </td><td style=\"text-align: right;\">     0.215742  </td><td style=\"text-align: right;\">      0.213029 </td><td style=\"text-align: right;\">       0.251032 </td><td style=\"text-align: right;\">         7.69231</td><td style=\"text-align: right;\">          -0.710169  </td><td style=\"text-align: right;\">        8.21918</td><td style=\"text-align: right;\">          -0.692354 </td><td style=\"text-align: right;\">        8.21918</td><td style=\"text-align: right;\">          -0.716793 </td><td style=\"text-align: right;\">        9.52381</td><td style=\"text-align: right;\">        -0.607913   </td><td style=\"text-align: right;\">               -0.0527157</td><td style=\"text-align: right;\">              -0.0489174</td><td style=\"text-align: right;\">             -0.0489174 </td><td style=\"text-align: right;\">             -0.0412288 </td><td style=\"text-align: right;\"> -0.100866 </td><td style=\"text-align: right;\"> -0.327443  </td><td style=\"text-align: right;\"> -0.234136  </td><td style=\"text-align: right;\">               0          </td><td style=\"text-align: right;\">-0.17178   </td><td style=\"text-align: right;\"> -0.179354 </td><td style=\"text-align: right;\">                0.0685022</td><td style=\"text-align: right;\">              30</td><td style=\"text-align: right;\">               100</td><td style=\"text-align: right;\">                     -70</td><td style=\"text-align: right;\">             40</td><td style=\"text-align: right;\">              100</td><td style=\"text-align: right;\">                    -60</td><td style=\"text-align: right;\">              0.462217</td><td style=\"text-align: right;\">            0.110884 </td><td style=\"text-align: right;\">            -0.722802</td><td style=\"text-align: right;\">            0.965116 </td><td style=\"text-align: right;\">           -0.730831 </td><td style=\"text-align: right;\">            -0.592137</td><td style=\"text-align: right;\">                    1</td><td style=\"text-align: right;\">                    1</td><td style=\"text-align: right;\">              -0.00673401</td><td style=\"text-align: right;\">                0.020202  </td><td>n0                        </td><td style=\"text-align: right;\">        1</td></tr>\n",
       "<tr><td>AAPL    </td><td>2010-02-01</td><td style=\"text-align: right;\">1.26498e+15</td><td style=\"text-align: right;\">       5.94</td><td style=\"text-align: right;\">       6.05</td><td style=\"text-align: right;\">      5.9 </td><td style=\"text-align: right;\">        6.01</td><td style=\"text-align: right;\">  7.49876e+08</td><td style=\"text-align: right;\">     0.73224 </td><td style=\"text-align: right;\">    0.233036</td><td style=\"text-align: right;\">   -0.296353</td><td style=\"text-align: right;\">  -0.564675 </td><td style=\"text-align: right;\">   -0.0692308</td><td style=\"text-align: right;\"> -0.0805471 </td><td style=\"text-align: right;\"> -0.0457413 </td><td style=\"text-align: right;\"> -0.0692308 </td><td style=\"text-align: right;\">         1</td><td style=\"text-align: right;\">     34.5865</td><td style=\"text-align: right;\">     34.5238</td><td style=\"text-align: right;\">     20.2899</td><td style=\"text-align: right;\">     38.2075</td><td style=\"text-align: right;\">     39.6907</td><td style=\"text-align: right;\">     37.5691</td><td style=\"text-align: right;\">              -0.00706215</td><td style=\"text-align: right;\">            -0.0093068  </td><td style=\"text-align: right;\">           -0.0120538  </td><td style=\"text-align: right;\">             0.00670017</td><td style=\"text-align: right;\">            -0.0191758 </td><td style=\"text-align: right;\">            -0.0318164 </td><td style=\"text-align: right;\">   -102.339 </td><td style=\"text-align: right;\">  -83.7009 </td><td style=\"text-align: right;\">   -45.6555</td><td style=\"text-align: right;\">  0.0197697</td><td style=\"text-align: right;\">0.0148737 </td><td style=\"text-align: right;\">0.0113073 </td><td style=\"text-align: right;\"> -0.0124845 </td><td style=\"text-align: right;\">-0.016851   </td><td style=\"text-align: right;\">-0.0392331  </td><td style=\"text-align: right;\">                 -0.109107  </td><td style=\"text-align: right;\">                  0.0326528 </td><td style=\"text-align: right;\">                 14.7394 </td><td style=\"text-align: right;\">         0.205208 </td><td style=\"text-align: right;\">                -0.0865798 </td><td style=\"text-align: right;\">                  0.0361473</td><td style=\"text-align: right;\">                12.5902 </td><td style=\"text-align: right;\">         0.269033</td><td style=\"text-align: right;\">                -0.0388169 </td><td style=\"text-align: right;\">                  0.0349062</td><td style=\"text-align: right;\">                 7.38675</td><td style=\"text-align: right;\">         0.455099</td><td style=\"text-align: right;\">        -42.1464</td><td style=\"text-align: right;\">     45.132 </td><td style=\"text-align: right;\">   -19.0215 </td><td style=\"text-align: right;\">      0.0326214</td><td style=\"text-align: right;\">        -42.2515</td><td style=\"text-align: right;\">     44.4239</td><td style=\"text-align: right;\">   -18.7697 </td><td style=\"text-align: right;\">      0.0361237</td><td style=\"text-align: right;\">       -42.037  </td><td style=\"text-align: right;\">     43.3295</td><td style=\"text-align: right;\">   -18.2145 </td><td style=\"text-align: right;\">      0.0407981</td><td style=\"text-align: right;\">      -41.6998 </td><td style=\"text-align: right;\">    42.4309</td><td style=\"text-align: right;\"> -17.6936  </td><td style=\"text-align: right;\">     0.0421162</td><td style=\"text-align: right;\">     -41.6801  </td><td style=\"text-align: right;\">    42.2733</td><td style=\"text-align: right;\">-17.6196    </td><td style=\"text-align: right;\">     0.0461575</td><td style=\"text-align: right;\">      -44.6336 </td><td style=\"text-align: right;\">    46.9446</td><td style=\"text-align: right;\">  -20.9531 </td><td style=\"text-align: right;\">     0.0470335</td><td style=\"text-align: right;\">      -50.1768 </td><td style=\"text-align: right;\">    53.2383</td><td style=\"text-align: right;\"> -26.7133  </td><td style=\"text-align: right;\">     0.0455343</td><td style=\"text-align: right;\">      -62.5215 </td><td style=\"text-align: right;\">    65.5577</td><td style=\"text-align: right;\">  -40.9877 </td><td style=\"text-align: right;\">     0.0432765</td><td style=\"text-align: right;\">      -85.121  </td><td style=\"text-align: right;\">    86.3574</td><td style=\"text-align: right;\"> -73.5083  </td><td style=\"text-align: right;\">     0.0420441</td><td style=\"text-align: right;\">           0.290946  </td><td style=\"text-align: right;\">            0.239662 </td><td style=\"text-align: right;\">     0.0786703 </td><td style=\"text-align: right;\">      0.147925 </td><td style=\"text-align: right;\">       0.230613 </td><td style=\"text-align: right;\">        17.9487 </td><td style=\"text-align: right;\">           0.419929  </td><td style=\"text-align: right;\">       19.1781 </td><td style=\"text-align: right;\">           0.45003  </td><td style=\"text-align: right;\">       19.1781 </td><td style=\"text-align: right;\">           0.408124 </td><td style=\"text-align: right;\">       29.7872 </td><td style=\"text-align: right;\">         1.05116    </td><td style=\"text-align: right;\">               -0.0399361</td><td style=\"text-align: right;\">              -0.0360866</td><td style=\"text-align: right;\">             -0.0360866 </td><td style=\"text-align: right;\">             -0.015561  </td><td style=\"text-align: right;\"> -0.0847101</td><td style=\"text-align: right;\"> -0.194253  </td><td style=\"text-align: right;\"> -0.148324  </td><td style=\"text-align: right;\">               0.0155388  </td><td style=\"text-align: right;\">-0.198123  </td><td style=\"text-align: right;\"> -0.18101  </td><td style=\"text-align: right;\">                0.0279967</td><td style=\"text-align: right;\">              20</td><td style=\"text-align: right;\">                90</td><td style=\"text-align: right;\">                     -70</td><td style=\"text-align: right;\">             20</td><td style=\"text-align: right;\">               80</td><td style=\"text-align: right;\">                    -60</td><td style=\"text-align: right;\">              0.673402</td><td style=\"text-align: right;\">            0.502528 </td><td style=\"text-align: right;\">            -0.062761</td><td style=\"text-align: right;\">            0.95241  </td><td style=\"text-align: right;\">            0.998995 </td><td style=\"text-align: right;\">            -0.487992</td><td style=\"text-align: right;\">                    1</td><td style=\"text-align: right;\">                    1</td><td style=\"text-align: right;\">              -0.0132231 </td><td style=\"text-align: right;\">                0.0214876 </td><td>n-1                       </td><td style=\"text-align: right;\">        1</td></tr>\n",
       "<tr><td>AAPL    </td><td>2010-02-02</td><td style=\"text-align: right;\">1.26507e+15</td><td style=\"text-align: right;\">       6.05</td><td style=\"text-align: right;\">       6.06</td><td style=\"text-align: right;\">      5.97</td><td style=\"text-align: right;\">        6.04</td><td style=\"text-align: right;\">  6.98342e+08</td><td style=\"text-align: right;\">     0.175527</td><td style=\"text-align: right;\">   -0.20802 </td><td style=\"text-align: right;\">   -0.625977</td><td style=\"text-align: right;\">  -0.404908 </td><td style=\"text-align: right;\">   -0.0719755</td><td style=\"text-align: right;\"> -0.053125  </td><td style=\"text-align: right;\"> -0.0288462 </td><td style=\"text-align: right;\"> -0.044164  </td><td style=\"text-align: right;\">         2</td><td style=\"text-align: right;\">     47.1698</td><td style=\"text-align: right;\">     30     </td><td style=\"text-align: right;\">     38.2979</td><td style=\"text-align: right;\">     39.2523</td><td style=\"text-align: right;\">     37.766 </td><td style=\"text-align: right;\">     40.8046</td><td style=\"text-align: right;\">              -0.0069817 </td><td style=\"text-align: right;\">            -0.0121987  </td><td style=\"text-align: right;\">           -0.0144088  </td><td style=\"text-align: right;\">             0.00248963</td><td style=\"text-align: right;\">             0.00124327</td><td style=\"text-align: right;\">            -0.0194805 </td><td style=\"text-align: right;\">    -74.8634</td><td style=\"text-align: right;\">  -51.2046 </td><td style=\"text-align: right;\">    54.713 </td><td style=\"text-align: right;\">  0.0160368</td><td style=\"text-align: right;\">0.0108711 </td><td style=\"text-align: right;\">0.0062963 </td><td style=\"text-align: right;\"> -0.0133829 </td><td style=\"text-align: right;\">-0.0159471  </td><td style=\"text-align: right;\">-0.0286926  </td><td style=\"text-align: right;\">                 -0.0893855 </td><td style=\"text-align: right;\">                  0.0390296 </td><td style=\"text-align: right;\">                 13.1732 </td><td style=\"text-align: right;\">         0.276766 </td><td style=\"text-align: right;\">                -0.0776851 </td><td style=\"text-align: right;\">                  0.0495962</td><td style=\"text-align: right;\">                12.9094 </td><td style=\"text-align: right;\">         0.359388</td><td style=\"text-align: right;\">                -0.0109804 </td><td style=\"text-align: right;\">                  0.0272793</td><td style=\"text-align: right;\">                 3.79504</td><td style=\"text-align: right;\">         0.705174</td><td style=\"text-align: right;\">        -41.9258</td><td style=\"text-align: right;\">     44.545 </td><td style=\"text-align: right;\">   -18.6758 </td><td style=\"text-align: right;\">      0.0326855</td><td style=\"text-align: right;\">        -41.9135</td><td style=\"text-align: right;\">     43.7787</td><td style=\"text-align: right;\">   -18.3492 </td><td style=\"text-align: right;\">      0.0359701</td><td style=\"text-align: right;\">       -41.5508 </td><td style=\"text-align: right;\">     42.6221</td><td style=\"text-align: right;\">   -17.7098 </td><td style=\"text-align: right;\">      0.0396424</td><td style=\"text-align: right;\">      -41.0747 </td><td style=\"text-align: right;\">    41.6579</td><td style=\"text-align: right;\"> -17.1109  </td><td style=\"text-align: right;\">     0.0407588</td><td style=\"text-align: right;\">     -40.7021  </td><td style=\"text-align: right;\">    41.1466</td><td style=\"text-align: right;\">-16.7475    </td><td style=\"text-align: right;\">     0.0406899</td><td style=\"text-align: right;\">      -41.6642 </td><td style=\"text-align: right;\">    43.2046</td><td style=\"text-align: right;\">  -18.0009 </td><td style=\"text-align: right;\">     0.0393978</td><td style=\"text-align: right;\">      -43.0551 </td><td style=\"text-align: right;\">    44.8919</td><td style=\"text-align: right;\"> -19.3283  </td><td style=\"text-align: right;\">     0.0361703</td><td style=\"text-align: right;\">      -42.3272 </td><td style=\"text-align: right;\">    43.8452</td><td style=\"text-align: right;\">  -18.5584 </td><td style=\"text-align: right;\">     0.0329799</td><td style=\"text-align: right;\">      -18.7937 </td><td style=\"text-align: right;\">    38.3658</td><td style=\"text-align: right;\">  -7.21034 </td><td style=\"text-align: right;\">     0.0198224</td><td style=\"text-align: right;\">           0.245126  </td><td style=\"text-align: right;\">            0.191633 </td><td style=\"text-align: right;\">    -0.0413305 </td><td style=\"text-align: right;\">      0.0478716</td><td style=\"text-align: right;\">       0.151407 </td><td style=\"text-align: right;\">        21.7949 </td><td style=\"text-align: right;\">           0.378378  </td><td style=\"text-align: right;\">       23.2877 </td><td style=\"text-align: right;\">           0.378378 </td><td style=\"text-align: right;\">       26.9841 </td><td style=\"text-align: right;\">           0.488605 </td><td style=\"text-align: right;\">       45.9459 </td><td style=\"text-align: right;\">         0.616734   </td><td style=\"text-align: right;\">               -0.0351438</td><td style=\"text-align: right;\">              -0.0312751</td><td style=\"text-align: right;\">             -0.0234438 </td><td style=\"text-align: right;\">             -0.00247729</td><td style=\"text-align: right;\"> -0.0762233</td><td style=\"text-align: right;\"> -0.290507  </td><td style=\"text-align: right;\"> -0.180957  </td><td style=\"text-align: right;\">               0.000505782</td><td style=\"text-align: right;\"> 0.00901638</td><td style=\"text-align: right;\"> -0.0253977</td><td style=\"text-align: right;\">                0.156353 </td><td style=\"text-align: right;\">              10</td><td style=\"text-align: right;\">                80</td><td style=\"text-align: right;\">                     -70</td><td style=\"text-align: right;\">             20</td><td style=\"text-align: right;\">               60</td><td style=\"text-align: right;\">                    -40</td><td style=\"text-align: right;\">              0.779028</td><td style=\"text-align: right;\">            0.936664 </td><td style=\"text-align: right;\">             0.352342</td><td style=\"text-align: right;\">            0.733273 </td><td style=\"text-align: right;\">            0.905635 </td><td style=\"text-align: right;\">             0.763015</td><td style=\"text-align: right;\">                   -1</td><td style=\"text-align: right;\">                   -1</td><td style=\"text-align: right;\">              -0.0182724 </td><td style=\"text-align: right;\">                0.0265781 </td><td>p2                        </td><td style=\"text-align: right;\">        2</td></tr>\n",
       "<tr><td>AAPL    </td><td>2010-02-03</td><td style=\"text-align: right;\">1.26516e+15</td><td style=\"text-align: right;\">       6.02</td><td style=\"text-align: right;\">       6.18</td><td style=\"text-align: right;\">      6   </td><td style=\"text-align: right;\">        6.15</td><td style=\"text-align: right;\">  6.15328e+08</td><td style=\"text-align: right;\">    -0.157094</td><td style=\"text-align: right;\">   -0.422607</td><td style=\"text-align: right;\">   -0.642785</td><td style=\"text-align: right;\">  -0.506138 </td><td style=\"text-align: right;\">   -0.0692771</td><td style=\"text-align: right;\"> -0.0221519 </td><td style=\"text-align: right;\">  0.0214876 </td><td style=\"text-align: right;\"> -0.00961538</td><td style=\"text-align: right;\">         3</td><td style=\"text-align: right;\">     44.2308</td><td style=\"text-align: right;\">     34.8315</td><td style=\"text-align: right;\">     89.2857</td><td style=\"text-align: right;\">     41.1765</td><td style=\"text-align: right;\">     42.0513</td><td style=\"text-align: right;\">     34.3949</td><td style=\"text-align: right;\">              -0.00905731</td><td style=\"text-align: right;\">            -0.0130671  </td><td style=\"text-align: right;\">           -0.00693741 </td><td style=\"text-align: right;\">             0.00902379</td><td style=\"text-align: right;\">             0.0194778 </td><td style=\"text-align: right;\">            -0.00263531</td><td style=\"text-align: right;\">    -36.0081</td><td style=\"text-align: right;\">   -3.08695</td><td style=\"text-align: right;\">    73.6842</td><td style=\"text-align: right;\">  0.0159094</td><td style=\"text-align: right;\">0.0122875 </td><td style=\"text-align: right;\">0.0150361 </td><td style=\"text-align: right;\"> -0.011699  </td><td style=\"text-align: right;\">-0.0174184  </td><td style=\"text-align: right;\"> 0.000938243</td><td style=\"text-align: right;\">                 -0.0588243 </td><td style=\"text-align: right;\">                  0.0538727 </td><td style=\"text-align: right;\">                 11.2977 </td><td style=\"text-align: right;\">         0.449911 </td><td style=\"text-align: right;\">                -0.0478132 </td><td style=\"text-align: right;\">                  0.0650242</td><td style=\"text-align: right;\">                11.1875 </td><td style=\"text-align: right;\">         0.548712</td><td style=\"text-align: right;\">                -0.0103135 </td><td style=\"text-align: right;\">                  0.038984 </td><td style=\"text-align: right;\">                 4.86008</td><td style=\"text-align: right;\">         0.782635</td><td style=\"text-align: right;\">        -37.9301</td><td style=\"text-align: right;\">     40.2315</td><td style=\"text-align: right;\">   -15.2598 </td><td style=\"text-align: right;\">      0.0335893</td><td style=\"text-align: right;\">        -36.5615</td><td style=\"text-align: right;\">     38.165 </td><td style=\"text-align: right;\">   -13.9537 </td><td style=\"text-align: right;\">      0.0357464</td><td style=\"text-align: right;\">       -33.7299 </td><td style=\"text-align: right;\">     36.1025</td><td style=\"text-align: right;\">   -12.1773 </td><td style=\"text-align: right;\">      0.0384567</td><td style=\"text-align: right;\">      -30.2407 </td><td style=\"text-align: right;\">    35.7914</td><td style=\"text-align: right;\"> -10.8235  </td><td style=\"text-align: right;\">     0.0407867</td><td style=\"text-align: right;\">     -24.2781  </td><td style=\"text-align: right;\">    37.0597</td><td style=\"text-align: right;\"> -8.99738   </td><td style=\"text-align: right;\">     0.0398779</td><td style=\"text-align: right;\">      -13.0883 </td><td style=\"text-align: right;\">    43.4852</td><td style=\"text-align: right;\">   -5.69149</td><td style=\"text-align: right;\">     0.0347615</td><td style=\"text-align: right;\">       -2.74848</td><td style=\"text-align: right;\">    50.019 </td><td style=\"text-align: right;\">  -1.37476 </td><td style=\"text-align: right;\">     0.0320165</td><td style=\"text-align: right;\">       16.1142 </td><td style=\"text-align: right;\">    59.2003</td><td style=\"text-align: right;\">    9.53965</td><td style=\"text-align: right;\">     0.0229237</td><td style=\"text-align: right;\">       55.2106 </td><td style=\"text-align: right;\">    74.2638</td><td style=\"text-align: right;\">  41.0015  </td><td style=\"text-align: right;\">     0.0219888</td><td style=\"text-align: right;\">           0.172134  </td><td style=\"text-align: right;\">            0.118074 </td><td style=\"text-align: right;\">    -0.205572  </td><td style=\"text-align: right;\">     -0.0606142</td><td style=\"text-align: right;\">       0.0610807</td><td style=\"text-align: right;\">        35.8974 </td><td style=\"text-align: right;\">           0.423729  </td><td style=\"text-align: right;\">       38.3562 </td><td style=\"text-align: right;\">           0.423729 </td><td style=\"text-align: right;\">       59.5745 </td><td style=\"text-align: right;\">           0.690269 </td><td style=\"text-align: right;\">       89.2857 </td><td style=\"text-align: right;\">         0.623191   </td><td style=\"text-align: right;\">               -0.0175719</td><td style=\"text-align: right;\">              -0.0136327</td><td style=\"text-align: right;\">              0.00737101</td><td style=\"text-align: right;\">              0.0182119 </td><td style=\"text-align: right;\"> -0.0555377</td><td style=\"text-align: right;\"> -0.214868  </td><td style=\"text-align: right;\"> -0.123108  </td><td style=\"text-align: right;\">               0.0112292  </td><td style=\"text-align: right;\">-0.0478759 </td><td style=\"text-align: right;\"> -0.143589 </td><td style=\"text-align: right;\">                0.066193 </td><td style=\"text-align: right;\">              40</td><td style=\"text-align: right;\">                70</td><td style=\"text-align: right;\">                     -30</td><td style=\"text-align: right;\">             20</td><td style=\"text-align: right;\">               40</td><td style=\"text-align: right;\">                    -20</td><td style=\"text-align: right;\">              0.745217</td><td style=\"text-align: right;\">            0.749336 </td><td style=\"text-align: right;\">             0.59657 </td><td style=\"text-align: right;\">           -0.519266 </td><td style=\"text-align: right;\">           -0.961844 </td><td style=\"text-align: right;\">            -0.832671</td><td style=\"text-align: right;\">                   -1</td><td style=\"text-align: right;\">                    1</td><td style=\"text-align: right;\">              -0.029654  </td><td style=\"text-align: right;\">                0.00823723</td><td>p0                        </td><td style=\"text-align: right;\">        2</td></tr>\n",
       "<tr><td>AAPL    </td><td>2010-02-04</td><td style=\"text-align: right;\">1.26524e+15</td><td style=\"text-align: right;\">       6.07</td><td style=\"text-align: right;\">       6.12</td><td style=\"text-align: right;\">      5.91</td><td style=\"text-align: right;\">        5.93</td><td style=\"text-align: right;\">  7.57652e+08</td><td style=\"text-align: right;\">     0.237684</td><td style=\"text-align: right;\">   -0.594211</td><td style=\"text-align: right;\">   -0.354367</td><td style=\"text-align: right;\">   0.0103692</td><td style=\"text-align: right;\">   -0.0796992</td><td style=\"text-align: right;\"> -0.0727273 </td><td style=\"text-align: right;\">  0.00990099</td><td style=\"text-align: right;\">  0.0115702 </td><td style=\"text-align: right;\">         4</td><td style=\"text-align: right;\">     31.6239</td><td style=\"text-align: right;\">     36.9048</td><td style=\"text-align: right;\">     40.4762</td><td style=\"text-align: right;\">     38.3966</td><td style=\"text-align: right;\">     39.6135</td><td style=\"text-align: right;\">     32.1429</td><td style=\"text-align: right;\">              -0.0110884 </td><td style=\"text-align: right;\">            -0.0123066  </td><td style=\"text-align: right;\">           -0.00412201 </td><td style=\"text-align: right;\">            -0.0182119 </td><td style=\"text-align: right;\">            -0.0169913 </td><td style=\"text-align: right;\">            -0.0316391 </td><td style=\"text-align: right;\">    -72.3002</td><td style=\"text-align: right;\">  -51.7604 </td><td style=\"text-align: right;\">   -56.1404</td><td style=\"text-align: right;\">  0.0139517</td><td style=\"text-align: right;\">0.0108149 </td><td style=\"text-align: right;\">0.0120376 </td><td style=\"text-align: right;\"> -0.0126356 </td><td style=\"text-align: right;\">-0.0169249  </td><td style=\"text-align: right;\"> 0.00178927 </td><td style=\"text-align: right;\">                 -0.0843427 </td><td style=\"text-align: right;\">                  0.0231586 </td><td style=\"text-align: right;\">                 11.0894 </td><td style=\"text-align: right;\">         0.197257 </td><td style=\"text-align: right;\">                -0.0486569 </td><td style=\"text-align: right;\">                  0.0159838</td><td style=\"text-align: right;\">                 6.57142</td><td style=\"text-align: right;\">         0.23524 </td><td style=\"text-align: right;\">                -0.0527157 </td><td style=\"text-align: right;\">                  0.0189003</td><td style=\"text-align: right;\">                 7.28477</td><td style=\"text-align: right;\">         0.25    </td><td style=\"text-align: right;\">        -35.8086</td><td style=\"text-align: right;\">     37.8336</td><td style=\"text-align: right;\">   -13.5477 </td><td style=\"text-align: right;\">      0.0346426</td><td style=\"text-align: right;\">        -33.9158</td><td style=\"text-align: right;\">     35.2959</td><td style=\"text-align: right;\">   -11.9709 </td><td style=\"text-align: right;\">      0.0379981</td><td style=\"text-align: right;\">       -30.3539 </td><td style=\"text-align: right;\">     32.3238</td><td style=\"text-align: right;\">    -9.81155</td><td style=\"text-align: right;\">      0.039561 </td><td style=\"text-align: right;\">      -26.2875 </td><td style=\"text-align: right;\">    30.7198</td><td style=\"text-align: right;\">  -8.07546 </td><td style=\"text-align: right;\">     0.0392412</td><td style=\"text-align: right;\">     -19.9251  </td><td style=\"text-align: right;\">    29.5056</td><td style=\"text-align: right;\"> -5.87901   </td><td style=\"text-align: right;\">     0.0379044</td><td style=\"text-align: right;\">       -9.96076</td><td style=\"text-align: right;\">    30.224 </td><td style=\"text-align: right;\">   -3.01054</td><td style=\"text-align: right;\">     0.0334563</td><td style=\"text-align: right;\">       -3.13613</td><td style=\"text-align: right;\">    31.4982</td><td style=\"text-align: right;\">  -0.987825</td><td style=\"text-align: right;\">     0.0269967</td><td style=\"text-align: right;\">        4.22056</td><td style=\"text-align: right;\">    33.4367</td><td style=\"text-align: right;\">    1.41122</td><td style=\"text-align: right;\">     0.0277311</td><td style=\"text-align: right;\">        2.30512</td><td style=\"text-align: right;\">    40.853 </td><td style=\"text-align: right;\">   0.941712</td><td style=\"text-align: right;\">     0.0341709</td><td style=\"text-align: right;\">           0.180134  </td><td style=\"text-align: right;\">            0.131145 </td><td style=\"text-align: right;\">    -0.00871899</td><td style=\"text-align: right;\">     -0.0161322</td><td style=\"text-align: right;\">       0.0572124</td><td style=\"text-align: right;\">         8.21918</td><td style=\"text-align: right;\">          -0.625899  </td><td style=\"text-align: right;\">        9.52381</td><td style=\"text-align: right;\">          -0.598533 </td><td style=\"text-align: right;\">       16.2162 </td><td style=\"text-align: right;\">          -0.526648 </td><td style=\"text-align: right;\">        7.40741</td><td style=\"text-align: right;\">        -0.844207   </td><td style=\"text-align: right;\">               -0.0489174</td><td style=\"text-align: right;\">              -0.0412288</td><td style=\"text-align: right;\">             -0.0206441 </td><td style=\"text-align: right;\">             -0.019024  </td><td style=\"text-align: right;\"> -0.0857197</td><td style=\"text-align: right;\"> -0.196998  </td><td style=\"text-align: right;\"> -0.1397    </td><td style=\"text-align: right;\">               0.0178084  </td><td style=\"text-align: right;\">-0.0571158 </td><td style=\"text-align: right;\"> -0.0754995</td><td style=\"text-align: right;\">                0.0379253</td><td style=\"text-align: right;\">              30</td><td style=\"text-align: right;\">                60</td><td style=\"text-align: right;\">                     -30</td><td style=\"text-align: right;\">             20</td><td style=\"text-align: right;\">               20</td><td style=\"text-align: right;\">                      0</td><td style=\"text-align: right;\">              0.704768</td><td style=\"text-align: right;\">            0.401495 </td><td style=\"text-align: right;\">             0.209319</td><td style=\"text-align: right;\">            0.0691164</td><td style=\"text-align: right;\">           -0.888459 </td><td style=\"text-align: right;\">            -0.339422</td><td style=\"text-align: right;\">                   -1</td><td style=\"text-align: right;\">                   -1</td><td style=\"text-align: right;\">              -0.00841751</td><td style=\"text-align: right;\">                0.0286195 </td><td>n0                        </td><td style=\"text-align: right;\">        1</td></tr>\n",
       "<tr><td>AAPL    </td><td>2010-02-05</td><td style=\"text-align: right;\">1.26533e+15</td><td style=\"text-align: right;\">       5.94</td><td style=\"text-align: right;\">       6.05</td><td style=\"text-align: right;\">      5.89</td><td style=\"text-align: right;\">        6.03</td><td style=\"text-align: right;\">  8.50307e+08</td><td style=\"text-align: right;\">     0.398176</td><td style=\"text-align: right;\">   -0.506373</td><td style=\"text-align: right;\">   -0.317545</td><td style=\"text-align: right;\">   0.217607 </td><td style=\"text-align: right;\">   -0.0805471</td><td style=\"text-align: right;\"> -0.0692308 </td><td style=\"text-align: right;\"> -0.0210356 </td><td style=\"text-align: right;\"> -0.00165017</td><td style=\"text-align: right;\">         5</td><td style=\"text-align: right;\">     33.8843</td><td style=\"text-align: right;\">     58.3333</td><td style=\"text-align: right;\">     48.9362</td><td style=\"text-align: right;\">     42.0833</td><td style=\"text-align: right;\">     33.8624</td><td style=\"text-align: right;\">     38.3234</td><td style=\"text-align: right;\">              -0.0118387 </td><td style=\"text-align: right;\">            -0.00776121 </td><td style=\"text-align: right;\">            0.000197246</td><td style=\"text-align: right;\">             0.0083612 </td><td style=\"text-align: right;\">            -0.00124224</td><td style=\"text-align: right;\">            -0.00863132</td><td style=\"text-align: right;\">    -59.2123</td><td style=\"text-align: right;\">  -39.8016 </td><td style=\"text-align: right;\">   -36.8979</td><td style=\"text-align: right;\">  0.0140858</td><td style=\"text-align: right;\">0.0132183 </td><td style=\"text-align: right;\">0.0166425 </td><td style=\"text-align: right;\"> -0.00823815</td><td style=\"text-align: right;\">-0.0146253  </td><td style=\"text-align: right;\">-0.00184567 </td><td style=\"text-align: right;\">                 -0.0687747 </td><td style=\"text-align: right;\">                  0.0427726 </td><td style=\"text-align: right;\">                 11.3017 </td><td style=\"text-align: right;\">         0.357077 </td><td style=\"text-align: right;\">                -0.024087  </td><td style=\"text-align: right;\">                  0.030563 </td><td style=\"text-align: right;\">                 5.44735</td><td style=\"text-align: right;\">         0.545779</td><td style=\"text-align: right;\">                -0.0362747 </td><td style=\"text-align: right;\">                  0.0367302</td><td style=\"text-align: right;\">                 7.29882</td><td style=\"text-align: right;\">         0.484869</td><td style=\"text-align: right;\">        -34.3799</td><td style=\"text-align: right;\">     36.1638</td><td style=\"text-align: right;\">   -12.4331 </td><td style=\"text-align: right;\">      0.0351982</td><td style=\"text-align: right;\">        -32.2493</td><td style=\"text-align: right;\">     33.4383</td><td style=\"text-align: right;\">   -10.7836 </td><td style=\"text-align: right;\">      0.0379181</td><td style=\"text-align: right;\">       -28.5102 </td><td style=\"text-align: right;\">     30.1467</td><td style=\"text-align: right;\">    -8.59489</td><td style=\"text-align: right;\">      0.0393402</td><td style=\"text-align: right;\">      -24.5582 </td><td style=\"text-align: right;\">    28.0988</td><td style=\"text-align: right;\">  -6.90055 </td><td style=\"text-align: right;\">     0.0383119</td><td style=\"text-align: right;\">     -19.0297  </td><td style=\"text-align: right;\">    26.2118</td><td style=\"text-align: right;\"> -4.98803   </td><td style=\"text-align: right;\">     0.0342099</td><td style=\"text-align: right;\">      -12.4403 </td><td style=\"text-align: right;\">    25.9485</td><td style=\"text-align: right;\">   -3.22807</td><td style=\"text-align: right;\">     0.0268866</td><td style=\"text-align: right;\">      -10.2199 </td><td style=\"text-align: right;\">    27.2371</td><td style=\"text-align: right;\">  -2.78361 </td><td style=\"text-align: right;\">     0.0274099</td><td style=\"text-align: right;\">      -12.759  </td><td style=\"text-align: right;\">    31.5876</td><td style=\"text-align: right;\">   -4.03027</td><td style=\"text-align: right;\">     0.0315961</td><td style=\"text-align: right;\">      -34.3989 </td><td style=\"text-align: right;\">    48.785 </td><td style=\"text-align: right;\"> -16.7815  </td><td style=\"text-align: right;\">     0.032831 </td><td style=\"text-align: right;\">           0.142397  </td><td style=\"text-align: right;\">            0.0950007</td><td style=\"text-align: right;\">    -0.073343  </td><td style=\"text-align: right;\">     -0.042833 </td><td style=\"text-align: right;\">       0.0280504</td><td style=\"text-align: right;\">        21.9178 </td><td style=\"text-align: right;\">          -0.00425532</td><td style=\"text-align: right;\">       34.0426 </td><td style=\"text-align: right;\">           0.246637 </td><td style=\"text-align: right;\">       48.2759 </td><td style=\"text-align: right;\">           0.167338 </td><td style=\"text-align: right;\">       48.2759 </td><td style=\"text-align: right;\">        -0.000975364</td><td style=\"text-align: right;\">               -0.0328789</td><td style=\"text-align: right;\">              -0.012285 </td><td style=\"text-align: right;\">             -0.0008285 </td><td style=\"text-align: right;\">             -0.0008285 </td><td style=\"text-align: right;\"> -0.0667566</td><td style=\"text-align: right;\"> -0.00840058</td><td style=\"text-align: right;\"> -0.00896869</td><td style=\"text-align: right;\">               0.065133   </td><td style=\"text-align: right;\"> 0.235575  </td><td style=\"text-align: right;\">  0.319357 </td><td style=\"text-align: right;\">                0.220243 </td><td style=\"text-align: right;\">              20</td><td style=\"text-align: right;\">                50</td><td style=\"text-align: right;\">                     -30</td><td style=\"text-align: right;\">             60</td><td style=\"text-align: right;\">              100</td><td style=\"text-align: right;\">                    -40</td><td style=\"text-align: right;\">              0.725713</td><td style=\"text-align: right;\">           -0.347048 </td><td style=\"text-align: right;\">            -0.834494</td><td style=\"text-align: right;\">           -0.461084 </td><td style=\"text-align: right;\">           -0.917103 </td><td style=\"text-align: right;\">             0.816912</td><td style=\"text-align: right;\">                   -1</td><td style=\"text-align: right;\">                    1</td><td style=\"text-align: right;\">              -0.00827815</td><td style=\"text-align: right;\">                0.0115894 </td><td>n0                        </td><td style=\"text-align: right;\">        1</td></tr>\n",
       "<tr><td>AAPL    </td><td>2010-02-08</td><td style=\"text-align: right;\">1.26559e+15</td><td style=\"text-align: right;\">       6.04</td><td style=\"text-align: right;\">       6.11</td><td style=\"text-align: right;\">      5.99</td><td style=\"text-align: right;\">        5.99</td><td style=\"text-align: right;\">  4.78271e+08</td><td style=\"text-align: right;\">    -0.4576  </td><td style=\"text-align: right;\">   -0.592442</td><td style=\"text-align: right;\">   -0.3622  </td><td style=\"text-align: right;\">  -0.222738 </td><td style=\"text-align: right;\">   -0.0453125</td><td style=\"text-align: right;\"> -0.0362776 </td><td style=\"text-align: right;\"> -0.00163399</td><td style=\"text-align: right;\"> -0.0113269 </td><td style=\"text-align: right;\">         1</td><td style=\"text-align: right;\">     42     </td><td style=\"text-align: right;\">     48.2759</td><td style=\"text-align: right;\">     28.9474</td><td style=\"text-align: right;\">     39.1489</td><td style=\"text-align: right;\">     35.1648</td><td style=\"text-align: right;\">     46.0432</td><td style=\"text-align: right;\">              -0.0105959 </td><td style=\"text-align: right;\">            -0.0072761  </td><td style=\"text-align: right;\">           -0.00234229 </td><td style=\"text-align: right;\">            -0.00332779</td><td style=\"text-align: right;\">            -0.00580913</td><td style=\"text-align: right;\">            -0.00642753</td><td style=\"text-align: right;\">    -34.0802</td><td style=\"text-align: right;\">   12.451  </td><td style=\"text-align: right;\">    76.7959</td><td style=\"text-align: right;\">  0.0124508</td><td style=\"text-align: right;\">0.0117297 </td><td style=\"text-align: right;\">0.0123066 </td><td style=\"text-align: right;\"> -0.00628556</td><td style=\"text-align: right;\">-0.000497528</td><td style=\"text-align: right;\">-0.0022232  </td><td style=\"text-align: right;\">                 -0.0701512 </td><td style=\"text-align: right;\">                  0.0399138 </td><td style=\"text-align: right;\">                 11.1755 </td><td style=\"text-align: right;\">         0.337199 </td><td style=\"text-align: right;\">                -0.0292032 </td><td style=\"text-align: right;\">                  0.0187403</td><td style=\"text-align: right;\">                 4.81957</td><td style=\"text-align: right;\">         0.379468</td><td style=\"text-align: right;\">                -0.01545   </td><td style=\"text-align: right;\">                  0.0182453</td><td style=\"text-align: right;\">                 3.36483</td><td style=\"text-align: right;\">         0.533113</td><td style=\"text-align: right;\">        -30.6969</td><td style=\"text-align: right;\">     32.2701</td><td style=\"text-align: right;\">    -9.90589</td><td style=\"text-align: right;\">      0.034456 </td><td style=\"text-align: right;\">        -27.5556</td><td style=\"text-align: right;\">     29.0818</td><td style=\"text-align: right;\">    -8.01366</td><td style=\"text-align: right;\">      0.036309 </td><td style=\"text-align: right;\">       -22.1762 </td><td style=\"text-align: right;\">     26.58  </td><td style=\"text-align: right;\">    -5.89444</td><td style=\"text-align: right;\">      0.0362961</td><td style=\"text-align: right;\">      -16.4747 </td><td style=\"text-align: right;\">    25.6009</td><td style=\"text-align: right;\">  -4.21767 </td><td style=\"text-align: right;\">     0.0346019</td><td style=\"text-align: right;\">      -8.13185 </td><td style=\"text-align: right;\">    25.7879</td><td style=\"text-align: right;\"> -2.09704   </td><td style=\"text-align: right;\">     0.0304811</td><td style=\"text-align: right;\">        3.92358</td><td style=\"text-align: right;\">    29.5153</td><td style=\"text-align: right;\">    1.15806</td><td style=\"text-align: right;\">     0.0258559</td><td style=\"text-align: right;\">       11.755  </td><td style=\"text-align: right;\">    34.2291</td><td style=\"text-align: right;\">   4.02363 </td><td style=\"text-align: right;\">     0.028607 </td><td style=\"text-align: right;\">       21.3436 </td><td style=\"text-align: right;\">    43.5169</td><td style=\"text-align: right;\">    9.28805</td><td style=\"text-align: right;\">     0.028434 </td><td style=\"text-align: right;\">       36.7692 </td><td style=\"text-align: right;\">    64.4972</td><td style=\"text-align: right;\">  23.7151  </td><td style=\"text-align: right;\">     0.0230431</td><td style=\"text-align: right;\">           0.120131  </td><td style=\"text-align: right;\">            0.0759134</td><td style=\"text-align: right;\">    -0.106756  </td><td style=\"text-align: right;\">     -0.0783141</td><td style=\"text-align: right;\">      -0.011143 </td><td style=\"text-align: right;\">        16.4384 </td><td style=\"text-align: right;\">           0.0588235 </td><td style=\"text-align: right;\">       32.4324 </td><td style=\"text-align: right;\">           0.280248 </td><td style=\"text-align: right;\">       34.4828 </td><td style=\"text-align: right;\">           0.0451977</td><td style=\"text-align: right;\">       43.4783 </td><td style=\"text-align: right;\">         0.315377   </td><td style=\"text-align: right;\">               -0.0392943</td><td style=\"text-align: right;\">              -0.0107349</td><td style=\"text-align: right;\">             -0.0074565 </td><td style=\"text-align: right;\">             -0.00249792</td><td style=\"text-align: right;\"> -0.069541 </td><td style=\"text-align: right;\"> -0.101702  </td><td style=\"text-align: right;\"> -0.0865385 </td><td style=\"text-align: right;\">               0.0519868  </td><td style=\"text-align: right;\"> 0.0431287 </td><td style=\"text-align: right;\">  0.10127  </td><td style=\"text-align: right;\">                0.0185215</td><td style=\"text-align: right;\">              10</td><td style=\"text-align: right;\">                40</td><td style=\"text-align: right;\">                     -30</td><td style=\"text-align: right;\">             40</td><td style=\"text-align: right;\">               80</td><td style=\"text-align: right;\">                    -40</td><td style=\"text-align: right;\">              0.732099</td><td style=\"text-align: right;\">           -0.0786525</td><td style=\"text-align: right;\">            -0.878342</td><td style=\"text-align: right;\">            0.0879584</td><td style=\"text-align: right;\">           -0.924473 </td><td style=\"text-align: right;\">             0.316438</td><td style=\"text-align: right;\">                   -1</td><td style=\"text-align: right;\">                   -1</td><td style=\"text-align: right;\">              -0.00990099</td><td style=\"text-align: right;\">                0.00660066</td><td>p0                        </td><td style=\"text-align: right;\">        2</td></tr>\n",
       "<tr><td>AAPL    </td><td>2010-02-09</td><td style=\"text-align: right;\">1.26567e+15</td><td style=\"text-align: right;\">       6.06</td><td style=\"text-align: right;\">       6.1 </td><td style=\"text-align: right;\">      6.01</td><td style=\"text-align: right;\">        6.05</td><td style=\"text-align: right;\">  6.32887e+08</td><td style=\"text-align: right;\">    -0.40613 </td><td style=\"text-align: right;\">   -0.492046</td><td style=\"text-align: right;\">   -0.09373 </td><td style=\"text-align: right;\">  -0.164673 </td><td style=\"text-align: right;\">   -0.0348101</td><td style=\"text-align: right;\"> -0.0224359 </td><td style=\"text-align: right;\">  0.00826446</td><td style=\"text-align: right;\"> -0.00326797</td><td style=\"text-align: right;\">         2</td><td style=\"text-align: right;\">     58.1081</td><td style=\"text-align: right;\">     50.8197</td><td style=\"text-align: right;\">     75     </td><td style=\"text-align: right;\">     41.3502</td><td style=\"text-align: right;\">     39.548 </td><td style=\"text-align: right;\">     41.4063</td><td style=\"text-align: right;\">              -0.0107148 </td><td style=\"text-align: right;\">            -0.00547267 </td><td style=\"text-align: right;\">           -0.000434628</td><td style=\"text-align: right;\">             0.00498339</td><td style=\"text-align: right;\">             0.00833333</td><td style=\"text-align: right;\">             0.00560981</td><td style=\"text-align: right;\">    -12.4978</td><td style=\"text-align: right;\">   30.8046 </td><td style=\"text-align: right;\">    60.1287</td><td style=\"text-align: right;\">  0.0109899</td><td style=\"text-align: right;\">0.0101528 </td><td style=\"text-align: right;\">0.00934796</td><td style=\"text-align: right;\"> -0.00884392</td><td style=\"text-align: right;\"> 0.00306034 </td><td style=\"text-align: right;\"> 0.00271604 </td><td style=\"text-align: right;\">                 -0.0485324 </td><td style=\"text-align: right;\">                  0.046459  </td><td style=\"text-align: right;\">                  9.509  </td><td style=\"text-align: right;\">         0.46535  </td><td style=\"text-align: right;\">                -0.0205955 </td><td style=\"text-align: right;\">                  0.0278435</td><td style=\"text-align: right;\">                 4.82641</td><td style=\"text-align: right;\">         0.562977</td><td style=\"text-align: right;\">                -0.00565942</td><td style=\"text-align: right;\">                  0.0147206</td><td style=\"text-align: right;\">                 2.02881</td><td style=\"text-align: right;\">         0.718218</td><td style=\"text-align: right;\">        -27.4713</td><td style=\"text-align: right;\">     28.86  </td><td style=\"text-align: right;\">    -7.92824</td><td style=\"text-align: right;\">      0.0350642</td><td style=\"text-align: right;\">        -23.5265</td><td style=\"text-align: right;\">     25.3422</td><td style=\"text-align: right;\">    -5.96212</td><td style=\"text-align: right;\">      0.0356636</td><td style=\"text-align: right;\">       -16.9226 </td><td style=\"text-align: right;\">     23.6215</td><td style=\"text-align: right;\">    -3.99737</td><td style=\"text-align: right;\">      0.0347709</td><td style=\"text-align: right;\">      -10.0218 </td><td style=\"text-align: right;\">    23.6068</td><td style=\"text-align: right;\">  -2.36582 </td><td style=\"text-align: right;\">     0.0307936</td><td style=\"text-align: right;\">       0.036734</td><td style=\"text-align: right;\">    25.4702</td><td style=\"text-align: right;\">  0.00935623</td><td style=\"text-align: right;\">     0.0245865</td><td style=\"text-align: right;\">       14.8323 </td><td style=\"text-align: right;\">    31.8931</td><td style=\"text-align: right;\">    4.73048</td><td style=\"text-align: right;\">     0.0264922</td><td style=\"text-align: right;\">       24.9399 </td><td style=\"text-align: right;\">    38.4243</td><td style=\"text-align: right;\">   9.58299 </td><td style=\"text-align: right;\">     0.0258337</td><td style=\"text-align: right;\">       38.3948 </td><td style=\"text-align: right;\">    49.4815</td><td style=\"text-align: right;\">   18.9983 </td><td style=\"text-align: right;\">     0.021373 </td><td style=\"text-align: right;\">       60.4919 </td><td style=\"text-align: right;\">    69.7346</td><td style=\"text-align: right;\">  42.1838  </td><td style=\"text-align: right;\">     0.0188364</td><td style=\"text-align: right;\">           0.0796397 </td><td style=\"text-align: right;\">            0.0376132</td><td style=\"text-align: right;\">    -0.34493   </td><td style=\"text-align: right;\">     -0.16404  </td><td style=\"text-align: right;\">      -0.0722036</td><td style=\"text-align: right;\">        24.6575 </td><td style=\"text-align: right;\">           0.173913  </td><td style=\"text-align: right;\">       55.1724 </td><td style=\"text-align: right;\">           0.360631 </td><td style=\"text-align: right;\">       55.1724 </td><td style=\"text-align: right;\">           0.2      </td><td style=\"text-align: right;\">       72.7273 </td><td style=\"text-align: right;\">         0.326483   </td><td style=\"text-align: right;\">               -0.0296712</td><td style=\"text-align: right;\">               0.0024855</td><td style=\"text-align: right;\">              0.0024855 </td><td style=\"text-align: right;\">              0.00833333</td><td style=\"text-align: right;\"> -0.0568944</td><td style=\"text-align: right;\"> -0.02281   </td><td style=\"text-align: right;\"> -0.02868   </td><td style=\"text-align: right;\">               0.0631313  </td><td style=\"text-align: right;\">-0.0473614 </td><td style=\"text-align: right;\"> -0.0341826</td><td style=\"text-align: right;\">               -0.0479628</td><td style=\"text-align: right;\">              10</td><td style=\"text-align: right;\">                30</td><td style=\"text-align: right;\">                     -20</td><td style=\"text-align: right;\">             20</td><td style=\"text-align: right;\">               60</td><td style=\"text-align: right;\">                    -40</td><td style=\"text-align: right;\">              0.880018</td><td style=\"text-align: right;\">           -0.343064 </td><td style=\"text-align: right;\">            -0.762065</td><td style=\"text-align: right;\">           -0.725823 </td><td style=\"text-align: right;\">           -0.749057 </td><td style=\"text-align: right;\">             0.933257</td><td style=\"text-align: right;\">                    1</td><td style=\"text-align: right;\">                   -1</td><td style=\"text-align: right;\">              -0.00991736</td><td style=\"text-align: right;\">                0.0181818 </td><td>n0                        </td><td style=\"text-align: right;\">        1</td></tr>\n",
       "<tr><td>AAPL    </td><td>2010-02-10</td><td style=\"text-align: right;\">1.26576e+15</td><td style=\"text-align: right;\">       6.05</td><td style=\"text-align: right;\">       6.07</td><td style=\"text-align: right;\">      6   </td><td style=\"text-align: right;\">        6.02</td><td style=\"text-align: right;\">  3.70362e+08</td><td style=\"text-align: right;\">    -0.801639</td><td style=\"text-align: right;\">   -0.506103</td><td style=\"text-align: right;\">   -0.398107</td><td style=\"text-align: right;\">  -0.564438 </td><td style=\"text-align: right;\">   -0.080303 </td><td style=\"text-align: right;\">  0.00330579</td><td style=\"text-align: right;\"> -0.00654664</td><td style=\"text-align: right;\">  0.00330579</td><td style=\"text-align: right;\">         3</td><td style=\"text-align: right;\">     50.7246</td><td style=\"text-align: right;\">     36.7347</td><td style=\"text-align: right;\">     47.0588</td><td style=\"text-align: right;\">     42.6087</td><td style=\"text-align: right;\">     47.2973</td><td style=\"text-align: right;\">     36.0656</td><td style=\"text-align: right;\">              -0.011224  </td><td style=\"text-align: right;\">            -0.00509174 </td><td style=\"text-align: right;\">           -0.000829876</td><td style=\"text-align: right;\">            -0.0024855 </td><td style=\"text-align: right;\">            -0.00041511</td><td style=\"text-align: right;\">            -0.0012443 </td><td style=\"text-align: right;\">    -12.6651</td><td style=\"text-align: right;\">   -4.88299</td><td style=\"text-align: right;\">   -38.49  </td><td style=\"text-align: right;\">  0.0092384</td><td style=\"text-align: right;\">0.00781708</td><td style=\"text-align: right;\">0.00591359</td><td style=\"text-align: right;\"> -0.00742001</td><td style=\"text-align: right;\"> 0.00160347 </td><td style=\"text-align: right;\"> 0.00418554 </td><td style=\"text-align: right;\">                 -0.0260702 </td><td style=\"text-align: right;\">                  0.0240087 </td><td style=\"text-align: right;\">                  5.01306</td><td style=\"text-align: right;\">         0.466919 </td><td style=\"text-align: right;\">                -0.0249259 </td><td style=\"text-align: right;\">                  0.0233262</td><td style=\"text-align: right;\">                 4.82908</td><td style=\"text-align: right;\">         0.471374</td><td style=\"text-align: right;\">                -0.00986842</td><td style=\"text-align: right;\">                  0.0100671</td><td style=\"text-align: right;\">                 1.99336</td><td style=\"text-align: right;\">         0.5     </td><td style=\"text-align: right;\">        -25.2823</td><td style=\"text-align: right;\">     26.5091</td><td style=\"text-align: right;\">    -6.70213</td><td style=\"text-align: right;\">      0.0341211</td><td style=\"text-align: right;\">        -21.0215</td><td style=\"text-align: right;\">     22.5891</td><td style=\"text-align: right;\">    -4.74857</td><td style=\"text-align: right;\">      0.0344248</td><td style=\"text-align: right;\">       -14.1984 </td><td style=\"text-align: right;\">     19.7711</td><td style=\"text-align: right;\">    -2.80719</td><td style=\"text-align: right;\">      0.0309983</td><td style=\"text-align: right;\">       -7.47461</td><td style=\"text-align: right;\">    19.4078</td><td style=\"text-align: right;\">  -1.45066 </td><td style=\"text-align: right;\">     0.0269925</td><td style=\"text-align: right;\">       1.4449  </td><td style=\"text-align: right;\">    20.5164</td><td style=\"text-align: right;\">  0.296442  </td><td style=\"text-align: right;\">     0.0226921</td><td style=\"text-align: right;\">       11.7022 </td><td style=\"text-align: right;\">    23.076 </td><td style=\"text-align: right;\">    2.7004 </td><td style=\"text-align: right;\">     0.0229734</td><td style=\"text-align: right;\">       15.4278 </td><td style=\"text-align: right;\">    23.5184</td><td style=\"text-align: right;\">   3.62837 </td><td style=\"text-align: right;\">     0.0189128</td><td style=\"text-align: right;\">       13.6008 </td><td style=\"text-align: right;\">    30.3374</td><td style=\"text-align: right;\">    4.12613</td><td style=\"text-align: right;\">     0.0164016</td><td style=\"text-align: right;\">       -9.50931</td><td style=\"text-align: right;\">    52.9181</td><td style=\"text-align: right;\">  -5.03215 </td><td style=\"text-align: right;\">     0.0147825</td><td style=\"text-align: right;\">           0.0556968 </td><td style=\"text-align: right;\">            0.0175878</td><td style=\"text-align: right;\">    -0.235132  </td><td style=\"text-align: right;\">     -0.170331 </td><td style=\"text-align: right;\">      -0.0985314</td><td style=\"text-align: right;\">        23.8095 </td><td style=\"text-align: right;\">           0.100503  </td><td style=\"text-align: right;\">       44.8276 </td><td style=\"text-align: right;\">           0.0154821</td><td style=\"text-align: right;\">       56.5217 </td><td style=\"text-align: right;\">           0.16     </td><td style=\"text-align: right;\">       25      </td><td style=\"text-align: right;\">        -0.468859   </td><td style=\"text-align: right;\">               -0.0266774</td><td style=\"text-align: right;\">              -0.0024855</td><td style=\"text-align: right;\">              0.00249792</td><td style=\"text-align: right;\">             -0.00495868</td><td style=\"text-align: right;\"> -0.0583711</td><td style=\"text-align: right;\"> -0.143762  </td><td style=\"text-align: right;\"> -0.175192  </td><td style=\"text-align: right;\">               0.026931   </td><td style=\"text-align: right;\">-0.190243  </td><td style=\"text-align: right;\"> -0.221049 </td><td style=\"text-align: right;\">               -0.127201 </td><td style=\"text-align: right;\">              10</td><td style=\"text-align: right;\">                20</td><td style=\"text-align: right;\">                     -10</td><td style=\"text-align: right;\">             20</td><td style=\"text-align: right;\">               40</td><td style=\"text-align: right;\">                    -20</td><td style=\"text-align: right;\">              0.775167</td><td style=\"text-align: right;\">            0.128854 </td><td style=\"text-align: right;\">            -0.771342</td><td style=\"text-align: right;\">           -0.572856 </td><td style=\"text-align: right;\">           -0.148034 </td><td style=\"text-align: right;\">             0.972128</td><td style=\"text-align: right;\">                   -1</td><td style=\"text-align: right;\">                    1</td><td style=\"text-align: right;\">              -0.00332779</td><td style=\"text-align: right;\">                0.0349418 </td><td>n0                        </td><td style=\"text-align: right;\">        1</td></tr>\n",
       "<tr><td>AAPL    </td><td>2010-02-11</td><td style=\"text-align: right;\">1.26585e+15</td><td style=\"text-align: right;\">       6.01</td><td style=\"text-align: right;\">       6.16</td><td style=\"text-align: right;\">      5.99</td><td style=\"text-align: right;\">        6.13</td><td style=\"text-align: right;\">  5.50346e+08</td><td style=\"text-align: right;\">    -0.680509</td><td style=\"text-align: right;\">   -0.211926</td><td style=\"text-align: right;\">   -0.273617</td><td style=\"text-align: right;\">   0.150699 </td><td style=\"text-align: right;\">   -0.0523077</td><td style=\"text-align: right;\">  0.0165017 </td><td style=\"text-align: right;\">  0.00983607</td><td style=\"text-align: right;\">  0.00818331</td><td style=\"text-align: right;\">         4</td><td style=\"text-align: right;\">     55.8442</td><td style=\"text-align: right;\">     75     </td><td style=\"text-align: right;\">     79.1667</td><td style=\"text-align: right;\">     38.0282</td><td style=\"text-align: right;\">     45.0704</td><td style=\"text-align: right;\">     38.5827</td><td style=\"text-align: right;\">              -0.012     </td><td style=\"text-align: right;\">             0.000406278</td><td style=\"text-align: right;\">            0.00196618 </td><td style=\"text-align: right;\">             0.0090535 </td><td style=\"text-align: right;\">             0.013642  </td><td style=\"text-align: right;\">             0.0144808 </td><td style=\"text-align: right;\">     95.7092</td><td style=\"text-align: right;\">  104.424  </td><td style=\"text-align: right;\">    71.6919</td><td style=\"text-align: right;\">  0.0111957</td><td style=\"text-align: right;\">0.0120547 </td><td style=\"text-align: right;\">0.0162187 </td><td style=\"text-align: right;\"> -0.00491438</td><td style=\"text-align: right;\">-0.000929145</td><td style=\"text-align: right;\"> 0.0016656  </td><td style=\"text-align: right;\">                 -0.00688029</td><td style=\"text-align: right;\">                  0.0418912 </td><td style=\"text-align: right;\">                  4.79324</td><td style=\"text-align: right;\">         0.853018 </td><td style=\"text-align: right;\">                -0.00446839</td><td style=\"text-align: right;\">                  0.040308 </td><td style=\"text-align: right;\">                 4.39881</td><td style=\"text-align: right;\">         0.896184</td><td style=\"text-align: right;\">                -0.00815344</td><td style=\"text-align: right;\">                  0.029743 </td><td style=\"text-align: right;\">                 3.74917</td><td style=\"text-align: right;\">         0.77845 </td><td style=\"text-align: right;\">        -20.9469</td><td style=\"text-align: right;\">     24.8403</td><td style=\"text-align: right;\">    -5.20327</td><td style=\"text-align: right;\">      0.033264 </td><td style=\"text-align: right;\">        -15.6066</td><td style=\"text-align: right;\">     22.0646</td><td style=\"text-align: right;\">    -3.44353</td><td style=\"text-align: right;\">      0.0326014</td><td style=\"text-align: right;\">        -7.12881</td><td style=\"text-align: right;\">     21.1376</td><td style=\"text-align: right;\">    -1.50686</td><td style=\"text-align: right;\">      0.028752 </td><td style=\"text-align: right;\">        1.2384 </td><td style=\"text-align: right;\">    22.7313</td><td style=\"text-align: right;\">   0.281504</td><td style=\"text-align: right;\">     0.0234706</td><td style=\"text-align: right;\">      12.5973  </td><td style=\"text-align: right;\">    26.899 </td><td style=\"text-align: right;\">  3.38856   </td><td style=\"text-align: right;\">     0.0245129</td><td style=\"text-align: right;\">       27.2466 </td><td style=\"text-align: right;\">    34.8291</td><td style=\"text-align: right;\">    9.48975</td><td style=\"text-align: right;\">     0.0206497</td><td style=\"text-align: right;\">       35.4281 </td><td style=\"text-align: right;\">    40.2825</td><td style=\"text-align: right;\">  14.2713  </td><td style=\"text-align: right;\">     0.0192006</td><td style=\"text-align: right;\">       43.4915 </td><td style=\"text-align: right;\">    51.8598</td><td style=\"text-align: right;\">   22.5546 </td><td style=\"text-align: right;\">     0.0190541</td><td style=\"text-align: right;\">       52.2136 </td><td style=\"text-align: right;\">    73.0227</td><td style=\"text-align: right;\">  38.1278  </td><td style=\"text-align: right;\">     0.0195648</td><td style=\"text-align: right;\">          -0.00393171</td><td style=\"text-align: right;\">           -0.0411313</td><td style=\"text-align: right;\">     2.86904   </td><td style=\"text-align: right;\">     -0.342424 </td><td style=\"text-align: right;\">      -0.167725 </td><td style=\"text-align: right;\">        55.3191 </td><td style=\"text-align: right;\">           0.599032  </td><td style=\"text-align: right;\">       82.7586 </td><td style=\"text-align: right;\">           0.358491 </td><td style=\"text-align: right;\">       88.8889 </td><td style=\"text-align: right;\">           0.329458 </td><td style=\"text-align: right;\">       82.3529 </td><td style=\"text-align: right;\">         0.371938   </td><td style=\"text-align: right;\">                0.004095 </td><td style=\"text-align: right;\">               0.0157415</td><td style=\"text-align: right;\">              0.0174274 </td><td style=\"text-align: right;\">              0.0090535 </td><td style=\"text-align: right;\"> -0.0380164</td><td style=\"text-align: right;\">  0.00553938</td><td style=\"text-align: right;\"> -0.00295712</td><td style=\"text-align: right;\">               0.0531477  </td><td style=\"text-align: right;\"> 0.0841142 </td><td style=\"text-align: right;\">  0.0994105</td><td style=\"text-align: right;\">                0.0980895</td><td style=\"text-align: right;\">              10</td><td style=\"text-align: right;\">                10</td><td style=\"text-align: right;\">                       0</td><td style=\"text-align: right;\">            100</td><td style=\"text-align: right;\">               20</td><td style=\"text-align: right;\">                     80</td><td style=\"text-align: right;\">              0.356927</td><td style=\"text-align: right;\">           -0.692983 </td><td style=\"text-align: right;\">            -0.507699</td><td style=\"text-align: right;\">           -0.838628 </td><td style=\"text-align: right;\">            0.0339422</td><td style=\"text-align: right;\">             0.662849</td><td style=\"text-align: right;\">                   -1</td><td style=\"text-align: right;\">                   -1</td><td style=\"text-align: right;\">              -0.0130933 </td><td style=\"text-align: right;\">                0.0294599 </td><td>n-1                       </td><td style=\"text-align: right;\">        1</td></tr>\n",
       "</tbody>\n",
       "</table>"
      ]
     },
     "metadata": {},
     "output_type": "display_data"
    },
    {
     "data": {
      "text/plain": []
     },
     "execution_count": 5,
     "metadata": {},
     "output_type": "execute_result"
    }
   ],
   "source": [
    "fullDF = h2o.import_file(path=os.path.join(uyulala.dataDir,'transformed',folderName),pattern = \"(%s)\" % ('|'.join(sampledFiles),),col_types={'DateCol':'enum','Date':'enum'}).na_omit().merge(h2o.import_file(path=os.path.join(uyulala.dataDir,'labeled',folderName),pattern = \".*\\.parquet\",col_types={'DateCol':'enum','Date':'enum'}).na_omit()).na_omit()\n",
    "fullDF"
   ]
  },
  {
   "cell_type": "code",
   "execution_count": null,
   "metadata": {},
   "outputs": [
    {
     "name": "stdout",
     "output_type": "stream",
     "text": [
      "building model for lab_lowPercentChange_H2\n",
      "gbm Grid Build progress: |████████████████████████████████████████████████"
     ]
    }
   ],
   "source": [
    "### HYPERPARAMETER TUNING AND VARIABLE SELECTION\n",
    "features = [s for s in fullDF.columns if \"feat_\" in s]\n",
    "#features = [s for s in fullDF.columns if \"PC\" in s]\n",
    "labels = [s for s in fullDF.columns if \"lab_\" in s]\n",
    "\n",
    "timePerRun = int(60*60*.5)\n",
    "\n",
    "label = labels[0]\n",
    "quantile_alpha=.05\n",
    "perf_metric='mae'\n",
    "\n",
    "print('building model for {}'.format(label))\n",
    "# GBM hyperparameters\n",
    "hyper_params = {'learn_rate': [i * 0.01 for i in range(1,21,2)],\n",
    "                'max_depth': list(range(2, 11, 2)),\n",
    "                'sample_rate': [i * 0.1 for i in range(5, 10)],\n",
    "                'col_sample_rate': [i * 0.1 for i in range(3, 10)],\n",
    "                'col_sample_rate_per_tree': [i * 0.1 for i in range(5, 8)],\n",
    "                'min_rows': [50, 100, 500],\n",
    "                'min_split_improvement': [1e-3, 1e-5]}\n",
    "# Search criteria\n",
    "search_criteria = {'strategy':'RandomDiscrete', 'max_models':1000, 'max_runtime_secs':timePerRun,\n",
    "                    'stopping_metric':perf_metric, 'stopping_rounds':5, 'stopping_tolerance':0.0001}\n",
    "gbm = H2OGradientBoostingEstimator(distribution=\"quantile\", quantile_alpha = quantile_alpha, nfolds = 6, ntrees=500, learn_rate_annealing=0.99)\n",
    "# Train and validate a random grid of GBMs\n",
    "gbm_grid = H2OGridSearch(model=gbm,\n",
    "                          grid_id='gbm_grid_{}'.format(label),\n",
    "                          hyper_params=hyper_params,\n",
    "                          search_criteria=search_criteria,parallelism=0)\n",
    "gbm_grid.train(x=features,y=label,training_frame=fullDF,weights_column='weights')\n",
    "gbm_gridperf=gbm_grid.get_grid(sort_by=perf_metric,decreasing=False,)"
   ]
  },
  {
   "cell_type": "code",
   "execution_count": null,
   "metadata": {},
   "outputs": [],
   "source": [
    "resultingGrid = pandas.DataFrame(gbm_grid.sorted_metric_table()).drop('residual_deviance',axis=1)\n",
    "modelScores=pandas.DataFrame(columns=['model_ids','mae','rmse'])\n",
    "for i in range(len(gbm_gridperf.models)):\n",
    "    mae=gbm_gridperf.models[i].mae(train=True,valid=True,xval=False)\n",
    "    rmse=gbm_gridperf.models[i].rmse(train=True,valid=True,xval=False)\n",
    "    modelScores.loc[-1] = [gbm_gridperf.models[i].model_id,mae['valid'],rmse['valid']]\n",
    "    modelScores.index = modelScores.index + 1\n",
    "    modelScores = modelScores.sort_index()\n",
    "modelScores = modelScores.merge(resultingGrid,how='inner',on='model_ids')\n",
    "modelScores = modelScores.sort_values('mae',ascending=True).reset_index(drop=True)\n",
    "\n",
    "modelScores['trimmedModelId']=modelScores['model_ids'].apply(lambda x: x[:-5])\n",
    "modelScores['col_sample_rate'] = modelScores['col_sample_rate'].astype('float64')\n",
    "modelScores['col_sample_rate_per_tree'] = modelScores['col_sample_rate_per_tree'].astype('float64')\n",
    "modelScores['learn_rate'] = modelScores['learn_rate'].astype('float64')\n",
    "modelScores['max_depth'] = modelScores['max_depth'].astype('float64')\n",
    "modelScores['min_rows'] = modelScores['min_rows'].astype('float64')\n",
    "modelScores['min_split_improvement'] = modelScores['min_split_improvement'].astype('float64')\n",
    "modelScores['sample_rate'] = modelScores['sample_rate'].astype('float64')\n",
    "\n",
    "try: modelScores = modelScores.drop(columns=[''])\n",
    "except: pass\n",
    "\n",
    "modelScores[[x for x in modelScores.columns if x not in ['trimmedModelId','model_ids']]] = modelScores[[x for x in modelScores.columns if x not in ['trimmedModelId','model_ids']]].astype('float64')\n",
    "groupedModelScores = modelScores.dropna(subset=['mae']).groupby('trimmedModelId').mean().sort_values('mae',ascending=True)\n",
    "\n",
    "groupedModelScores['aggregate'] = (2 * groupedModelScores['mae'] + groupedModelScores['rmse'])/3\n",
    "groupedModelScores = groupedModelScores.sort_values('aggregate',ascending=True)\n",
    "groupedModelScores.head()"
   ]
  },
  {
   "cell_type": "code",
   "execution_count": null,
   "metadata": {},
   "outputs": [],
   "source": [
    "featureImportance = gbm_gridperf.models['model_id'==list(modelScores[modelScores['trimmedModelId']==groupedModelScores.index[0]]['model_ids'])[0]].varimp(use_pandas=True)\n",
    "topFeatures = list(featureImportance[featureImportance['percentage']>=.005]['variable'].values)\n",
    "print(featureImportance.head(30))"
   ]
  },
  {
   "cell_type": "code",
   "execution_count": null,
   "metadata": {},
   "outputs": [],
   "source": [
    "print(featureImportance.tail(20))"
   ]
  },
  {
   "cell_type": "code",
   "execution_count": null,
   "metadata": {},
   "outputs": [],
   "source": []
  },
  {
   "cell_type": "code",
   "execution_count": null,
   "metadata": {},
   "outputs": [],
   "source": [
    "### ITERATE THROUGH 4MO TRAINING + 1MO VALIDATION TO BUILD GBMS WITH CHECKPOINTING (USING HYPERPARAMETERS AND VARIABLES FROM ABOVE)\n",
    "\n",
    "subsetMonths = [i for i in YrMos if i not in ootMonths]\n",
    "subsetMonths = [subsetMonths[i:i + 5] for i in range(0, len(subsetMonths), 5)]\n",
    "valMos=[]\n",
    "rounds=1\n",
    "for i in range(len(subsetMonths)):\n",
    "    print('''Round {}'''.format(rounds))\n",
    "    if len(subsetMonths[i])<3: break\n",
    "    valMos.extend([subsetMonths[i][-1]])\n",
    "    trainMos = subsetMonths[i][0:-2]\n",
    "    trainFiles = ['YearMo='+str(f).split('YearMo=')[1] for f in Path(os.path.join(uyulala.dataDir,'transformed',folderName)).glob('**/*') if f.is_file() \\\n",
    "               & any([x in str(f) for x in ['YearMo=' + sub for sub in trainMos] ]) ]\n",
    "    train = h2o.import_file(path=os.path.join(uyulala.dataDir,'transformed',folderName),pattern = \"(%s)\" % ('|'.join(trainFiles),),col_types={'DateCol':'enum','Date':'enum'}).na_omit().merge(h2o.import_file(path=os.path.join(uyulala.dataDir,'labeled',folderName),pattern = \".*\\.parquet\",col_types={'DateCol':'enum','Date':'enum'}).na_omit()).na_omit()\n",
    "    validation = h2o.import_file(path=os.path.join(uyulala.dataDir,'transformed',folderName),pattern = \"(%s)\" % ('|'.join(valMos),),col_types={'DateCol':'enum','Date':'enum'}).na_omit().merge(h2o.import_file(path=os.path.join(uyulala.dataDir,'labeled',folderName),pattern = \".*\\.parquet\",col_types={'DateCol':'enum','Date':'enum'}).na_omit()).na_omit()\n",
    "    if rounds == 1:\n",
    "        gbm = H2OGradientBoostingEstimator(distribution=\"quantile\", quantile_alpha = quantile_alpha, nfolds = 0, ntrees=int(100*rounds), \n",
    "                                          learn_rate_annealing=0.99,\n",
    "                                          col_sample_rate=groupedModelScores['col_sample_rate'][0],\n",
    "                                          col_sample_rate_per_tree=groupedModelScores['col_sample_rate_per_tree'][0],\n",
    "                                          learn_rate = groupedModelScores['learn_rate'][0],\n",
    "                                          max_depth=int(groupedModelScores['max_depth'][0]),\n",
    "                                          min_rows=int(groupedModelScores['min_rows'][0]),\n",
    "                                          min_split_improvement=groupedModelScores['min_split_improvement'][0],\n",
    "                                          sample_rate=groupedModelScores['sample_rate'][0])\n",
    "    else:\n",
    "        gbm = H2OGradientBoostingEstimator(checkpoint = gbm.model_id, distribution=\"quantile\", quantile_alpha = quantile_alpha, nfolds = 0, ntrees=int(100*rounds), \n",
    "                                          learn_rate_annealing=0.99,\n",
    "                                          col_sample_rate=groupedModelScores['col_sample_rate'][0],\n",
    "                                          col_sample_rate_per_tree=groupedModelScores['col_sample_rate_per_tree'][0],\n",
    "                                          learn_rate = groupedModelScores['learn_rate'][0],\n",
    "                                          max_depth=int(groupedModelScores['max_depth'][0]),\n",
    "                                          min_rows=int(groupedModelScores['min_rows'][0]),\n",
    "                                          min_split_improvement=groupedModelScores['min_split_improvement'][0],\n",
    "                                          sample_rate=groupedModelScores['sample_rate'][0])\n",
    "    gbm.train(x=features,y=label,training_frame=train,validation_frame=validation,weights_column='weights')\n",
    "    print('''====================Round {} Performance on Validation Set===================='''.format(rounds))\n",
    "    print('''MAE: {}'''.format(gbm.mae(train=False,valid=True,xval=False)))\n",
    "    print('''RMSE: {}'''.format(gbm.rmse(train=False,valid=True,xval=False)))\n",
    "    rounds=rounds+1"
   ]
  },
  {
   "cell_type": "code",
   "execution_count": null,
   "metadata": {},
   "outputs": [],
   "source": []
  },
  {
   "cell_type": "code",
   "execution_count": null,
   "metadata": {},
   "outputs": [],
   "source": []
  },
  {
   "cell_type": "code",
   "execution_count": null,
   "metadata": {},
   "outputs": [],
   "source": []
  },
  {
   "cell_type": "code",
   "execution_count": null,
   "metadata": {},
   "outputs": [],
   "source": [
    "train.shape"
   ]
  },
  {
   "cell_type": "code",
   "execution_count": null,
   "metadata": {},
   "outputs": [],
   "source": []
  }
 ],
 "metadata": {
  "kernelspec": {
   "display_name": "Python 3",
   "language": "python",
   "name": "python3"
  },
  "language_info": {
   "codemirror_mode": {
    "name": "ipython",
    "version": 3
   },
   "file_extension": ".py",
   "mimetype": "text/x-python",
   "name": "python",
   "nbconvert_exporter": "python",
   "pygments_lexer": "ipython3",
   "version": "3.7.6"
  }
 },
 "nbformat": 4,
 "nbformat_minor": 4
}
