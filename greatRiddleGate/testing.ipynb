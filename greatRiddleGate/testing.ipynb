{
 "cells": [
  {
   "cell_type": "code",
   "execution_count": 1,
   "metadata": {},
   "outputs": [],
   "source": [
    "#!/usr/bin/python\n",
    "\n",
    "\n",
    "'''\n",
    "rightSphnix:\n",
    "* create Labels and store to disk\n",
    "* build models\n",
    "'''\n",
    "\n",
    "##################################################################################\n",
    "#########################       Configure       ##################################\n",
    "##################################################################################\n",
    "\n",
    "assets = 'Test'   # Typically AllStocks, SchwabOneSource, SchwabETFs, or Test\n",
    "horizon = 2       # prediction horizon in days\n",
    "\n",
    "totalBuildTimeAllowed_seconds = 28800\n",
    "\n",
    "\n",
    "startDate = '2001-01-01'\n",
    "\n"
   ]
  },
  {
   "cell_type": "code",
   "execution_count": 2,
   "metadata": {},
   "outputs": [
    {
     "name": "stdout",
     "output_type": "stream",
     "text": [
      "importing packages\n"
     ]
    }
   ],
   "source": [
    "\n",
    "##################################################################################\n",
    "###########################       Imports       ##################################\n",
    "##################################################################################\n",
    "print('importing packages')\n",
    "from multiprocessing import Pool\n",
    "import pandas\n",
    "import os\n",
    "import uyulala\n",
    "#reload(uyulala)\n",
    "\n",
    "import datetime\n",
    "import numpy\n",
    "import random\n",
    "import string\n",
    "import subprocess\n",
    "import time\n",
    "from psutil import virtual_memory\n",
    "import shutil\n",
    "from pathlib import Path\n",
    "import math\n",
    "import glob\n",
    "\n",
    "totMem = virtual_memory().total\n",
    "availMem = virtual_memory().available\n",
    "\n",
    "folderName = 'Assets-'+assets+'--Hrzn-'+str(horizon)\n"
   ]
  },
  {
   "cell_type": "code",
   "execution_count": 3,
   "metadata": {},
   "outputs": [
    {
     "name": "stdout",
     "output_type": "stream",
     "text": [
      "clearing directories\n"
     ]
    }
   ],
   "source": [
    "\n",
    "##################################################################################\n",
    "#################              Clear directories          ########################\n",
    "##################################################################################\n",
    "print('clearing directories')\n",
    "try:\n",
    "    [ os.remove(os.path.join(uyulala.dataDir,'labeled',folderName,f)) for f in os.listdir(os.path.join(uyulala.dataDir,'labeled',folderName)) if f.endswith(\".csv\") ]\n",
    "except:\n",
    "    os.makedirs(os.path.join(uyulala.dataDir,'labeled',folderName))\n",
    "\n",
    "try:\n",
    "    [ os.remove(os.path.join(uyulala.modelsDir,folderName,f)) for f in os.listdir(os.path.join(uyulala.modelsDir,folderName)) if f!='pca_model_id.txt'  ]\n",
    "except:\n",
    "    os.makedirs(os.path.join(uyulala.modelsDir,folderName))\n"
   ]
  },
  {
   "cell_type": "code",
   "execution_count": 4,
   "metadata": {},
   "outputs": [
    {
     "data": {
      "text/plain": [
       "'\\n##################################################################################\\n################# Get and transform data (run leftSphnix) ########################\\n##################################################################################\\nprint(\\'getting and transforming data\\')\\nif assets!=\"Test\":\\n    import warnings\\n    warnings.filterwarnings(\"ignore\")\\n\\n\\nfilePath = os.path.join(uyulala.uyulalaDir,\\'greatRiddleGate\\',\\'leftSphnix.py\\')\\nprint(\\'making call: \\'+\\'python %s --assets=%s --horizon=%i --start=%s\\' % (filePath,assets,horizon,startDate))\\nsubprocess.call(\\'python %s --assets=%s --horizon=%i --start=%s\\' % (filePath,assets,horizon,startDate), shell=True)\\n'"
      ]
     },
     "execution_count": 4,
     "metadata": {},
     "output_type": "execute_result"
    }
   ],
   "source": [
    "\n",
    "'''\n",
    "##################################################################################\n",
    "################# Get and transform data (run leftSphnix) ########################\n",
    "##################################################################################\n",
    "print('getting and transforming data')\n",
    "if assets!=\"Test\":\n",
    "    import warnings\n",
    "    warnings.filterwarnings(\"ignore\")\n",
    "\n",
    "\n",
    "filePath = os.path.join(uyulala.uyulalaDir,'greatRiddleGate','leftSphnix.py')\n",
    "print('making call: '+'python %s --assets=%s --horizon=%i --start=%s' % (filePath,assets,horizon,startDate))\n",
    "subprocess.call('python %s --assets=%s --horizon=%i --start=%s' % (filePath,assets,horizon,startDate), shell=True)\n",
    "'''\n"
   ]
  },
  {
   "cell_type": "code",
   "execution_count": 5,
   "metadata": {},
   "outputs": [
    {
     "name": "stdout",
     "output_type": "stream",
     "text": [
      "creating \n",
      "labelling data\n",
      "label for biggest losslabel for biggest losslabel for biggest loss\n",
      "\n",
      "\n",
      "label for highest gainlabel for highest gainlabel for highest gain\n",
      "\n",
      "\n",
      "label for whether higest gain comes before biggest losslabel for whether higest gain comes before biggest loss\n",
      "\n",
      "label for whether higest gain comes before biggest loss\n",
      "add weights column\n",
      "add weights column\n",
      "add weights column\n",
      "Done labelling data\n"
     ]
    }
   ],
   "source": [
    "\n",
    "##################################################################################\n",
    "########################       Create        ###############################\n",
    "##################################################################################\n",
    "print('creating ')\n",
    "\n",
    "evaluate = [ f.replace('.csv','') for f in os.listdir(os.path.join(uyulala.dataDir,'transformed',folderName)) if f.endswith(\".csv\") ]\n",
    "\n",
    "\n",
    "def createLabels(asset=''):\n",
    "    try:\n",
    "        labeled = pandas.read_csv(os.path.join(uyulala.dataDir,'raw',folderName,asset+'.csv'),parse_dates=['DateCol']).set_index('DateCol',drop=False)\n",
    "        labeled = labeled.drop_duplicates(subset=['Date'], keep='last')\n",
    "        #########################################################################\n",
    "        # THE BELOW MUST REMAIN IN CORRECT ORDER SINCE CALLED BELOW BY POSITION #\n",
    "        #########################################################################\n",
    "        # Key Regression Field (what's the biggest loss?)\n",
    "        print('label for biggest loss')\n",
    "        labeled = uyulala.lowPercentChange(df=labeled,horizon=horizon)\n",
    "        # Key Regression Field (what's the predicted return?)\n",
    "        print('label for highest gain')\n",
    "        labeled = uyulala.percentChange(df=labeled,horizon=horizon,HighOrClose='High')\n",
    "        # Key Classification Field (is it a good buy?)\n",
    "        print('label for whether higest gain comes before biggest loss')\n",
    "        labeled = uyulala.expectedReturnPct(df=labeled,horizon=horizon)\n",
    "        #add weights\n",
    "        print('add weights column')\n",
    "        labeled = uyulala.weights(df=labeled, horizon=horizon,weightForIncrease=1,weightForDecrease=2)\n",
    "        # Clean-up\n",
    "        labeled = labeled.drop(['Open','High','Low','Close','Volume'],axis=1)\n",
    "        labeled.to_csv(os.path.join(uyulala.dataDir,'labeled',folderName,asset+'.csv'),index=False)\n",
    "        return asset\n",
    "    except:\n",
    "        print('unable to create label for '+asset)\n",
    "        pass\n",
    "\n",
    "\n",
    "print('labelling data')\n",
    "for i in range(0,len(evaluate),500):\n",
    "    l = evaluate[i:i+500]\n",
    "    pool = Pool(uyulala.availableCores,maxtasksperchild=1)\n",
    "    pool.map(createLabels, l)\n",
    "    pool.close()\n",
    "    pool.join()\n",
    "\n",
    "print('Done labelling data')\n",
    "\n"
   ]
  },
  {
   "cell_type": "code",
   "execution_count": 6,
   "metadata": {},
   "outputs": [
    {
     "name": "stdout",
     "output_type": "stream",
     "text": [
      "Checking whether there is an H2O instance running at http://localhost:54321 ..... not found.\n",
      "Attempting to start a local H2O server...\n",
      "  Java Version: java version \"1.8.0_101\"; Java(TM) SE Runtime Environment (build 1.8.0_101-b13); Java HotSpot(TM) 64-Bit Server VM (build 25.101-b13, mixed mode)\n",
      "  Starting server from /Users/Damian/opt/anaconda3/envs/uyulala/lib/python3.7/site-packages/h2o/backend/bin/h2o.jar\n",
      "  Ice root: /var/folders/5b/s4769fcn60d842cy18f7nc3h0000gn/T/tmpu7n830tt\n",
      "  JVM stdout: /var/folders/5b/s4769fcn60d842cy18f7nc3h0000gn/T/tmpu7n830tt/h2o_Damian_started_from_python.out\n",
      "  JVM stderr: /var/folders/5b/s4769fcn60d842cy18f7nc3h0000gn/T/tmpu7n830tt/h2o_Damian_started_from_python.err\n",
      "  Server is running at http://127.0.0.1:54323\n",
      "Connecting to H2O server at http://127.0.0.1:54323 ... successful.\n"
     ]
    },
    {
     "data": {
      "text/html": [
       "<div style=\"overflow:auto\"><table style=\"width:50%\"><tr><td>H2O_cluster_uptime:</td>\n",
       "<td>02 secs</td></tr>\n",
       "<tr><td>H2O_cluster_timezone:</td>\n",
       "<td>America/Chicago</td></tr>\n",
       "<tr><td>H2O_data_parsing_timezone:</td>\n",
       "<td>UTC</td></tr>\n",
       "<tr><td>H2O_cluster_version:</td>\n",
       "<td>3.30.1.3</td></tr>\n",
       "<tr><td>H2O_cluster_version_age:</td>\n",
       "<td>23 days </td></tr>\n",
       "<tr><td>H2O_cluster_name:</td>\n",
       "<td>H2O_from_python_Damian_arqt2n</td></tr>\n",
       "<tr><td>H2O_cluster_total_nodes:</td>\n",
       "<td>1</td></tr>\n",
       "<tr><td>H2O_cluster_free_memory:</td>\n",
       "<td>6.223 Gb</td></tr>\n",
       "<tr><td>H2O_cluster_total_cores:</td>\n",
       "<td>24</td></tr>\n",
       "<tr><td>H2O_cluster_allowed_cores:</td>\n",
       "<td>24</td></tr>\n",
       "<tr><td>H2O_cluster_status:</td>\n",
       "<td>accepting new members, healthy</td></tr>\n",
       "<tr><td>H2O_connection_url:</td>\n",
       "<td>http://127.0.0.1:54323</td></tr>\n",
       "<tr><td>H2O_connection_proxy:</td>\n",
       "<td>{\"http\": null, \"https\": null}</td></tr>\n",
       "<tr><td>H2O_internal_security:</td>\n",
       "<td>False</td></tr>\n",
       "<tr><td>H2O_API_Extensions:</td>\n",
       "<td>Amazon S3, XGBoost, Algos, AutoML, Core V3, TargetEncoder, Core V4</td></tr>\n",
       "<tr><td>Python_version:</td>\n",
       "<td>3.7.6 final</td></tr></table></div>"
      ],
      "text/plain": [
       "--------------------------  ------------------------------------------------------------------\n",
       "H2O_cluster_uptime:         02 secs\n",
       "H2O_cluster_timezone:       America/Chicago\n",
       "H2O_data_parsing_timezone:  UTC\n",
       "H2O_cluster_version:        3.30.1.3\n",
       "H2O_cluster_version_age:    23 days\n",
       "H2O_cluster_name:           H2O_from_python_Damian_arqt2n\n",
       "H2O_cluster_total_nodes:    1\n",
       "H2O_cluster_free_memory:    6.223 Gb\n",
       "H2O_cluster_total_cores:    24\n",
       "H2O_cluster_allowed_cores:  24\n",
       "H2O_cluster_status:         accepting new members, healthy\n",
       "H2O_connection_url:         http://127.0.0.1:54323\n",
       "H2O_connection_proxy:       {\"http\": null, \"https\": null}\n",
       "H2O_internal_security:      False\n",
       "H2O_API_Extensions:         Amazon S3, XGBoost, Algos, AutoML, Core V3, TargetEncoder, Core V4\n",
       "Python_version:             3.7.6 final\n",
       "--------------------------  ------------------------------------------------------------------"
      ]
     },
     "metadata": {},
     "output_type": "display_data"
    }
   ],
   "source": [
    "\n",
    "##################################################################################\n",
    "##########################       Load Data       #################################\n",
    "##################################################################################\n",
    "\n",
    "\n",
    "import h2o\n",
    "from h2o.automl import H2OAutoML\n",
    "from h2o.estimators.gbm import H2OGradientBoostingEstimator\n",
    "from h2o.grid.grid_search import H2OGridSearch\n",
    "from h2o.frame import H2OFrame\n",
    "\n",
    "try:\n",
    "    h2o.init(nthreads = -1,max_mem_size=\"%sG\" % int(totMem/1500000000/1.5),min_mem_size=\"%sG\" % int(availMem/1500000000/1.5))\n",
    "except:\n",
    "    time.sleep(20)\n",
    "    h2o.init(nthreads = -1,max_mem_size=\"%sG\" % int(totMem/1500000000/1.5),min_mem_size=\"%sG\" % int(availMem/1500000000/1.5))\n"
   ]
  },
  {
   "cell_type": "code",
   "execution_count": 7,
   "metadata": {},
   "outputs": [
    {
     "name": "stdout",
     "output_type": "stream",
     "text": [
      "importing data\n",
      "full data size: 0.003383502gb\n"
     ]
    }
   ],
   "source": [
    "\n",
    "\n",
    "print('importing data')\n",
    "\n",
    "dataSize = sum(f.stat().st_size for f in Path(os.path.join(uyulala.dataDir,'transformed',folderName)).glob('**/*') if f.is_file() ) + sum(os.path.getsize(os.path.join(uyulala.dataDir,'labeled',folderName,f)) for f in os.listdir(os.path.join(uyulala.dataDir,'labeled',folderName)))\n",
    "ratio = ((availMem/2000000000) / (20.0000000000000)) / (dataSize/1000000000)\n",
    "print('full data size: {}gb'.format(dataSize/1000000000.00))\n",
    "\n",
    "transformed_files = [file for file in os.listdir(os.path.join(uyulala.dataDir,'transformed',folderName)) if file not in ['.DS_Store']]\n",
    "#transformed_pca_files = [file for file in os.listdir(os.path.join(uyulala.dataDir,'transformed_pca',folderName)) if file not in ['.DS_Store']]\n",
    "\n",
    "def sampleAndCleanDataAsNeeded(transformed_files=transformed_files):\n",
    "    if ratio < 0.98:\n",
    "        print('reducing file size by {}%'.format(100*(1-ratio)))\n",
    "        k=math.ceil(len(transformed_files)*ratio)\n",
    "        sampledFiles=random.choices(transformed_files, k=max(1,min(k,len(transformed_files))))\n",
    "    else:\n",
    "        sampledFiles=transformed_files\n",
    "\n",
    "    print('Files to use: {}'.format(sampledFiles))\n",
    "\n",
    "    fullDF = h2o.import_file(path=os.path.join(uyulala.dataDir,'transformed',folderName),pattern = \"(%s)\" % ('|'.join(sampledFiles),),col_types={'DateCol':'enum','Date':'enum'}).na_omit().merge(h2o.import_file(path=os.path.join(uyulala.dataDir,'labeled',folderName),pattern = \".*\\.csv\",col_types={'DateCol':'enum','Date':'enum'}).na_omit()).na_omit()\n",
    "    #fullDF = h2o.import_file(path=os.path.join(uyulala.dataDir,'transformed_pca',folderName),pattern = \"(%s)\" % ('|'.join(sampledFiles),),col_types={'DateCol':'enum','Date':'enum'}).na_omit().merge(h2o.import_file(path=os.path.join(uyulala.dataDir,'labeled',folderName),pattern = \".*\\.csv\",col_types={'DateCol':'enum','Date':'enum'}).na_omit()).na_omit()\n",
    "\n",
    "    ##################################################################################\n",
    "    #####################       Clean and Split Data       ############################\n",
    "    ##################################################################################\n",
    "\n",
    "    uniqueMonths = list(set([x[0:7] for x in fullDF['Date'].unique().as_data_frame()['C1'].tolist()]))\n",
    "    holdoutMonths = random.choices(uniqueMonths, k=int(len(uniqueMonths)*.15))\n",
    "    fullDF = fullDF.cbind(H2OFrame(fullDF.as_data_frame()['Date'].apply(lambda x:x[0:7]).to_frame(name='mnth'),column_types=['enum']))\n",
    "    oot = fullDF[fullDF['mnth'].isin(holdoutMonths),:]\n",
    "    fullDF = fullDF.drop('mnth')\n",
    "    oot = oot.drop('mnth')\n",
    "\n",
    "    print('Final data size is %s' % (fullDF.shape,))\n",
    "    train,test = fullDF.split_frame(ratios=[.85])\n",
    "    test = test.rbind(oot)\n",
    "    print('Training data size: %s' % (train.shape,))\n",
    "    print('Validation data size: %s' % (test.shape,))\n",
    "    print(train.head(2))\n",
    "    print(test.head(2))\n",
    "    features = [s for s in fullDF.columns if \"feat_\" in s]\n",
    "    #features = [s for s in fullDF.columns if \"PC\" in s]\n",
    "    labels = [s for s in fullDF.columns if \"lab_\" in s]\n",
    "\n",
    "    train = train[(train[labels[0]]>=train[labels[0]].mean()[0] - (2*train[labels[0]].sd()[0])) &\n",
    "    (train[labels[0]]<=train[labels[0]].mean()[0] + (2*train[labels[0]].sd()[0])) &\n",
    "    (train[labels[1]]>=train[labels[1]].mean()[0] - (2*train[labels[1]].sd()[0])) &\n",
    "    (train[labels[1]]<=train[labels[1]].mean()[0] + (2*train[labels[1]].sd()[0]))]\n",
    "\n",
    "    h2o.remove('oot')\n",
    "    h2o.remove('fullDF')\n",
    "    return train,test,labels,features\n",
    "\n"
   ]
  },
  {
   "cell_type": "code",
   "execution_count": null,
   "metadata": {},
   "outputs": [],
   "source": []
  },
  {
   "cell_type": "code",
   "execution_count": null,
   "metadata": {},
   "outputs": [],
   "source": []
  },
  {
   "cell_type": "code",
   "execution_count": null,
   "metadata": {},
   "outputs": [],
   "source": []
  },
  {
   "cell_type": "code",
   "execution_count": null,
   "metadata": {},
   "outputs": [],
   "source": []
  },
  {
   "cell_type": "code",
   "execution_count": null,
   "metadata": {},
   "outputs": [],
   "source": []
  },
  {
   "cell_type": "code",
   "execution_count": null,
   "metadata": {},
   "outputs": [],
   "source": []
  },
  {
   "cell_type": "code",
   "execution_count": 10,
   "metadata": {},
   "outputs": [
    {
     "name": "stdout",
     "output_type": "stream",
     "text": [
      "Files to use: ['CHIX.csv', 'QQQC.csv', 'SDEM.csv']\n",
      "Parse progress: |█████████████████████████████████████████████████████████| 100%\n",
      "Parse progress: |█████████████████████████████████████████████████████████| 100%\n",
      "Parse progress: |█████████████████████████████████████████████████████████| 100%\n",
      "Final data size is (1472, 128)\n",
      "Training data size: (1233, 128)\n",
      "Validation data size: (417, 128)\n"
     ]
    },
    {
     "data": {
      "text/html": [
       "<table>\n",
       "<thead>\n",
       "<tr><th>Date      </th><th>Symbol  </th><th>DateCol   </th><th style=\"text-align: right;\">  feat_Open</th><th style=\"text-align: right;\">  feat_High</th><th style=\"text-align: right;\">  feat_Low</th><th style=\"text-align: right;\">  feat_Close</th><th style=\"text-align: right;\">  feat_Volume</th><th style=\"text-align: right;\">  feat_VROC11</th><th style=\"text-align: right;\">  feat_VROC7</th><th style=\"text-align: right;\">  feat_VROC5</th><th style=\"text-align: right;\">  feat_VROC3</th><th style=\"text-align: right;\">  feat_PROC11</th><th style=\"text-align: right;\">  feat_PROC7</th><th style=\"text-align: right;\">  feat_PROC2</th><th style=\"text-align: right;\">  feat_PROC3</th><th style=\"text-align: right;\">  feat_DOW</th><th style=\"text-align: right;\">  feat_RSI17</th><th style=\"text-align: right;\">  feat_RSI13</th><th style=\"text-align: right;\">  feat_RSI11</th><th style=\"text-align: right;\">  feat_RSIg7</th><th style=\"text-align: right;\">  feat_RSIg5</th><th style=\"text-align: right;\">  feat_RSIg3</th><th style=\"text-align: right;\">  feat_Close11/19SMARatio</th><th style=\"text-align: right;\">  feat_Close5/11SMARatio</th><th style=\"text-align: right;\">  feat_Close3/7SMARatio</th><th style=\"text-align: right;\">  feat_Close2PctFromSMA</th><th style=\"text-align: right;\">  feat_Close4PctFromSMA</th><th style=\"text-align: right;\">  feat_Close8PctFromSMA</th><th style=\"text-align: right;\">  feat_10CCI</th><th style=\"text-align: right;\">  feat_6CCI</th><th style=\"text-align: right;\">  feat_3CCI</th><th style=\"text-align: right;\">  feat_10FI</th><th style=\"text-align: right;\">  feat_6FI</th><th style=\"text-align: right;\">  feat_3FI</th><th style=\"text-align: right;\">  feat_10EMV</th><th style=\"text-align: right;\">  feat_6EMV</th><th style=\"text-align: right;\">  feat_3EMV</th><th style=\"text-align: right;\">  feat_Close10PctFromUpperBB</th><th style=\"text-align: right;\">  feat_Close10PctFromLowerBB</th><th style=\"text-align: right;\">  feat_Close10BBBandwidth</th><th style=\"text-align: right;\">  feat_Close10PctB</th><th style=\"text-align: right;\">  feat_Close6PctFromUpperBB</th><th style=\"text-align: right;\">  feat_Close6PctFromLowerBB</th><th style=\"text-align: right;\">  feat_Close6BBBandwidth</th><th style=\"text-align: right;\">  feat_Close6PctB</th><th style=\"text-align: right;\">  feat_Close3PctFromUpperBB</th><th style=\"text-align: right;\">  feat_Close3PctFromLowerBB</th><th style=\"text-align: right;\">  feat_Close3BBBandwidth</th><th style=\"text-align: right;\">  feat_Close3PctB</th><th style=\"text-align: right;\">  feat_DIRatio17</th><th style=\"text-align: right;\">  feat_ADX17</th><th style=\"text-align: right;\">  feat_DMI17</th><th style=\"text-align: right;\">  feat_AdjATR17</th><th style=\"text-align: right;\">  feat_DIRatio14</th><th style=\"text-align: right;\">  feat_ADX14</th><th style=\"text-align: right;\">  feat_DMI14</th><th style=\"text-align: right;\">  feat_AdjATR14</th><th style=\"text-align: right;\">  feat_DIRatio11</th><th style=\"text-align: right;\">  feat_ADX11</th><th style=\"text-align: right;\">  feat_DMI11</th><th style=\"text-align: right;\">  feat_AdjATR11</th><th style=\"text-align: right;\">  feat_DIRatio9</th><th style=\"text-align: right;\">  feat_ADX9</th><th style=\"text-align: right;\">  feat_DMI9</th><th style=\"text-align: right;\">  feat_AdjATR9</th><th style=\"text-align: right;\">  feat_DIRatio7</th><th style=\"text-align: right;\">  feat_ADX7</th><th style=\"text-align: right;\">  feat_DMI7</th><th style=\"text-align: right;\">  feat_AdjATR7</th><th style=\"text-align: right;\">  feat_DIRatio5</th><th style=\"text-align: right;\">  feat_ADX5</th><th style=\"text-align: right;\">  feat_DMI5</th><th style=\"text-align: right;\">  feat_AdjATR5</th><th style=\"text-align: right;\">  feat_DIRatio4</th><th style=\"text-align: right;\">  feat_ADX4</th><th style=\"text-align: right;\">  feat_DMI4</th><th style=\"text-align: right;\">  feat_AdjATR4</th><th style=\"text-align: right;\">  feat_DIRatio3</th><th style=\"text-align: right;\">  feat_ADX3</th><th style=\"text-align: right;\">  feat_DMI3</th><th style=\"text-align: right;\">  feat_AdjATR3</th><th style=\"text-align: right;\">  feat_DIRatio2</th><th style=\"text-align: right;\">  feat_ADX2</th><th style=\"text-align: right;\">  feat_DMI2</th><th style=\"text-align: right;\">  feat_AdjATR2</th><th style=\"text-align: right;\">  feat_Close91226MACD</th><th style=\"text-align: right;\">  feat_Close71123MACD</th><th style=\"text-align: right;\">  feat_235MACDg</th><th style=\"text-align: right;\">  feat_357MACDg</th><th style=\"text-align: right;\">  feat_5711MACDg</th><th style=\"text-align: right;\">  feat_11StocOsc</th><th style=\"text-align: right;\">  feat_11StocOscRatio</th><th style=\"text-align: right;\">  feat_7StocOsc</th><th style=\"text-align: right;\">  feat_7StocOscRatio</th><th style=\"text-align: right;\">  feat_5StocOsc</th><th style=\"text-align: right;\">  feat_5StocOscRatio</th><th style=\"text-align: right;\">  feat_3StocOsc</th><th style=\"text-align: right;\">  feat_3StocOscRatio</th><th style=\"text-align: right;\">  feat_11PriceChannelDist</th><th style=\"text-align: right;\">  feat_7PriceChannelDist</th><th style=\"text-align: right;\">  feat_5PriceChannelDist</th><th style=\"text-align: right;\">  feat_3PriceChannelDist</th><th style=\"text-align: right;\">  feat_PSAR</th><th style=\"text-align: right;\">  feat_10ADL</th><th style=\"text-align: right;\">  feat_10CMF</th><th style=\"text-align: right;\">  feat_10ChaikinOscillator</th><th style=\"text-align: right;\">  feat_5ADL</th><th style=\"text-align: right;\">  feat_5CMF</th><th style=\"text-align: right;\">  feat_5ChaikinOscillator</th><th style=\"text-align: right;\">  feat_10AroonUp</th><th style=\"text-align: right;\">  feat_10AroonDown</th><th style=\"text-align: right;\">  feat_10AroonOscillator</th><th style=\"text-align: right;\">  feat_5AroonUp</th><th style=\"text-align: right;\">  feat_5AroonDown</th><th style=\"text-align: right;\">  feat_5AroonOscillator</th><th style=\"text-align: right;\">  feat_autocorr10High1</th><th style=\"text-align: right;\">  feat_autocorr5High1</th><th style=\"text-align: right;\">  feat_autocorr5High2</th><th style=\"text-align: right;\">  feat_autocorr3High1</th><th style=\"text-align: right;\">  feat_autocorr3High2</th><th style=\"text-align: right;\">  feat_autocorr3High3</th><th style=\"text-align: right;\">  feat_autocorr2High2</th><th style=\"text-align: right;\">  feat_autocorr2High1</th><th style=\"text-align: right;\">  lab_lowPercentChange_H2</th><th style=\"text-align: right;\">  lab_percentChange_H2High</th><th>lab_expectedReturnPct_H2  </th><th style=\"text-align: right;\">  weights</th></tr>\n",
       "</thead>\n",
       "<tbody>\n",
       "<tr><td>2018-01-29</td><td>QQQC    </td><td>2018-01-29</td><td style=\"text-align: right;\">      33.52</td><td style=\"text-align: right;\">      33.52</td><td style=\"text-align: right;\">     33   </td><td style=\"text-align: right;\">       33.09</td><td style=\"text-align: right;\">        43500</td><td style=\"text-align: right;\">     3.02778 </td><td style=\"text-align: right;\">    1.00461 </td><td style=\"text-align: right;\">    1.51445 </td><td style=\"text-align: right;\">    0.520979</td><td style=\"text-align: right;\">    0.0200852</td><td style=\"text-align: right;\">  0.0172989 </td><td style=\"text-align: right;\"> -0.00681481</td><td style=\"text-align: right;\"> -0.0158544 </td><td style=\"text-align: right;\">         1</td><td style=\"text-align: right;\">         100</td><td style=\"text-align: right;\">         100</td><td style=\"text-align: right;\">         100</td><td style=\"text-align: right;\">         100</td><td style=\"text-align: right;\">         100</td><td style=\"text-align: right;\">         100</td><td style=\"text-align: right;\">                0.0055529</td><td style=\"text-align: right;\">              0.0040961 </td><td style=\"text-align: right;\">            0.000439317</td><td style=\"text-align: right;\">            -0.0147387 </td><td style=\"text-align: right;\">             -0.015618 </td><td style=\"text-align: right;\">             -0.0123862</td><td style=\"text-align: right;\">    -24.5769</td><td style=\"text-align: right;\">  -104.075 </td><td style=\"text-align: right;\">   -65.2611</td><td style=\"text-align: right;\"> 0.00532378</td><td style=\"text-align: right;\">0.00583593</td><td style=\"text-align: right;\">0.00498633</td><td style=\"text-align: right;\"> 0.000254589</td><td style=\"text-align: right;\">-0.0274721 </td><td style=\"text-align: right;\">-0.0933507 </td><td style=\"text-align: right;\">                  -0.0336929</td><td style=\"text-align: right;\">                   0.0178335</td><td style=\"text-align: right;\">                  5.19383</td><td style=\"text-align: right;\">          0.334443</td><td style=\"text-align: right;\">                 -0.0339628</td><td style=\"text-align: right;\">                 0.00313279</td><td style=\"text-align: right;\">                 3.76764</td><td style=\"text-align: right;\">        0.0815836</td><td style=\"text-align: right;\">                 -0.0439932</td><td style=\"text-align: right;\">                  0.0143894</td><td style=\"text-align: right;\">                 5.92598</td><td style=\"text-align: right;\">         0.235625</td><td style=\"text-align: right;\">         72.0074</td><td style=\"text-align: right;\">     72.0074</td><td style=\"text-align: right;\">     51.8507</td><td style=\"text-align: right;\">      0.0147691</td><td style=\"text-align: right;\">         71.2545</td><td style=\"text-align: right;\">     71.2545</td><td style=\"text-align: right;\">     50.772 </td><td style=\"text-align: right;\">      0.0153551</td><td style=\"text-align: right;\">         70.4897</td><td style=\"text-align: right;\">     70.4897</td><td style=\"text-align: right;\">      49.688</td><td style=\"text-align: right;\">      0.016836 </td><td style=\"text-align: right;\">        69.9576</td><td style=\"text-align: right;\">    69.9576</td><td style=\"text-align: right;\">    48.9407</td><td style=\"text-align: right;\">     0.0168328</td><td style=\"text-align: right;\">        68.9846</td><td style=\"text-align: right;\">    68.9846</td><td style=\"text-align: right;\">    47.5888</td><td style=\"text-align: right;\">     0.0166809</td><td style=\"text-align: right;\">        64.9319</td><td style=\"text-align: right;\">    64.9319</td><td style=\"text-align: right;\">   42.1615 </td><td style=\"text-align: right;\">     0.0190533</td><td style=\"text-align: right;\">       58.4735 </td><td style=\"text-align: right;\">    58.4735</td><td style=\"text-align: right;\">  34.1915  </td><td style=\"text-align: right;\">     0.0211492</td><td style=\"text-align: right;\">        43.663 </td><td style=\"text-align: right;\">    53.8032</td><td style=\"text-align: right;\">    23.4921</td><td style=\"text-align: right;\">     0.0198802</td><td style=\"text-align: right;\">        9.00012</td><td style=\"text-align: right;\">    57.5215</td><td style=\"text-align: right;\">     5.177 </td><td style=\"text-align: right;\">     0.0224129</td><td style=\"text-align: right;\">            0.0644791</td><td style=\"text-align: right;\">            0.0226054</td><td style=\"text-align: right;\">       -1.32587</td><td style=\"text-align: right;\">      -0.269581</td><td style=\"text-align: right;\">      -0.0960192</td><td style=\"text-align: right;\">         35.8491</td><td style=\"text-align: right;\">            -0.486126</td><td style=\"text-align: right;\">        8.10811</td><td style=\"text-align: right;\">           -0.865892</td><td style=\"text-align: right;\">        8.10811</td><td style=\"text-align: right;\">           -0.848038</td><td style=\"text-align: right;\">        8.10811</td><td style=\"text-align: right;\">           -0.848038</td><td style=\"text-align: right;\">              -0.00675371</td><td style=\"text-align: right;\">              -0.0138578</td><td style=\"text-align: right;\">              -0.0138578</td><td style=\"text-align: right;\">              -0.0138578</td><td style=\"text-align: right;\"> -0.0299033</td><td style=\"text-align: right;\">    0.177129</td><td style=\"text-align: right;\">    0.155732</td><td style=\"text-align: right;\">                 0        </td><td style=\"text-align: right;\">   0.158157</td><td style=\"text-align: right;\">  0.0791925</td><td style=\"text-align: right;\">                -0.171255</td><td style=\"text-align: right;\">              90</td><td style=\"text-align: right;\">                20</td><td style=\"text-align: right;\">                      70</td><td style=\"text-align: right;\">             80</td><td style=\"text-align: right;\">              100</td><td style=\"text-align: right;\">                    -20</td><td style=\"text-align: right;\">              0.592387</td><td style=\"text-align: right;\">            -0.576956</td><td style=\"text-align: right;\">             0.352371</td><td style=\"text-align: right;\">            -0.964164</td><td style=\"text-align: right;\">            0.911224 </td><td style=\"text-align: right;\">            -0.567063</td><td style=\"text-align: right;\">                    1</td><td style=\"text-align: right;\">                   -1</td><td style=\"text-align: right;\">               -0.0231496</td><td style=\"text-align: right;\">                 0.0261956</td><td>n-2                       </td><td style=\"text-align: right;\">        2</td></tr>\n",
       "<tr><td>2018-01-30</td><td>CHIX    </td><td>2018-01-30</td><td style=\"text-align: right;\">      18.6 </td><td style=\"text-align: right;\">      18.71</td><td style=\"text-align: right;\">     18.48</td><td style=\"text-align: right;\">       18.55</td><td style=\"text-align: right;\">        56600</td><td style=\"text-align: right;\">     0.280543</td><td style=\"text-align: right;\">    0.612536</td><td style=\"text-align: right;\">   -0.358277</td><td style=\"text-align: right;\">    0.607955</td><td style=\"text-align: right;\">    0.0458357</td><td style=\"text-align: right;\">  0.00483351</td><td style=\"text-align: right;\"> -0.0285566 </td><td style=\"text-align: right;\"> -0.00478723</td><td style=\"text-align: right;\">         2</td><td style=\"text-align: right;\">         100</td><td style=\"text-align: right;\">         100</td><td style=\"text-align: right;\">         100</td><td style=\"text-align: right;\">         100</td><td style=\"text-align: right;\">         100</td><td style=\"text-align: right;\">         100</td><td style=\"text-align: right;\">                0.0137898</td><td style=\"text-align: right;\">              0.00578382</td><td style=\"text-align: right;\">            0.000379075</td><td style=\"text-align: right;\">            -0.00562852</td><td style=\"text-align: right;\">             -0.0142155</td><td style=\"text-align: right;\">             -0.0134946</td><td style=\"text-align: right;\">    -26.4599</td><td style=\"text-align: right;\">   -88.3808</td><td style=\"text-align: right;\">   -60.7058</td><td style=\"text-align: right;\"> 0.0054197 </td><td style=\"text-align: right;\">0.00450123</td><td style=\"text-align: right;\">0.004331  </td><td style=\"text-align: right;\"> 0.00127872 </td><td style=\"text-align: right;\">-0.00727705</td><td style=\"text-align: right;\">-0.00876567</td><td style=\"text-align: right;\">                  -0.0386485</td><td style=\"text-align: right;\">                   0.0245082</td><td style=\"text-align: right;\">                  6.36063</td><td style=\"text-align: right;\">          0.373056</td><td style=\"text-align: right;\">                 -0.0408596</td><td style=\"text-align: right;\">                 0.00907903</td><td style=\"text-align: right;\">                 5.0745 </td><td style=\"text-align: right;\">        0.174375 </td><td style=\"text-align: right;\">                 -0.0515094</td><td style=\"text-align: right;\">                  0.0224548</td><td style=\"text-align: right;\">                 7.50546</td><td style=\"text-align: right;\">         0.287953</td><td style=\"text-align: right;\">         79.9021</td><td style=\"text-align: right;\">     79.9021</td><td style=\"text-align: right;\">     63.8434</td><td style=\"text-align: right;\">      0.0144861</td><td style=\"text-align: right;\">         75.4258</td><td style=\"text-align: right;\">     75.4258</td><td style=\"text-align: right;\">     56.8906</td><td style=\"text-align: right;\">      0.0159506</td><td style=\"text-align: right;\">         67.8277</td><td style=\"text-align: right;\">     67.8277</td><td style=\"text-align: right;\">      46.006</td><td style=\"text-align: right;\">      0.0174314</td><td style=\"text-align: right;\">        59.3509</td><td style=\"text-align: right;\">    59.3509</td><td style=\"text-align: right;\">    35.2253</td><td style=\"text-align: right;\">     0.0166187</td><td style=\"text-align: right;\">        45.5136</td><td style=\"text-align: right;\">    52.2672</td><td style=\"text-align: right;\">    23.7887</td><td style=\"text-align: right;\">     0.0182098</td><td style=\"text-align: right;\">        21.3328</td><td style=\"text-align: right;\">    43.7308</td><td style=\"text-align: right;\">    9.32899</td><td style=\"text-align: right;\">     0.0208352</td><td style=\"text-align: right;\">        2.44845</td><td style=\"text-align: right;\">    40.6149</td><td style=\"text-align: right;\">   0.994438</td><td style=\"text-align: right;\">     0.0218795</td><td style=\"text-align: right;\">       -23.5569</td><td style=\"text-align: right;\">    48.4502</td><td style=\"text-align: right;\">   -11.4134</td><td style=\"text-align: right;\">     0.0229671</td><td style=\"text-align: right;\">      -59.6172 </td><td style=\"text-align: right;\">    70.3765</td><td style=\"text-align: right;\">   -41.9565</td><td style=\"text-align: right;\">     0.0204319</td><td style=\"text-align: right;\">            0.0557491</td><td style=\"text-align: right;\">            0.0120404</td><td style=\"text-align: right;\">       -5.63807</td><td style=\"text-align: right;\">      -0.314211</td><td style=\"text-align: right;\">      -0.133945 </td><td style=\"text-align: right;\">         48.5507</td><td style=\"text-align: right;\">            -0.330371</td><td style=\"text-align: right;\">        8.97436</td><td style=\"text-align: right;\">           -0.810371</td><td style=\"text-align: right;\">        8.97436</td><td style=\"text-align: right;\">           -0.793471</td><td style=\"text-align: right;\">        8.97436</td><td style=\"text-align: right;\">           -0.793196</td><td style=\"text-align: right;\">              -0.00107701</td><td style=\"text-align: right;\">              -0.0169581</td><td style=\"text-align: right;\">              -0.0169581</td><td style=\"text-align: right;\">              -0.0169581</td><td style=\"text-align: right;\"> -0.036864 </td><td style=\"text-align: right;\">    0.264216</td><td style=\"text-align: right;\">    0.154216</td><td style=\"text-align: right;\">                 0.0200817</td><td style=\"text-align: right;\">  -0.216544</td><td style=\"text-align: right;\"> -0.220365 </td><td style=\"text-align: right;\">                -0.3144  </td><td style=\"text-align: right;\">              80</td><td style=\"text-align: right;\">                10</td><td style=\"text-align: right;\">                      70</td><td style=\"text-align: right;\">             60</td><td style=\"text-align: right;\">              100</td><td style=\"text-align: right;\">                    -40</td><td style=\"text-align: right;\">              0.665055</td><td style=\"text-align: right;\">            -0.482434</td><td style=\"text-align: right;\">            -0.268992</td><td style=\"text-align: right;\">            -0.380017</td><td style=\"text-align: right;\">            0.0364025</td><td style=\"text-align: right;\">             0.312363</td><td style=\"text-align: right;\">                   -1</td><td style=\"text-align: right;\">                    1</td><td style=\"text-align: right;\">               -0.0227393</td><td style=\"text-align: right;\">                 0        </td><td>p0                        </td><td style=\"text-align: right;\">        2</td></tr>\n",
       "</tbody>\n",
       "</table>"
      ]
     },
     "metadata": {},
     "output_type": "display_data"
    },
    {
     "name": "stdout",
     "output_type": "stream",
     "text": [
      "\n"
     ]
    },
    {
     "data": {
      "text/html": [
       "<table>\n",
       "<thead>\n",
       "<tr><th>Date      </th><th>Symbol  </th><th>DateCol   </th><th style=\"text-align: right;\">  feat_Open</th><th style=\"text-align: right;\">  feat_High</th><th style=\"text-align: right;\">  feat_Low</th><th style=\"text-align: right;\">  feat_Close</th><th style=\"text-align: right;\">  feat_Volume</th><th style=\"text-align: right;\">  feat_VROC11</th><th style=\"text-align: right;\">  feat_VROC7</th><th style=\"text-align: right;\">  feat_VROC5</th><th style=\"text-align: right;\">  feat_VROC3</th><th style=\"text-align: right;\">  feat_PROC11</th><th style=\"text-align: right;\">  feat_PROC7</th><th style=\"text-align: right;\">  feat_PROC2</th><th style=\"text-align: right;\">  feat_PROC3</th><th style=\"text-align: right;\">  feat_DOW</th><th style=\"text-align: right;\">  feat_RSI17</th><th style=\"text-align: right;\">  feat_RSI13</th><th style=\"text-align: right;\">  feat_RSI11</th><th style=\"text-align: right;\">  feat_RSIg7</th><th style=\"text-align: right;\">  feat_RSIg5</th><th style=\"text-align: right;\">  feat_RSIg3</th><th style=\"text-align: right;\">  feat_Close11/19SMARatio</th><th style=\"text-align: right;\">  feat_Close5/11SMARatio</th><th style=\"text-align: right;\">  feat_Close3/7SMARatio</th><th style=\"text-align: right;\">  feat_Close2PctFromSMA</th><th style=\"text-align: right;\">  feat_Close4PctFromSMA</th><th style=\"text-align: right;\">  feat_Close8PctFromSMA</th><th style=\"text-align: right;\">  feat_10CCI</th><th style=\"text-align: right;\">  feat_6CCI</th><th style=\"text-align: right;\">  feat_3CCI</th><th style=\"text-align: right;\">  feat_10FI</th><th style=\"text-align: right;\">  feat_6FI</th><th style=\"text-align: right;\">  feat_3FI</th><th style=\"text-align: right;\">  feat_10EMV</th><th style=\"text-align: right;\">  feat_6EMV</th><th style=\"text-align: right;\">  feat_3EMV</th><th style=\"text-align: right;\">  feat_Close10PctFromUpperBB</th><th style=\"text-align: right;\">  feat_Close10PctFromLowerBB</th><th style=\"text-align: right;\">  feat_Close10BBBandwidth</th><th style=\"text-align: right;\">  feat_Close10PctB</th><th style=\"text-align: right;\">  feat_Close6PctFromUpperBB</th><th style=\"text-align: right;\">  feat_Close6PctFromLowerBB</th><th style=\"text-align: right;\">  feat_Close6BBBandwidth</th><th style=\"text-align: right;\">  feat_Close6PctB</th><th style=\"text-align: right;\">  feat_Close3PctFromUpperBB</th><th style=\"text-align: right;\">  feat_Close3PctFromLowerBB</th><th style=\"text-align: right;\">  feat_Close3BBBandwidth</th><th style=\"text-align: right;\">  feat_Close3PctB</th><th style=\"text-align: right;\">  feat_DIRatio17</th><th style=\"text-align: right;\">  feat_ADX17</th><th style=\"text-align: right;\">  feat_DMI17</th><th style=\"text-align: right;\">  feat_AdjATR17</th><th style=\"text-align: right;\">  feat_DIRatio14</th><th style=\"text-align: right;\">  feat_ADX14</th><th style=\"text-align: right;\">  feat_DMI14</th><th style=\"text-align: right;\">  feat_AdjATR14</th><th style=\"text-align: right;\">  feat_DIRatio11</th><th style=\"text-align: right;\">  feat_ADX11</th><th style=\"text-align: right;\">  feat_DMI11</th><th style=\"text-align: right;\">  feat_AdjATR11</th><th style=\"text-align: right;\">  feat_DIRatio9</th><th style=\"text-align: right;\">  feat_ADX9</th><th style=\"text-align: right;\">  feat_DMI9</th><th style=\"text-align: right;\">  feat_AdjATR9</th><th style=\"text-align: right;\">  feat_DIRatio7</th><th style=\"text-align: right;\">  feat_ADX7</th><th style=\"text-align: right;\">  feat_DMI7</th><th style=\"text-align: right;\">  feat_AdjATR7</th><th style=\"text-align: right;\">  feat_DIRatio5</th><th style=\"text-align: right;\">  feat_ADX5</th><th style=\"text-align: right;\">  feat_DMI5</th><th style=\"text-align: right;\">  feat_AdjATR5</th><th style=\"text-align: right;\">  feat_DIRatio4</th><th style=\"text-align: right;\">  feat_ADX4</th><th style=\"text-align: right;\">  feat_DMI4</th><th style=\"text-align: right;\">  feat_AdjATR4</th><th style=\"text-align: right;\">  feat_DIRatio3</th><th style=\"text-align: right;\">  feat_ADX3</th><th style=\"text-align: right;\">  feat_DMI3</th><th style=\"text-align: right;\">  feat_AdjATR3</th><th style=\"text-align: right;\">  feat_DIRatio2</th><th style=\"text-align: right;\">  feat_ADX2</th><th style=\"text-align: right;\">  feat_DMI2</th><th style=\"text-align: right;\">  feat_AdjATR2</th><th style=\"text-align: right;\">  feat_Close91226MACD</th><th style=\"text-align: right;\">  feat_Close71123MACD</th><th style=\"text-align: right;\">  feat_235MACDg</th><th style=\"text-align: right;\">  feat_357MACDg</th><th style=\"text-align: right;\">  feat_5711MACDg</th><th style=\"text-align: right;\">  feat_11StocOsc</th><th style=\"text-align: right;\">  feat_11StocOscRatio</th><th style=\"text-align: right;\">  feat_7StocOsc</th><th style=\"text-align: right;\">  feat_7StocOscRatio</th><th style=\"text-align: right;\">  feat_5StocOsc</th><th style=\"text-align: right;\">  feat_5StocOscRatio</th><th style=\"text-align: right;\">  feat_3StocOsc</th><th style=\"text-align: right;\">  feat_3StocOscRatio</th><th style=\"text-align: right;\">  feat_11PriceChannelDist</th><th style=\"text-align: right;\">  feat_7PriceChannelDist</th><th style=\"text-align: right;\">  feat_5PriceChannelDist</th><th style=\"text-align: right;\">  feat_3PriceChannelDist</th><th style=\"text-align: right;\">  feat_PSAR</th><th style=\"text-align: right;\">  feat_10ADL</th><th style=\"text-align: right;\">  feat_10CMF</th><th style=\"text-align: right;\">  feat_10ChaikinOscillator</th><th style=\"text-align: right;\">  feat_5ADL</th><th style=\"text-align: right;\">  feat_5CMF</th><th style=\"text-align: right;\">  feat_5ChaikinOscillator</th><th style=\"text-align: right;\">  feat_10AroonUp</th><th style=\"text-align: right;\">  feat_10AroonDown</th><th style=\"text-align: right;\">  feat_10AroonOscillator</th><th style=\"text-align: right;\">  feat_5AroonUp</th><th style=\"text-align: right;\">  feat_5AroonDown</th><th style=\"text-align: right;\">  feat_5AroonOscillator</th><th style=\"text-align: right;\">  feat_autocorr10High1</th><th style=\"text-align: right;\">  feat_autocorr5High1</th><th style=\"text-align: right;\">  feat_autocorr5High2</th><th style=\"text-align: right;\">  feat_autocorr3High1</th><th style=\"text-align: right;\">  feat_autocorr3High2</th><th style=\"text-align: right;\">  feat_autocorr3High3</th><th style=\"text-align: right;\">  feat_autocorr2High2</th><th style=\"text-align: right;\">  feat_autocorr2High1</th><th style=\"text-align: right;\">  lab_lowPercentChange_H2</th><th style=\"text-align: right;\">  lab_percentChange_H2High</th><th>lab_expectedReturnPct_H2  </th><th style=\"text-align: right;\">  weights</th></tr>\n",
       "</thead>\n",
       "<tbody>\n",
       "<tr><td>2018-01-29</td><td>CHIX    </td><td>2018-01-29</td><td style=\"text-align: right;\">      18.88</td><td style=\"text-align: right;\">      18.92</td><td style=\"text-align: right;\">     18.75</td><td style=\"text-align: right;\">       18.76</td><td style=\"text-align: right;\">        65200</td><td style=\"text-align: right;\">     1.50769 </td><td style=\"text-align: right;\">    1.61847 </td><td style=\"text-align: right;\">   0.122203 </td><td style=\"text-align: right;\">    0.241905</td><td style=\"text-align: right;\">    0.0768355</td><td style=\"text-align: right;\">   0.0299401</td><td style=\"text-align: right;\">  0.00638298</td><td style=\"text-align: right;\">  -0.0150963</td><td style=\"text-align: right;\">         1</td><td style=\"text-align: right;\">         100</td><td style=\"text-align: right;\">         100</td><td style=\"text-align: right;\">         100</td><td style=\"text-align: right;\">         100</td><td style=\"text-align: right;\">         100</td><td style=\"text-align: right;\">         100</td><td style=\"text-align: right;\">                0.0142327</td><td style=\"text-align: right;\">             0.00961287 </td><td style=\"text-align: right;\">             0.00176616</td><td style=\"text-align: right;\">            -0.0126316 </td><td style=\"text-align: right;\">            -0.00832562</td><td style=\"text-align: right;\">           -0.000798935</td><td style=\"text-align: right;\">     30.5998</td><td style=\"text-align: right;\">   -23.318 </td><td style=\"text-align: right;\">   -24.0426</td><td style=\"text-align: right;\"> 0.00520092</td><td style=\"text-align: right;\">0.00403969</td><td style=\"text-align: right;\">0.00308004</td><td style=\"text-align: right;\">  0.0111273 </td><td style=\"text-align: right;\"> 0.00381212</td><td style=\"text-align: right;\"> -0.028138 </td><td style=\"text-align: right;\">                  -0.0339961</td><td style=\"text-align: right;\">                  0.0509928 </td><td style=\"text-align: right;\">                  8.42727</td><td style=\"text-align: right;\">          0.579596</td><td style=\"text-align: right;\">                 -0.0280911</td><td style=\"text-align: right;\">                  0.0160067</td><td style=\"text-align: right;\">                 4.43658</td><td style=\"text-align: right;\">         0.352785</td><td style=\"text-align: right;\">                 -0.0372279</td><td style=\"text-align: right;\">                 0.0235743 </td><td style=\"text-align: right;\">                 6.12201</td><td style=\"text-align: right;\">         0.373287</td><td style=\"text-align: right;\">         87.5146</td><td style=\"text-align: right;\">     87.5146</td><td style=\"text-align: right;\">     76.5881</td><td style=\"text-align: right;\">      0.0141502</td><td style=\"text-align: right;\">         84.7113</td><td style=\"text-align: right;\">     84.7113</td><td style=\"text-align: right;\">       71.76</td><td style=\"text-align: right;\">      0.0153306</td><td style=\"text-align: right;\">         79.8944</td><td style=\"text-align: right;\">     79.8944</td><td style=\"text-align: right;\">     63.8311</td><td style=\"text-align: right;\">      0.0177479</td><td style=\"text-align: right;\">        74.4307</td><td style=\"text-align: right;\">    74.4307</td><td style=\"text-align: right;\">    55.3992</td><td style=\"text-align: right;\">     0.0173859</td><td style=\"text-align: right;\">        65.3107</td><td style=\"text-align: right;\">    65.3107</td><td style=\"text-align: right;\">   42.6548 </td><td style=\"text-align: right;\">     0.0183736</td><td style=\"text-align: right;\">       48.8142 </td><td style=\"text-align: right;\">    48.8142</td><td style=\"text-align: right;\">  23.8283  </td><td style=\"text-align: right;\">     0.0210034</td><td style=\"text-align: right;\">        35.4905</td><td style=\"text-align: right;\">    36.2867</td><td style=\"text-align: right;\">   12.8783 </td><td style=\"text-align: right;\">     0.0223027</td><td style=\"text-align: right;\">        16.5582</td><td style=\"text-align: right;\">    33.2287</td><td style=\"text-align: right;\">    5.50208</td><td style=\"text-align: right;\">     0.0241843</td><td style=\"text-align: right;\">       -11.9194</td><td style=\"text-align: right;\">    44.1973</td><td style=\"text-align: right;\">   -5.26804</td><td style=\"text-align: right;\">     0.026968 </td><td style=\"text-align: right;\">            0.122564 </td><td style=\"text-align: right;\">            0.0772546</td><td style=\"text-align: right;\">      -0.242097</td><td style=\"text-align: right;\">      -0.112087</td><td style=\"text-align: right;\">      -0.0216683</td><td style=\"text-align: right;\">         70.0599</td><td style=\"text-align: right;\">            -0.131625</td><td style=\"text-align: right;\">        35.0649</td><td style=\"text-align: right;\">           -0.439358</td><td style=\"text-align: right;\">        24.2424</td><td style=\"text-align: right;\">           -0.525681</td><td style=\"text-align: right;\">        24.2424</td><td style=\"text-align: right;\">            -0.48378</td><td style=\"text-align: right;\">                0.0181818</td><td style=\"text-align: right;\">             -0.00609272</td><td style=\"text-align: right;\">             -0.00898045</td><td style=\"text-align: right;\">             -0.00898045</td><td style=\"text-align: right;\"> 0.00860215</td><td style=\"text-align: right;\">   0.0920873</td><td style=\"text-align: right;\">  0.0764525 </td><td style=\"text-align: right;\">                 0        </td><td style=\"text-align: right;\">  0.0733793</td><td style=\"text-align: right;\">  0.0611734</td><td style=\"text-align: right;\">                -0.183515</td><td style=\"text-align: right;\">              90</td><td style=\"text-align: right;\">                10</td><td style=\"text-align: right;\">                      80</td><td style=\"text-align: right;\">             80</td><td style=\"text-align: right;\">               60</td><td style=\"text-align: right;\">                     20</td><td style=\"text-align: right;\">              0.777965</td><td style=\"text-align: right;\">            -0.579427</td><td style=\"text-align: right;\">             0.230812</td><td style=\"text-align: right;\">            -0.9382  </td><td style=\"text-align: right;\">             0.759993</td><td style=\"text-align: right;\">             0.305754</td><td style=\"text-align: right;\">                    1</td><td style=\"text-align: right;\">                   -1</td><td style=\"text-align: right;\">              -0.00645161</td><td style=\"text-align: right;\">               0.0166667  </td><td>n0                        </td><td style=\"text-align: right;\">        1</td></tr>\n",
       "<tr><td>2018-02-01</td><td>CHIX    </td><td>2018-02-01</td><td style=\"text-align: right;\">      18.54</td><td style=\"text-align: right;\">      18.64</td><td style=\"text-align: right;\">     18.48</td><td style=\"text-align: right;\">       18.48</td><td style=\"text-align: right;\">        38100</td><td style=\"text-align: right;\">    -0.362876</td><td style=\"text-align: right;\">   -0.568027</td><td style=\"text-align: right;\">   0.0823864</td><td style=\"text-align: right;\">   -0.415644</td><td style=\"text-align: right;\">    0.0191361</td><td style=\"text-align: right;\">  -0.0179136</td><td style=\"text-align: right;\"> -0.00374131</td><td style=\"text-align: right;\">  -0.0147992</td><td style=\"text-align: right;\">         4</td><td style=\"text-align: right;\">         100</td><td style=\"text-align: right;\">         100</td><td style=\"text-align: right;\">         100</td><td style=\"text-align: right;\">         100</td><td style=\"text-align: right;\">         100</td><td style=\"text-align: right;\">         100</td><td style=\"text-align: right;\">                0.0122732</td><td style=\"text-align: right;\">             0.000873024</td><td style=\"text-align: right;\">            -0.00485344</td><td style=\"text-align: right;\">            -0.00778523</td><td style=\"text-align: right;\">            -0.00858369</td><td style=\"text-align: right;\">           -0.017152   </td><td style=\"text-align: right;\">    -75.4162</td><td style=\"text-align: right;\">   -67.1874</td><td style=\"text-align: right;\">   -49.1627</td><td style=\"text-align: right;\"> 0.00423439</td><td style=\"text-align: right;\">0.0034489 </td><td style=\"text-align: right;\">0.00318974</td><td style=\"text-align: right;\"> -0.00243184</td><td style=\"text-align: right;\">-0.0210309 </td><td style=\"text-align: right;\"> -0.0197531</td><td style=\"text-align: right;\">                  -0.0386309</td><td style=\"text-align: right;\">                  0.00909642</td><td style=\"text-align: right;\">                  4.84427</td><td style=\"text-align: right;\">          0.183229</td><td style=\"text-align: right;\">                 -0.0417795</td><td style=\"text-align: right;\">                  0.014219 </td><td style=\"text-align: right;\">                 5.67809</td><td style=\"text-align: right;\">         0.243308</td><td style=\"text-align: right;\">                 -0.0223596</td><td style=\"text-align: right;\">                 0.00998259</td><td style=\"text-align: right;\">                 3.25435</td><td style=\"text-align: right;\">         0.301754</td><td style=\"text-align: right;\">         67.1859</td><td style=\"text-align: right;\">     67.1859</td><td style=\"text-align: right;\">     45.1395</td><td style=\"text-align: right;\">      0.0155406</td><td style=\"text-align: right;\">         60.5062</td><td style=\"text-align: right;\">     60.5062</td><td style=\"text-align: right;\">       36.61</td><td style=\"text-align: right;\">      0.0174848</td><td style=\"text-align: right;\">         49.7552</td><td style=\"text-align: right;\">     49.7552</td><td style=\"text-align: right;\">     24.7558</td><td style=\"text-align: right;\">      0.0167422</td><td style=\"text-align: right;\">        38.5929</td><td style=\"text-align: right;\">    41.9822</td><td style=\"text-align: right;\">    16.2021</td><td style=\"text-align: right;\">     0.0180072</td><td style=\"text-align: right;\">        22.1364</td><td style=\"text-align: right;\">    35.7941</td><td style=\"text-align: right;\">    7.92353</td><td style=\"text-align: right;\">     0.0198245</td><td style=\"text-align: right;\">       -1.76651</td><td style=\"text-align: right;\">    30.8511</td><td style=\"text-align: right;\">  -0.544987</td><td style=\"text-align: right;\">     0.0206993</td><td style=\"text-align: right;\">       -16.4175</td><td style=\"text-align: right;\">    31.9194</td><td style=\"text-align: right;\">   -5.24038</td><td style=\"text-align: right;\">     0.0188648</td><td style=\"text-align: right;\">       -31.2854</td><td style=\"text-align: right;\">    38.1181</td><td style=\"text-align: right;\">  -11.9254 </td><td style=\"text-align: right;\">     0.0165202</td><td style=\"text-align: right;\">       -44.9132</td><td style=\"text-align: right;\">    54.5986</td><td style=\"text-align: right;\">  -24.522  </td><td style=\"text-align: right;\">     0.0172977</td><td style=\"text-align: right;\">           -0.0296007</td><td style=\"text-align: right;\">           -0.0658694</td><td style=\"text-align: right;\">       0.371613</td><td style=\"text-align: right;\">      -0.775105</td><td style=\"text-align: right;\">      -0.264502 </td><td style=\"text-align: right;\">         19.5876</td><td style=\"text-align: right;\">            -0.529051</td><td style=\"text-align: right;\">         0     </td><td style=\"text-align: right;\">           -1       </td><td style=\"text-align: right;\">         0     </td><td style=\"text-align: right;\">           -1       </td><td style=\"text-align: right;\">         0     </td><td style=\"text-align: right;\">            -1      </td><td style=\"text-align: right;\">               -0.0157124</td><td style=\"text-align: right;\">             -0.0206677 </td><td style=\"text-align: right;\">             -0.0206677 </td><td style=\"text-align: right;\">             -0.0115004 </td><td style=\"text-align: right;\">-0.0389572 </td><td style=\"text-align: right;\">   0.065686 </td><td style=\"text-align: right;\"> -0.00769396</td><td style=\"text-align: right;\">                -0.0204671</td><td style=\"text-align: right;\"> -0.321731 </td><td style=\"text-align: right;\"> -0.328254 </td><td style=\"text-align: right;\">                -0.223028</td><td style=\"text-align: right;\">              60</td><td style=\"text-align: right;\">               100</td><td style=\"text-align: right;\">                     -40</td><td style=\"text-align: right;\">             20</td><td style=\"text-align: right;\">              100</td><td style=\"text-align: right;\">                    -80</td><td style=\"text-align: right;\">              0.241813</td><td style=\"text-align: right;\">            -0.178163</td><td style=\"text-align: right;\">             0.404035</td><td style=\"text-align: right;\">            -0.956895</td><td style=\"text-align: right;\">             0.116569</td><td style=\"text-align: right;\">             0.874376</td><td style=\"text-align: right;\">                    1</td><td style=\"text-align: right;\">                   -1</td><td style=\"text-align: right;\">              -0.0438312 </td><td style=\"text-align: right;\">               0.000541126</td><td>p0                        </td><td style=\"text-align: right;\">        2</td></tr>\n",
       "</tbody>\n",
       "</table>"
      ]
     },
     "metadata": {},
     "output_type": "display_data"
    },
    {
     "name": "stdout",
     "output_type": "stream",
     "text": [
      "\n"
     ]
    }
   ],
   "source": [
    "train,test,labels,features = sampleAndCleanDataAsNeeded(transformed_files=transformed_files)"
   ]
  },
  {
   "cell_type": "code",
   "execution_count": null,
   "metadata": {},
   "outputs": [],
   "source": []
  },
  {
   "cell_type": "code",
   "execution_count": 12,
   "metadata": {},
   "outputs": [
    {
     "name": "stderr",
     "output_type": "stream",
     "text": [
      "/Users/Damian/opt/anaconda3/envs/uyulala/lib/python3.7/site-packages/h2o/estimators/estimator_base.py:200: RuntimeWarning: Dropping bad and constant columns: [feat_RSIg3, feat_RSI13, feat_RSI11, feat_RSIg7, feat_RSI17, feat_RSIg5]\n",
      "  warnings.warn(mesg[\"message\"], RuntimeWarning)\n"
     ]
    },
    {
     "name": "stdout",
     "output_type": "stream",
     "text": [
      "gbm Model Build progress: |███████████████████████████████████████████████ (failed) 100%\n"
     ]
    },
    {
     "ename": "OSError",
     "evalue": "Job with key $03017f00000134d4ffffffff$_82f8e5ccb41dae98894ae021b8454a34 failed with an exception: water.exceptions.H2OModelBuilderIllegalArgumentException: Illegal argument(s) for GBM model: GBM_model_python_1603379487373_145_cv_1.  Details: ERRR on field: _ntrees: The tree model will not fit in the driver node's memory ( 182  B per tree x 10000 > Zero  ) - try decreasing ntrees and/or max_depth or increasing min_rows!\n\nstacktrace: \nwater.exceptions.H2OModelBuilderIllegalArgumentException: Illegal argument(s) for GBM model: GBM_model_python_1603379487373_145_cv_1.  Details: ERRR on field: _ntrees: The tree model will not fit in the driver node's memory ( 182  B per tree x 10000 > Zero  ) - try decreasing ntrees and/or max_depth or increasing min_rows!\n\n\tat water.exceptions.H2OModelBuilderIllegalArgumentException.makeFromBuilder(H2OModelBuilderIllegalArgumentException.java:19)\n\tat hex.tree.SharedTree.doScoringAndSaveModel(SharedTree.java:729)\n\tat hex.tree.SharedTree$Driver.scoreAndBuildTrees(SharedTree.java:443)\n\tat hex.tree.SharedTree$Driver.computeImpl(SharedTree.java:370)\n\tat hex.ModelBuilder$Driver.compute2(ModelBuilder.java:238)\n\tat water.H2O$H2OCountedCompleter.compute(H2O.java:1563)\n\tat jsr166y.CountedCompleter.exec(CountedCompleter.java:468)\n\tat jsr166y.ForkJoinTask.doExec(ForkJoinTask.java:263)\n\tat jsr166y.ForkJoinPool$WorkQueue.runTask(ForkJoinPool.java:974)\n\tat jsr166y.ForkJoinPool.runWorker(ForkJoinPool.java:1477)\n\tat jsr166y.ForkJoinWorkerThread.run(ForkJoinWorkerThread.java:104)\n",
     "output_type": "error",
     "traceback": [
      "\u001b[0;31m---------------------------------------------------------------------------\u001b[0m",
      "\u001b[0;31mOSError\u001b[0m                                   Traceback (most recent call last)",
      "\u001b[0;32m<ipython-input-12-e93d173326f9>\u001b[0m in \u001b[0;36m<module>\u001b[0;34m()\u001b[0m\n\u001b[1;32m      1\u001b[0m \u001b[0mgbm\u001b[0m \u001b[0;34m=\u001b[0m \u001b[0mH2OGradientBoostingEstimator\u001b[0m\u001b[0;34m(\u001b[0m\u001b[0mdistribution\u001b[0m\u001b[0;34m=\u001b[0m\u001b[0;34m\"quantile\"\u001b[0m\u001b[0;34m,\u001b[0m \u001b[0mquantile_alpha\u001b[0m \u001b[0;34m=\u001b[0m \u001b[0mquantile_alpha\u001b[0m\u001b[0;34m,\u001b[0m \u001b[0mnfolds\u001b[0m \u001b[0;34m=\u001b[0m \u001b[0;36m6\u001b[0m\u001b[0;34m,\u001b[0m \u001b[0mntrees\u001b[0m\u001b[0;34m=\u001b[0m\u001b[0;36m10000\u001b[0m\u001b[0;34m,\u001b[0m \u001b[0mlearn_rate_annealing\u001b[0m\u001b[0;34m=\u001b[0m\u001b[0;36m0.99\u001b[0m\u001b[0;34m)\u001b[0m\u001b[0;34m\u001b[0m\u001b[0;34m\u001b[0m\u001b[0m\n\u001b[0;32m----> 2\u001b[0;31m \u001b[0mgbm\u001b[0m\u001b[0;34m.\u001b[0m\u001b[0mtrain\u001b[0m\u001b[0;34m(\u001b[0m\u001b[0mx\u001b[0m\u001b[0;34m=\u001b[0m\u001b[0mfeatures\u001b[0m\u001b[0;34m,\u001b[0m\u001b[0my\u001b[0m\u001b[0;34m=\u001b[0m\u001b[0mlabel\u001b[0m\u001b[0;34m,\u001b[0m\u001b[0mtraining_frame\u001b[0m\u001b[0;34m=\u001b[0m\u001b[0mtrain\u001b[0m\u001b[0;34m,\u001b[0m\u001b[0mweights_column\u001b[0m\u001b[0;34m=\u001b[0m\u001b[0;34m'weights'\u001b[0m\u001b[0;34m)\u001b[0m\u001b[0;34m\u001b[0m\u001b[0;34m\u001b[0m\u001b[0m\n\u001b[0m",
      "\u001b[0;32m/Users/Damian/opt/anaconda3/envs/uyulala/lib/python3.7/site-packages/h2o/estimators/estimator_base.py\u001b[0m in \u001b[0;36mtrain\u001b[0;34m(self, x, y, training_frame, offset_column, fold_column, weights_column, validation_frame, max_runtime_secs, ignored_columns, model_id, verbose)\u001b[0m\n\u001b[1;32m    113\u001b[0m                                  \u001b[0mvalidation_frame\u001b[0m\u001b[0;34m=\u001b[0m\u001b[0mvalidation_frame\u001b[0m\u001b[0;34m,\u001b[0m \u001b[0mmax_runtime_secs\u001b[0m\u001b[0;34m=\u001b[0m\u001b[0mmax_runtime_secs\u001b[0m\u001b[0;34m,\u001b[0m\u001b[0;34m\u001b[0m\u001b[0;34m\u001b[0m\u001b[0m\n\u001b[1;32m    114\u001b[0m                                  ignored_columns=ignored_columns, model_id=model_id, verbose=verbose)\n\u001b[0;32m--> 115\u001b[0;31m         \u001b[0mself\u001b[0m\u001b[0;34m.\u001b[0m\u001b[0m_train\u001b[0m\u001b[0;34m(\u001b[0m\u001b[0mparms\u001b[0m\u001b[0;34m,\u001b[0m \u001b[0mverbose\u001b[0m\u001b[0;34m=\u001b[0m\u001b[0mverbose\u001b[0m\u001b[0;34m)\u001b[0m\u001b[0;34m\u001b[0m\u001b[0;34m\u001b[0m\u001b[0m\n\u001b[0m\u001b[1;32m    116\u001b[0m \u001b[0;34m\u001b[0m\u001b[0m\n\u001b[1;32m    117\u001b[0m     def train_segments(self, x=None, y=None, training_frame=None, offset_column=None, fold_column=None,\n",
      "\u001b[0;32m/Users/Damian/opt/anaconda3/envs/uyulala/lib/python3.7/site-packages/h2o/estimators/estimator_base.py\u001b[0m in \u001b[0;36m_train\u001b[0;34m(self, parms, verbose)\u001b[0m\n\u001b[1;32m    205\u001b[0m             \u001b[0;32mreturn\u001b[0m\u001b[0;34m\u001b[0m\u001b[0;34m\u001b[0m\u001b[0m\n\u001b[1;32m    206\u001b[0m \u001b[0;34m\u001b[0m\u001b[0m\n\u001b[0;32m--> 207\u001b[0;31m         \u001b[0mjob\u001b[0m\u001b[0;34m.\u001b[0m\u001b[0mpoll\u001b[0m\u001b[0;34m(\u001b[0m\u001b[0mpoll_updates\u001b[0m\u001b[0;34m=\u001b[0m\u001b[0mself\u001b[0m\u001b[0;34m.\u001b[0m\u001b[0m_print_model_scoring_history\u001b[0m \u001b[0;32mif\u001b[0m \u001b[0mverbose\u001b[0m \u001b[0;32melse\u001b[0m \u001b[0;32mNone\u001b[0m\u001b[0;34m)\u001b[0m\u001b[0;34m\u001b[0m\u001b[0;34m\u001b[0m\u001b[0m\n\u001b[0m\u001b[1;32m    208\u001b[0m         \u001b[0mmodel_json\u001b[0m \u001b[0;34m=\u001b[0m \u001b[0mh2o\u001b[0m\u001b[0;34m.\u001b[0m\u001b[0mapi\u001b[0m\u001b[0;34m(\u001b[0m\u001b[0;34m\"GET /%d/Models/%s\"\u001b[0m \u001b[0;34m%\u001b[0m \u001b[0;34m(\u001b[0m\u001b[0mrest_ver\u001b[0m\u001b[0;34m,\u001b[0m \u001b[0mjob\u001b[0m\u001b[0;34m.\u001b[0m\u001b[0mdest_key\u001b[0m\u001b[0;34m)\u001b[0m\u001b[0;34m)\u001b[0m\u001b[0;34m[\u001b[0m\u001b[0;34m\"models\"\u001b[0m\u001b[0;34m]\u001b[0m\u001b[0;34m[\u001b[0m\u001b[0;36m0\u001b[0m\u001b[0;34m]\u001b[0m\u001b[0;34m\u001b[0m\u001b[0;34m\u001b[0m\u001b[0m\n\u001b[1;32m    209\u001b[0m         \u001b[0mself\u001b[0m\u001b[0;34m.\u001b[0m\u001b[0m_resolve_model\u001b[0m\u001b[0;34m(\u001b[0m\u001b[0mjob\u001b[0m\u001b[0;34m.\u001b[0m\u001b[0mdest_key\u001b[0m\u001b[0;34m,\u001b[0m \u001b[0mmodel_json\u001b[0m\u001b[0;34m)\u001b[0m\u001b[0;34m\u001b[0m\u001b[0;34m\u001b[0m\u001b[0m\n",
      "\u001b[0;32m/Users/Damian/opt/anaconda3/envs/uyulala/lib/python3.7/site-packages/h2o/job.py\u001b[0m in \u001b[0;36mpoll\u001b[0;34m(self, poll_updates)\u001b[0m\n\u001b[1;32m     76\u001b[0m             \u001b[0;32mif\u001b[0m \u001b[0;34m(\u001b[0m\u001b[0misinstance\u001b[0m\u001b[0;34m(\u001b[0m\u001b[0mself\u001b[0m\u001b[0;34m.\u001b[0m\u001b[0mjob\u001b[0m\u001b[0;34m,\u001b[0m \u001b[0mdict\u001b[0m\u001b[0;34m)\u001b[0m\u001b[0;34m)\u001b[0m \u001b[0;32mand\u001b[0m \u001b[0;34m(\u001b[0m\u001b[0;34m\"stacktrace\"\u001b[0m \u001b[0;32min\u001b[0m \u001b[0mlist\u001b[0m\u001b[0;34m(\u001b[0m\u001b[0mself\u001b[0m\u001b[0;34m.\u001b[0m\u001b[0mjob\u001b[0m\u001b[0;34m)\u001b[0m\u001b[0;34m)\u001b[0m\u001b[0;34m:\u001b[0m\u001b[0;34m\u001b[0m\u001b[0;34m\u001b[0m\u001b[0m\n\u001b[1;32m     77\u001b[0m                 raise EnvironmentError(\"Job with key {} failed with an exception: {}\\nstacktrace: \"\n\u001b[0;32m---> 78\u001b[0;31m                                        \"\\n{}\".format(self.job_key, self.exception, self.job[\"stacktrace\"]))\n\u001b[0m\u001b[1;32m     79\u001b[0m             \u001b[0;32melse\u001b[0m\u001b[0;34m:\u001b[0m\u001b[0;34m\u001b[0m\u001b[0;34m\u001b[0m\u001b[0m\n\u001b[1;32m     80\u001b[0m                 \u001b[0;32mraise\u001b[0m \u001b[0mEnvironmentError\u001b[0m\u001b[0;34m(\u001b[0m\u001b[0;34m\"Job with key %s failed with an exception: %s\"\u001b[0m \u001b[0;34m%\u001b[0m \u001b[0;34m(\u001b[0m\u001b[0mself\u001b[0m\u001b[0;34m.\u001b[0m\u001b[0mjob_key\u001b[0m\u001b[0;34m,\u001b[0m \u001b[0mself\u001b[0m\u001b[0;34m.\u001b[0m\u001b[0mexception\u001b[0m\u001b[0;34m)\u001b[0m\u001b[0;34m)\u001b[0m\u001b[0;34m\u001b[0m\u001b[0;34m\u001b[0m\u001b[0m\n",
      "\u001b[0;31mOSError\u001b[0m: Job with key $03017f00000134d4ffffffff$_82f8e5ccb41dae98894ae021b8454a34 failed with an exception: water.exceptions.H2OModelBuilderIllegalArgumentException: Illegal argument(s) for GBM model: GBM_model_python_1603379487373_145_cv_1.  Details: ERRR on field: _ntrees: The tree model will not fit in the driver node's memory ( 182  B per tree x 10000 > Zero  ) - try decreasing ntrees and/or max_depth or increasing min_rows!\n\nstacktrace: \nwater.exceptions.H2OModelBuilderIllegalArgumentException: Illegal argument(s) for GBM model: GBM_model_python_1603379487373_145_cv_1.  Details: ERRR on field: _ntrees: The tree model will not fit in the driver node's memory ( 182  B per tree x 10000 > Zero  ) - try decreasing ntrees and/or max_depth or increasing min_rows!\n\n\tat water.exceptions.H2OModelBuilderIllegalArgumentException.makeFromBuilder(H2OModelBuilderIllegalArgumentException.java:19)\n\tat hex.tree.SharedTree.doScoringAndSaveModel(SharedTree.java:729)\n\tat hex.tree.SharedTree$Driver.scoreAndBuildTrees(SharedTree.java:443)\n\tat hex.tree.SharedTree$Driver.computeImpl(SharedTree.java:370)\n\tat hex.ModelBuilder$Driver.compute2(ModelBuilder.java:238)\n\tat water.H2O$H2OCountedCompleter.compute(H2O.java:1563)\n\tat jsr166y.CountedCompleter.exec(CountedCompleter.java:468)\n\tat jsr166y.ForkJoinTask.doExec(ForkJoinTask.java:263)\n\tat jsr166y.ForkJoinPool$WorkQueue.runTask(ForkJoinPool.java:974)\n\tat jsr166y.ForkJoinPool.runWorker(ForkJoinPool.java:1477)\n\tat jsr166y.ForkJoinWorkerThread.run(ForkJoinWorkerThread.java:104)\n"
     ]
    }
   ],
   "source": [
    "gbm = H2OGradientBoostingEstimator(distribution=\"quantile\", quantile_alpha = quantile_alpha, nfolds = 6, ntrees=10000, learn_rate_annealing=0.99)\n",
    "gbm.train(x=features,y=label,training_frame=train,weights_column='weights')"
   ]
  },
  {
   "cell_type": "code",
   "execution_count": 15,
   "metadata": {},
   "outputs": [],
   "source": []
  },
  {
   "cell_type": "code",
   "execution_count": null,
   "metadata": {},
   "outputs": [],
   "source": []
  },
  {
   "cell_type": "code",
   "execution_count": 11,
   "metadata": {},
   "outputs": [
    {
     "name": "stdout",
     "output_type": "stream",
     "text": [
      "building models\n",
      "Time per run: 999999 seconds\n",
      "building model for lab_lowPercentChange_H2\n",
      "gbm Grid Build progress: |█ (cancelled)\n"
     ]
    },
    {
     "ename": "H2OJobCancelled",
     "evalue": "Job<$03017f00000134d4ffffffff$_a9e57f9fb067acca2978f54385384bc4> was cancelled by the user.",
     "output_type": "error",
     "traceback": [
      "\u001b[0;31m---------------------------------------------------------------------------\u001b[0m",
      "\u001b[0;31mH2OJobCancelled\u001b[0m                           Traceback (most recent call last)",
      "\u001b[0;32m<ipython-input-11-60ad1ed05df6>\u001b[0m in \u001b[0;36m<module>\u001b[0;34m()\u001b[0m\n\u001b[1;32m     28\u001b[0m                           \u001b[0mhyper_params\u001b[0m\u001b[0;34m=\u001b[0m\u001b[0mhyper_params\u001b[0m\u001b[0;34m,\u001b[0m\u001b[0;34m\u001b[0m\u001b[0;34m\u001b[0m\u001b[0m\n\u001b[1;32m     29\u001b[0m                           search_criteria=search_criteria,parallelism=0)\n\u001b[0;32m---> 30\u001b[0;31m \u001b[0mgbm_grid\u001b[0m\u001b[0;34m.\u001b[0m\u001b[0mtrain\u001b[0m\u001b[0;34m(\u001b[0m\u001b[0mx\u001b[0m\u001b[0;34m=\u001b[0m\u001b[0mfeatures\u001b[0m\u001b[0;34m,\u001b[0m\u001b[0my\u001b[0m\u001b[0;34m=\u001b[0m\u001b[0mlabel\u001b[0m\u001b[0;34m,\u001b[0m\u001b[0mtraining_frame\u001b[0m\u001b[0;34m=\u001b[0m\u001b[0mtrain\u001b[0m\u001b[0;34m,\u001b[0m\u001b[0mweights_column\u001b[0m\u001b[0;34m=\u001b[0m\u001b[0;34m'weights'\u001b[0m\u001b[0;34m)\u001b[0m\u001b[0;34m\u001b[0m\u001b[0;34m\u001b[0m\u001b[0m\n\u001b[0m",
      "\u001b[0;32m/Users/Damian/opt/anaconda3/envs/uyulala/lib/python3.7/site-packages/h2o/grid/grid_search.py\u001b[0m in \u001b[0;36mtrain\u001b[0;34m(self, x, y, training_frame, offset_column, fold_column, weights_column, validation_frame, **params)\u001b[0m\n\u001b[1;32m    340\u001b[0m         \u001b[0mx\u001b[0m \u001b[0;34m=\u001b[0m \u001b[0mlist\u001b[0m\u001b[0;34m(\u001b[0m\u001b[0mxset\u001b[0m\u001b[0;34m)\u001b[0m\u001b[0;34m\u001b[0m\u001b[0;34m\u001b[0m\u001b[0m\n\u001b[1;32m    341\u001b[0m         \u001b[0mparms\u001b[0m\u001b[0;34m[\u001b[0m\u001b[0;34m\"x\"\u001b[0m\u001b[0;34m]\u001b[0m \u001b[0;34m=\u001b[0m \u001b[0mx\u001b[0m\u001b[0;34m\u001b[0m\u001b[0;34m\u001b[0m\u001b[0m\n\u001b[0;32m--> 342\u001b[0;31m         \u001b[0mself\u001b[0m\u001b[0;34m.\u001b[0m\u001b[0mbuild_model\u001b[0m\u001b[0;34m(\u001b[0m\u001b[0mparms\u001b[0m\u001b[0;34m)\u001b[0m\u001b[0;34m\u001b[0m\u001b[0;34m\u001b[0m\u001b[0m\n\u001b[0m\u001b[1;32m    343\u001b[0m \u001b[0;34m\u001b[0m\u001b[0m\n\u001b[1;32m    344\u001b[0m \u001b[0;34m\u001b[0m\u001b[0m\n",
      "\u001b[0;32m/Users/Damian/opt/anaconda3/envs/uyulala/lib/python3.7/site-packages/h2o/grid/grid_search.py\u001b[0m in \u001b[0;36mbuild_model\u001b[0;34m(self, algo_params)\u001b[0m\n\u001b[1;32m    359\u001b[0m             \u001b[0my\u001b[0m \u001b[0;34m=\u001b[0m \u001b[0my\u001b[0m \u001b[0;32mif\u001b[0m \u001b[0my\u001b[0m \u001b[0;32min\u001b[0m \u001b[0mtraining_frame\u001b[0m\u001b[0;34m.\u001b[0m\u001b[0mnames\u001b[0m \u001b[0;32melse\u001b[0m \u001b[0mtraining_frame\u001b[0m\u001b[0;34m.\u001b[0m\u001b[0mnames\u001b[0m\u001b[0;34m[\u001b[0m\u001b[0my\u001b[0m\u001b[0;34m]\u001b[0m\u001b[0;34m\u001b[0m\u001b[0;34m\u001b[0m\u001b[0m\n\u001b[1;32m    360\u001b[0m             \u001b[0mself\u001b[0m\u001b[0;34m.\u001b[0m\u001b[0mmodel\u001b[0m\u001b[0;34m.\u001b[0m\u001b[0m_estimator_type\u001b[0m \u001b[0;34m=\u001b[0m \u001b[0;34m\"classifier\"\u001b[0m \u001b[0;32mif\u001b[0m \u001b[0mtraining_frame\u001b[0m\u001b[0;34m.\u001b[0m\u001b[0mtypes\u001b[0m\u001b[0;34m[\u001b[0m\u001b[0my\u001b[0m\u001b[0;34m]\u001b[0m \u001b[0;34m==\u001b[0m \u001b[0;34m\"enum\"\u001b[0m \u001b[0;32melse\u001b[0m \u001b[0;34m\"regressor\"\u001b[0m\u001b[0;34m\u001b[0m\u001b[0;34m\u001b[0m\u001b[0m\n\u001b[0;32m--> 361\u001b[0;31m         \u001b[0mself\u001b[0m\u001b[0;34m.\u001b[0m\u001b[0m_model_build\u001b[0m\u001b[0;34m(\u001b[0m\u001b[0mx\u001b[0m\u001b[0;34m,\u001b[0m \u001b[0my\u001b[0m\u001b[0;34m,\u001b[0m \u001b[0mtraining_frame\u001b[0m\u001b[0;34m,\u001b[0m \u001b[0mvalidation_frame\u001b[0m\u001b[0;34m,\u001b[0m \u001b[0malgo_params\u001b[0m\u001b[0;34m)\u001b[0m\u001b[0;34m\u001b[0m\u001b[0;34m\u001b[0m\u001b[0m\n\u001b[0m\u001b[1;32m    362\u001b[0m \u001b[0;34m\u001b[0m\u001b[0m\n\u001b[1;32m    363\u001b[0m \u001b[0;34m\u001b[0m\u001b[0m\n",
      "\u001b[0;32m/Users/Damian/opt/anaconda3/envs/uyulala/lib/python3.7/site-packages/h2o/grid/grid_search.py\u001b[0m in \u001b[0;36m_model_build\u001b[0;34m(self, x, y, tframe, vframe, kwargs)\u001b[0m\n\u001b[1;32m    387\u001b[0m             \u001b[0;32mreturn\u001b[0m\u001b[0;34m\u001b[0m\u001b[0;34m\u001b[0m\u001b[0m\n\u001b[1;32m    388\u001b[0m \u001b[0;34m\u001b[0m\u001b[0m\n\u001b[0;32m--> 389\u001b[0;31m         \u001b[0mgrid\u001b[0m\u001b[0;34m.\u001b[0m\u001b[0mpoll\u001b[0m\u001b[0;34m(\u001b[0m\u001b[0;34m)\u001b[0m\u001b[0;34m\u001b[0m\u001b[0;34m\u001b[0m\u001b[0m\n\u001b[0m\u001b[1;32m    390\u001b[0m \u001b[0;34m\u001b[0m\u001b[0m\n\u001b[1;32m    391\u001b[0m         \u001b[0mgrid_json\u001b[0m \u001b[0;34m=\u001b[0m \u001b[0mh2o\u001b[0m\u001b[0;34m.\u001b[0m\u001b[0mapi\u001b[0m\u001b[0;34m(\u001b[0m\u001b[0;34m\"GET /99/Grids/%s\"\u001b[0m \u001b[0;34m%\u001b[0m \u001b[0;34m(\u001b[0m\u001b[0mgrid\u001b[0m\u001b[0;34m.\u001b[0m\u001b[0mdest_key\u001b[0m\u001b[0;34m)\u001b[0m\u001b[0;34m)\u001b[0m\u001b[0;34m\u001b[0m\u001b[0;34m\u001b[0m\u001b[0m\n",
      "\u001b[0;32m/Users/Damian/opt/anaconda3/envs/uyulala/lib/python3.7/site-packages/h2o/job.py\u001b[0m in \u001b[0;36mpoll\u001b[0;34m(self, poll_updates)\u001b[0m\n\u001b[1;32m     72\u001b[0m         \u001b[0;31m# check if failed... and politely print relevant message\u001b[0m\u001b[0;34m\u001b[0m\u001b[0;34m\u001b[0m\u001b[0;34m\u001b[0m\u001b[0m\n\u001b[1;32m     73\u001b[0m         \u001b[0;32mif\u001b[0m \u001b[0mself\u001b[0m\u001b[0;34m.\u001b[0m\u001b[0mstatus\u001b[0m \u001b[0;34m==\u001b[0m \u001b[0;34m\"CANCELLED\"\u001b[0m\u001b[0;34m:\u001b[0m\u001b[0;34m\u001b[0m\u001b[0;34m\u001b[0m\u001b[0m\n\u001b[0;32m---> 74\u001b[0;31m             \u001b[0;32mraise\u001b[0m \u001b[0mH2OJobCancelled\u001b[0m\u001b[0;34m(\u001b[0m\u001b[0;34m\"Job<%s> was cancelled by the user.\"\u001b[0m \u001b[0;34m%\u001b[0m \u001b[0mself\u001b[0m\u001b[0;34m.\u001b[0m\u001b[0mjob_key\u001b[0m\u001b[0;34m)\u001b[0m\u001b[0;34m\u001b[0m\u001b[0;34m\u001b[0m\u001b[0m\n\u001b[0m\u001b[1;32m     75\u001b[0m         \u001b[0;32mif\u001b[0m \u001b[0mself\u001b[0m\u001b[0;34m.\u001b[0m\u001b[0mstatus\u001b[0m \u001b[0;34m==\u001b[0m \u001b[0;34m\"FAILED\"\u001b[0m\u001b[0;34m:\u001b[0m\u001b[0;34m\u001b[0m\u001b[0;34m\u001b[0m\u001b[0m\n\u001b[1;32m     76\u001b[0m             \u001b[0;32mif\u001b[0m \u001b[0;34m(\u001b[0m\u001b[0misinstance\u001b[0m\u001b[0;34m(\u001b[0m\u001b[0mself\u001b[0m\u001b[0;34m.\u001b[0m\u001b[0mjob\u001b[0m\u001b[0;34m,\u001b[0m \u001b[0mdict\u001b[0m\u001b[0;34m)\u001b[0m\u001b[0;34m)\u001b[0m \u001b[0;32mand\u001b[0m \u001b[0;34m(\u001b[0m\u001b[0;34m\"stacktrace\"\u001b[0m \u001b[0;32min\u001b[0m \u001b[0mlist\u001b[0m\u001b[0;34m(\u001b[0m\u001b[0mself\u001b[0m\u001b[0;34m.\u001b[0m\u001b[0mjob\u001b[0m\u001b[0;34m)\u001b[0m\u001b[0;34m)\u001b[0m\u001b[0;34m:\u001b[0m\u001b[0;34m\u001b[0m\u001b[0;34m\u001b[0m\u001b[0m\n",
      "\u001b[0;31mH2OJobCancelled\u001b[0m: Job<$03017f00000134d4ffffffff$_a9e57f9fb067acca2978f54385384bc4> was cancelled by the user."
     ]
    }
   ],
   "source": [
    "\n",
    "print('building models')\n",
    "#timePerRun = int(totalBuildTimeAllowed_seconds / (len(labels)*1.0000000000))\n",
    "timePerRun = 999999\n",
    "print('Time per run: ' + str(timePerRun) + ' seconds')\n",
    "\n",
    "\n",
    "label='lab_lowPercentChange_H2'\n",
    "quantile_alpha=.05\n",
    "perf_metric='mse'\n",
    "\n",
    "print('building model for {}'.format(label))\n",
    "# GBM hyperparameters\n",
    "hyper_params = {'learn_rate': [i * 0.01 for i in range(1,21,2)],\n",
    "                'max_depth': list(range(3, 22, 3)),\n",
    "                'sample_rate': [i * 0.1 for i in range(5, 10)],\n",
    "                'col_sample_rate': [i * 0.1 for i in range(3, 10)],\n",
    "                'col_sample_rate_per_tree': [i * 0.1 for i in range(5, 8)],\n",
    "                'min_rows': [50, 100, 500],\n",
    "                'min_split_improvement': [1e-3, 1e-5]}\n",
    "# Search criteria\n",
    "search_criteria = {'strategy':'RandomDiscrete', 'max_models':50, 'max_runtime_secs':timePerRun,\n",
    "                    'stopping_metric':perf_metric, 'stopping_rounds':5}\n",
    "gbm = H2OGradientBoostingEstimator(distribution=\"quantile\", quantile_alpha = quantile_alpha, nfolds = 6, ntrees=10000, learn_rate_annealing=0.99)\n",
    "# Train and validate a random grid of GBMs\n",
    "gbm_grid = H2OGridSearch(model=gbm,\n",
    "                          grid_id='gbm_grid_{}'.format(label),\n",
    "                          hyper_params=hyper_params,\n",
    "                          search_criteria=search_criteria,parallelism=0)\n",
    "gbm_grid.train(x=features,y=label,training_frame=train,weights_column='weights')\n"
   ]
  },
  {
   "cell_type": "code",
   "execution_count": null,
   "metadata": {},
   "outputs": [],
   "source": [
    "# Grab the top GBM model, chosen by validation metric\n",
    "print('choosing top model...')\n",
    "for i in range(max(10,len(gbm_grid.get_grid(sort_by=perf_metric, decreasing=False).models))):\n",
    "    ithPerf = eval('''gbm_grid.get_grid(sort_by=perf_metric, decreasing=False).models[{}].model_performance(test).{}()'''.format(i,perf_metric))\n",
    "    print('model {0} {1}: {2}'.format(i,perf_metric,ithPerf))\n",
    "    if i==0:\n",
    "        leadingPerf = ithPerf\n",
    "        leadingModel = gbm_grid.get_grid(sort_by=perf_metric, decreasing=False).models[i]\n",
    "        print('''leading test performance: {}'''.format(leadingPerf))\n",
    "    else:\n",
    "        if ithPerf < leadingPerf:\n",
    "            leadingPerf = ithPerf\n",
    "            leadingModel = gbm_grid.get_grid(sort_by=perf_metric, decreasing=False).models[i]\n",
    "            print('''leading test performance: {}'''.format(leadingPerf))\n",
    "print('variable importance:')\n",
    "print(leadingModel.varimp(use_pandas=True))\n"
   ]
  },
  {
   "cell_type": "code",
   "execution_count": null,
   "metadata": {},
   "outputs": [],
   "source": []
  },
  {
   "cell_type": "code",
   "execution_count": null,
   "metadata": {},
   "outputs": [],
   "source": []
  },
  {
   "cell_type": "code",
   "execution_count": null,
   "metadata": {},
   "outputs": [],
   "source": []
  },
  {
   "cell_type": "code",
   "execution_count": null,
   "metadata": {},
   "outputs": [],
   "source": []
  },
  {
   "cell_type": "code",
   "execution_count": null,
   "metadata": {},
   "outputs": [],
   "source": []
  },
  {
   "cell_type": "code",
   "execution_count": null,
   "metadata": {},
   "outputs": [],
   "source": []
  },
  {
   "cell_type": "code",
   "execution_count": null,
   "metadata": {},
   "outputs": [],
   "source": []
  },
  {
   "cell_type": "code",
   "execution_count": null,
   "metadata": {},
   "outputs": [],
   "source": []
  },
  {
   "cell_type": "code",
   "execution_count": null,
   "metadata": {},
   "outputs": [],
   "source": []
  },
  {
   "cell_type": "code",
   "execution_count": null,
   "metadata": {},
   "outputs": [],
   "source": []
  },
  {
   "cell_type": "code",
   "execution_count": 8,
   "metadata": {},
   "outputs": [
    {
     "name": "stdout",
     "output_type": "stream",
     "text": [
      "building models\n",
      "Time per run: 999999 seconds\n",
      "model building round 1\n",
      "Files to use: ['CHIX.csv', 'QQQC.csv', 'SDEM.csv']\n",
      "Parse progress: |█████████████████████████████████████████████████████████| 100%\n",
      "Parse progress: |█████████████████████████████████████████████████████████| 100%\n",
      "Parse progress: |█████████████████████████████████████████████████████████| 100%\n",
      "Final data size is (1472, 128)\n",
      "Training data size: (1261, 128)\n",
      "Validation data size: (400, 128)\n"
     ]
    },
    {
     "data": {
      "text/html": [
       "<table>\n",
       "<thead>\n",
       "<tr><th>DateCol   </th><th>Symbol  </th><th>Date      </th><th style=\"text-align: right;\">  feat_Open</th><th style=\"text-align: right;\">  feat_High</th><th style=\"text-align: right;\">  feat_Low</th><th style=\"text-align: right;\">  feat_Close</th><th style=\"text-align: right;\">  feat_Volume</th><th style=\"text-align: right;\">  feat_VROC11</th><th style=\"text-align: right;\">  feat_VROC7</th><th style=\"text-align: right;\">  feat_VROC5</th><th style=\"text-align: right;\">  feat_VROC3</th><th style=\"text-align: right;\">  feat_PROC11</th><th style=\"text-align: right;\">  feat_PROC7</th><th style=\"text-align: right;\">  feat_PROC2</th><th style=\"text-align: right;\">  feat_PROC3</th><th style=\"text-align: right;\">  feat_DOW</th><th style=\"text-align: right;\">  feat_RSI17</th><th style=\"text-align: right;\">  feat_RSI13</th><th style=\"text-align: right;\">  feat_RSI11</th><th style=\"text-align: right;\">  feat_RSIg7</th><th style=\"text-align: right;\">  feat_RSIg5</th><th style=\"text-align: right;\">  feat_RSIg3</th><th style=\"text-align: right;\">  feat_Close11/19SMARatio</th><th style=\"text-align: right;\">  feat_Close5/11SMARatio</th><th style=\"text-align: right;\">  feat_Close3/7SMARatio</th><th style=\"text-align: right;\">  feat_Close2PctFromSMA</th><th style=\"text-align: right;\">  feat_Close4PctFromSMA</th><th style=\"text-align: right;\">  feat_Close8PctFromSMA</th><th style=\"text-align: right;\">  feat_10CCI</th><th style=\"text-align: right;\">  feat_6CCI</th><th style=\"text-align: right;\">  feat_3CCI</th><th style=\"text-align: right;\">  feat_10FI</th><th style=\"text-align: right;\">  feat_6FI</th><th style=\"text-align: right;\">  feat_3FI</th><th style=\"text-align: right;\">  feat_10EMV</th><th style=\"text-align: right;\">  feat_6EMV</th><th style=\"text-align: right;\">  feat_3EMV</th><th style=\"text-align: right;\">  feat_Close10PctFromUpperBB</th><th style=\"text-align: right;\">  feat_Close10PctFromLowerBB</th><th style=\"text-align: right;\">  feat_Close10BBBandwidth</th><th style=\"text-align: right;\">  feat_Close10PctB</th><th style=\"text-align: right;\">  feat_Close6PctFromUpperBB</th><th style=\"text-align: right;\">  feat_Close6PctFromLowerBB</th><th style=\"text-align: right;\">  feat_Close6BBBandwidth</th><th style=\"text-align: right;\">  feat_Close6PctB</th><th style=\"text-align: right;\">  feat_Close3PctFromUpperBB</th><th style=\"text-align: right;\">  feat_Close3PctFromLowerBB</th><th style=\"text-align: right;\">  feat_Close3BBBandwidth</th><th style=\"text-align: right;\">  feat_Close3PctB</th><th style=\"text-align: right;\">  feat_DIRatio17</th><th style=\"text-align: right;\">  feat_ADX17</th><th style=\"text-align: right;\">  feat_DMI17</th><th style=\"text-align: right;\">  feat_AdjATR17</th><th style=\"text-align: right;\">  feat_DIRatio14</th><th style=\"text-align: right;\">  feat_ADX14</th><th style=\"text-align: right;\">  feat_DMI14</th><th style=\"text-align: right;\">  feat_AdjATR14</th><th style=\"text-align: right;\">  feat_DIRatio11</th><th style=\"text-align: right;\">  feat_ADX11</th><th style=\"text-align: right;\">  feat_DMI11</th><th style=\"text-align: right;\">  feat_AdjATR11</th><th style=\"text-align: right;\">  feat_DIRatio9</th><th style=\"text-align: right;\">  feat_ADX9</th><th style=\"text-align: right;\">  feat_DMI9</th><th style=\"text-align: right;\">  feat_AdjATR9</th><th style=\"text-align: right;\">  feat_DIRatio7</th><th style=\"text-align: right;\">  feat_ADX7</th><th style=\"text-align: right;\">  feat_DMI7</th><th style=\"text-align: right;\">  feat_AdjATR7</th><th style=\"text-align: right;\">  feat_DIRatio5</th><th style=\"text-align: right;\">  feat_ADX5</th><th style=\"text-align: right;\">  feat_DMI5</th><th style=\"text-align: right;\">  feat_AdjATR5</th><th style=\"text-align: right;\">  feat_DIRatio4</th><th style=\"text-align: right;\">  feat_ADX4</th><th style=\"text-align: right;\">  feat_DMI4</th><th style=\"text-align: right;\">  feat_AdjATR4</th><th style=\"text-align: right;\">  feat_DIRatio3</th><th style=\"text-align: right;\">  feat_ADX3</th><th style=\"text-align: right;\">  feat_DMI3</th><th style=\"text-align: right;\">  feat_AdjATR3</th><th style=\"text-align: right;\">  feat_DIRatio2</th><th style=\"text-align: right;\">  feat_ADX2</th><th style=\"text-align: right;\">  feat_DMI2</th><th style=\"text-align: right;\">  feat_AdjATR2</th><th style=\"text-align: right;\">  feat_Close91226MACD</th><th style=\"text-align: right;\">  feat_Close71123MACD</th><th style=\"text-align: right;\">  feat_235MACDg</th><th style=\"text-align: right;\">  feat_357MACDg</th><th style=\"text-align: right;\">  feat_5711MACDg</th><th style=\"text-align: right;\">  feat_11StocOsc</th><th style=\"text-align: right;\">  feat_11StocOscRatio</th><th style=\"text-align: right;\">  feat_7StocOsc</th><th style=\"text-align: right;\">  feat_7StocOscRatio</th><th style=\"text-align: right;\">  feat_5StocOsc</th><th style=\"text-align: right;\">  feat_5StocOscRatio</th><th style=\"text-align: right;\">  feat_3StocOsc</th><th style=\"text-align: right;\">  feat_3StocOscRatio</th><th style=\"text-align: right;\">  feat_11PriceChannelDist</th><th style=\"text-align: right;\">  feat_7PriceChannelDist</th><th style=\"text-align: right;\">  feat_5PriceChannelDist</th><th style=\"text-align: right;\">  feat_3PriceChannelDist</th><th style=\"text-align: right;\">  feat_PSAR</th><th style=\"text-align: right;\">  feat_10ADL</th><th style=\"text-align: right;\">  feat_10CMF</th><th style=\"text-align: right;\">  feat_10ChaikinOscillator</th><th style=\"text-align: right;\">  feat_5ADL</th><th style=\"text-align: right;\">  feat_5CMF</th><th style=\"text-align: right;\">  feat_5ChaikinOscillator</th><th style=\"text-align: right;\">  feat_10AroonUp</th><th style=\"text-align: right;\">  feat_10AroonDown</th><th style=\"text-align: right;\">  feat_10AroonOscillator</th><th style=\"text-align: right;\">  feat_5AroonUp</th><th style=\"text-align: right;\">  feat_5AroonDown</th><th style=\"text-align: right;\">  feat_5AroonOscillator</th><th style=\"text-align: right;\">  feat_autocorr10High1</th><th style=\"text-align: right;\">  feat_autocorr5High1</th><th style=\"text-align: right;\">  feat_autocorr5High2</th><th style=\"text-align: right;\">  feat_autocorr3High1</th><th style=\"text-align: right;\">  feat_autocorr3High2</th><th style=\"text-align: right;\">  feat_autocorr3High3</th><th style=\"text-align: right;\">  feat_autocorr2High2</th><th style=\"text-align: right;\">  feat_autocorr2High1</th><th style=\"text-align: right;\">  lab_lowPercentChange_H2</th><th style=\"text-align: right;\">  lab_percentChange_H2High</th><th>lab_expectedReturnPct_H2  </th><th style=\"text-align: right;\">  weights</th></tr>\n",
       "</thead>\n",
       "<tbody>\n",
       "<tr><td>2018-01-29</td><td>CHIX    </td><td>2018-01-29</td><td style=\"text-align: right;\">      18.88</td><td style=\"text-align: right;\">      18.92</td><td style=\"text-align: right;\">     18.75</td><td style=\"text-align: right;\">       18.76</td><td style=\"text-align: right;\">        65200</td><td style=\"text-align: right;\">      1.50769</td><td style=\"text-align: right;\">     1.61847</td><td style=\"text-align: right;\">    0.122203</td><td style=\"text-align: right;\">    0.241905</td><td style=\"text-align: right;\">    0.0768355</td><td style=\"text-align: right;\">   0.0299401</td><td style=\"text-align: right;\">  0.00638298</td><td style=\"text-align: right;\">  -0.0150963</td><td style=\"text-align: right;\">         1</td><td style=\"text-align: right;\">         100</td><td style=\"text-align: right;\">         100</td><td style=\"text-align: right;\">         100</td><td style=\"text-align: right;\">         100</td><td style=\"text-align: right;\">         100</td><td style=\"text-align: right;\">         100</td><td style=\"text-align: right;\">                0.0142327</td><td style=\"text-align: right;\">              0.00961287</td><td style=\"text-align: right;\">            0.00176616 </td><td style=\"text-align: right;\">             -0.0126316</td><td style=\"text-align: right;\">            -0.00832562</td><td style=\"text-align: right;\">           -0.000798935</td><td style=\"text-align: right;\">     30.5998</td><td style=\"text-align: right;\">    -23.318</td><td style=\"text-align: right;\">   -24.0426</td><td style=\"text-align: right;\"> 0.00520092</td><td style=\"text-align: right;\">0.00403969</td><td style=\"text-align: right;\">0.00308004</td><td style=\"text-align: right;\"> 0.0111273  </td><td style=\"text-align: right;\"> 0.00381212</td><td style=\"text-align: right;\"> -0.028138 </td><td style=\"text-align: right;\">                  -0.0339961</td><td style=\"text-align: right;\">                   0.0509928</td><td style=\"text-align: right;\">                  8.42727</td><td style=\"text-align: right;\">          0.579596</td><td style=\"text-align: right;\">                 -0.0280911</td><td style=\"text-align: right;\">                 0.0160067 </td><td style=\"text-align: right;\">                 4.43658</td><td style=\"text-align: right;\">        0.352785 </td><td style=\"text-align: right;\">                 -0.0372279</td><td style=\"text-align: right;\">                  0.0235743</td><td style=\"text-align: right;\">                 6.12201</td><td style=\"text-align: right;\">         0.373287</td><td style=\"text-align: right;\">         87.5146</td><td style=\"text-align: right;\">     87.5146</td><td style=\"text-align: right;\">     76.5881</td><td style=\"text-align: right;\">      0.0141502</td><td style=\"text-align: right;\">         84.7113</td><td style=\"text-align: right;\">     84.7113</td><td style=\"text-align: right;\">      71.76 </td><td style=\"text-align: right;\">      0.0153306</td><td style=\"text-align: right;\">         79.8944</td><td style=\"text-align: right;\">     79.8944</td><td style=\"text-align: right;\">     63.8311</td><td style=\"text-align: right;\">      0.0177479</td><td style=\"text-align: right;\">        74.4307</td><td style=\"text-align: right;\">    74.4307</td><td style=\"text-align: right;\">    55.3992</td><td style=\"text-align: right;\">     0.0173859</td><td style=\"text-align: right;\">        65.3107</td><td style=\"text-align: right;\">    65.3107</td><td style=\"text-align: right;\">    42.6548</td><td style=\"text-align: right;\">     0.0183736</td><td style=\"text-align: right;\">        48.8142</td><td style=\"text-align: right;\">    48.8142</td><td style=\"text-align: right;\">    23.8283</td><td style=\"text-align: right;\">     0.0210034</td><td style=\"text-align: right;\">        35.4905</td><td style=\"text-align: right;\">    36.2867</td><td style=\"text-align: right;\">    12.8783</td><td style=\"text-align: right;\">     0.0223027</td><td style=\"text-align: right;\">        16.5582</td><td style=\"text-align: right;\">    33.2287</td><td style=\"text-align: right;\">    5.50208</td><td style=\"text-align: right;\">     0.0241843</td><td style=\"text-align: right;\">      -11.9194 </td><td style=\"text-align: right;\">    44.1973</td><td style=\"text-align: right;\">   -5.26804</td><td style=\"text-align: right;\">     0.026968 </td><td style=\"text-align: right;\">            0.122564 </td><td style=\"text-align: right;\">            0.0772546</td><td style=\"text-align: right;\">      -0.242097</td><td style=\"text-align: right;\">      -0.112087</td><td style=\"text-align: right;\">      -0.0216683</td><td style=\"text-align: right;\">         70.0599</td><td style=\"text-align: right;\">            -0.131625</td><td style=\"text-align: right;\">       35.0649 </td><td style=\"text-align: right;\">           -0.439358</td><td style=\"text-align: right;\">       24.2424 </td><td style=\"text-align: right;\">           -0.525681</td><td style=\"text-align: right;\">       24.2424 </td><td style=\"text-align: right;\">           -0.48378 </td><td style=\"text-align: right;\">               0.0181818 </td><td style=\"text-align: right;\">             -0.00609272</td><td style=\"text-align: right;\">             -0.00898045</td><td style=\"text-align: right;\">             -0.00898045</td><td style=\"text-align: right;\"> 0.00860215</td><td style=\"text-align: right;\">   0.0920873</td><td style=\"text-align: right;\">   0.0764525</td><td style=\"text-align: right;\">                         0</td><td style=\"text-align: right;\">  0.0733793</td><td style=\"text-align: right;\">  0.0611734</td><td style=\"text-align: right;\">                -0.183515</td><td style=\"text-align: right;\">              90</td><td style=\"text-align: right;\">                10</td><td style=\"text-align: right;\">                      80</td><td style=\"text-align: right;\">             80</td><td style=\"text-align: right;\">               60</td><td style=\"text-align: right;\">                     20</td><td style=\"text-align: right;\">              0.777965</td><td style=\"text-align: right;\">            -0.579427</td><td style=\"text-align: right;\">             0.230812</td><td style=\"text-align: right;\">            -0.9382  </td><td style=\"text-align: right;\">             0.759993</td><td style=\"text-align: right;\">             0.305754</td><td style=\"text-align: right;\">                    1</td><td style=\"text-align: right;\">                   -1</td><td style=\"text-align: right;\">              -0.00645161</td><td style=\"text-align: right;\">                 0.0166667</td><td>n0                        </td><td style=\"text-align: right;\">        1</td></tr>\n",
       "<tr><td>2018-01-29</td><td>QQQC    </td><td>2018-01-29</td><td style=\"text-align: right;\">      33.52</td><td style=\"text-align: right;\">      33.52</td><td style=\"text-align: right;\">     33   </td><td style=\"text-align: right;\">       33.09</td><td style=\"text-align: right;\">        43500</td><td style=\"text-align: right;\">      3.02778</td><td style=\"text-align: right;\">     1.00461</td><td style=\"text-align: right;\">    1.51445 </td><td style=\"text-align: right;\">    0.520979</td><td style=\"text-align: right;\">    0.0200852</td><td style=\"text-align: right;\">   0.0172989</td><td style=\"text-align: right;\"> -0.00681481</td><td style=\"text-align: right;\">  -0.0158544</td><td style=\"text-align: right;\">         1</td><td style=\"text-align: right;\">         100</td><td style=\"text-align: right;\">         100</td><td style=\"text-align: right;\">         100</td><td style=\"text-align: right;\">         100</td><td style=\"text-align: right;\">         100</td><td style=\"text-align: right;\">         100</td><td style=\"text-align: right;\">                0.0055529</td><td style=\"text-align: right;\">              0.0040961 </td><td style=\"text-align: right;\">            0.000439317</td><td style=\"text-align: right;\">             -0.0147387</td><td style=\"text-align: right;\">            -0.015618  </td><td style=\"text-align: right;\">           -0.0123862  </td><td style=\"text-align: right;\">    -24.5769</td><td style=\"text-align: right;\">   -104.075</td><td style=\"text-align: right;\">   -65.2611</td><td style=\"text-align: right;\"> 0.00532378</td><td style=\"text-align: right;\">0.00583593</td><td style=\"text-align: right;\">0.00498633</td><td style=\"text-align: right;\"> 0.000254589</td><td style=\"text-align: right;\">-0.0274721 </td><td style=\"text-align: right;\"> -0.0933507</td><td style=\"text-align: right;\">                  -0.0336929</td><td style=\"text-align: right;\">                   0.0178335</td><td style=\"text-align: right;\">                  5.19383</td><td style=\"text-align: right;\">          0.334443</td><td style=\"text-align: right;\">                 -0.0339628</td><td style=\"text-align: right;\">                 0.00313279</td><td style=\"text-align: right;\">                 3.76764</td><td style=\"text-align: right;\">        0.0815836</td><td style=\"text-align: right;\">                 -0.0439932</td><td style=\"text-align: right;\">                  0.0143894</td><td style=\"text-align: right;\">                 5.92598</td><td style=\"text-align: right;\">         0.235625</td><td style=\"text-align: right;\">         72.0074</td><td style=\"text-align: right;\">     72.0074</td><td style=\"text-align: right;\">     51.8507</td><td style=\"text-align: right;\">      0.0147691</td><td style=\"text-align: right;\">         71.2545</td><td style=\"text-align: right;\">     71.2545</td><td style=\"text-align: right;\">      50.772</td><td style=\"text-align: right;\">      0.0153551</td><td style=\"text-align: right;\">         70.4897</td><td style=\"text-align: right;\">     70.4897</td><td style=\"text-align: right;\">     49.688 </td><td style=\"text-align: right;\">      0.016836 </td><td style=\"text-align: right;\">        69.9576</td><td style=\"text-align: right;\">    69.9576</td><td style=\"text-align: right;\">    48.9407</td><td style=\"text-align: right;\">     0.0168328</td><td style=\"text-align: right;\">        68.9846</td><td style=\"text-align: right;\">    68.9846</td><td style=\"text-align: right;\">    47.5888</td><td style=\"text-align: right;\">     0.0166809</td><td style=\"text-align: right;\">        64.9319</td><td style=\"text-align: right;\">    64.9319</td><td style=\"text-align: right;\">    42.1615</td><td style=\"text-align: right;\">     0.0190533</td><td style=\"text-align: right;\">        58.4735</td><td style=\"text-align: right;\">    58.4735</td><td style=\"text-align: right;\">    34.1915</td><td style=\"text-align: right;\">     0.0211492</td><td style=\"text-align: right;\">        43.663 </td><td style=\"text-align: right;\">    53.8032</td><td style=\"text-align: right;\">   23.4921 </td><td style=\"text-align: right;\">     0.0198802</td><td style=\"text-align: right;\">        9.00012</td><td style=\"text-align: right;\">    57.5215</td><td style=\"text-align: right;\">    5.177  </td><td style=\"text-align: right;\">     0.0224129</td><td style=\"text-align: right;\">            0.0644791</td><td style=\"text-align: right;\">            0.0226054</td><td style=\"text-align: right;\">      -1.32587 </td><td style=\"text-align: right;\">      -0.269581</td><td style=\"text-align: right;\">      -0.0960192</td><td style=\"text-align: right;\">         35.8491</td><td style=\"text-align: right;\">            -0.486126</td><td style=\"text-align: right;\">        8.10811</td><td style=\"text-align: right;\">           -0.865892</td><td style=\"text-align: right;\">        8.10811</td><td style=\"text-align: right;\">           -0.848038</td><td style=\"text-align: right;\">        8.10811</td><td style=\"text-align: right;\">           -0.848038</td><td style=\"text-align: right;\">              -0.00675371</td><td style=\"text-align: right;\">             -0.0138578 </td><td style=\"text-align: right;\">             -0.0138578 </td><td style=\"text-align: right;\">             -0.0138578 </td><td style=\"text-align: right;\">-0.0299033 </td><td style=\"text-align: right;\">   0.177129 </td><td style=\"text-align: right;\">   0.155732 </td><td style=\"text-align: right;\">                         0</td><td style=\"text-align: right;\">  0.158157 </td><td style=\"text-align: right;\">  0.0791925</td><td style=\"text-align: right;\">                -0.171255</td><td style=\"text-align: right;\">              90</td><td style=\"text-align: right;\">                20</td><td style=\"text-align: right;\">                      70</td><td style=\"text-align: right;\">             80</td><td style=\"text-align: right;\">              100</td><td style=\"text-align: right;\">                    -20</td><td style=\"text-align: right;\">              0.592387</td><td style=\"text-align: right;\">            -0.576956</td><td style=\"text-align: right;\">             0.352371</td><td style=\"text-align: right;\">            -0.964164</td><td style=\"text-align: right;\">             0.911224</td><td style=\"text-align: right;\">            -0.567063</td><td style=\"text-align: right;\">                    1</td><td style=\"text-align: right;\">                   -1</td><td style=\"text-align: right;\">              -0.0231496 </td><td style=\"text-align: right;\">                 0.0261956</td><td>n-2                       </td><td style=\"text-align: right;\">        2</td></tr>\n",
       "</tbody>\n",
       "</table>"
      ]
     },
     "metadata": {},
     "output_type": "display_data"
    },
    {
     "name": "stdout",
     "output_type": "stream",
     "text": [
      "\n"
     ]
    },
    {
     "data": {
      "text/html": [
       "<table>\n",
       "<thead>\n",
       "<tr><th>DateCol   </th><th>Symbol  </th><th>Date      </th><th style=\"text-align: right;\">  feat_Open</th><th style=\"text-align: right;\">  feat_High</th><th style=\"text-align: right;\">  feat_Low</th><th style=\"text-align: right;\">  feat_Close</th><th style=\"text-align: right;\">  feat_Volume</th><th style=\"text-align: right;\">  feat_VROC11</th><th style=\"text-align: right;\">  feat_VROC7</th><th style=\"text-align: right;\">  feat_VROC5</th><th style=\"text-align: right;\">  feat_VROC3</th><th style=\"text-align: right;\">  feat_PROC11</th><th style=\"text-align: right;\">  feat_PROC7</th><th style=\"text-align: right;\">  feat_PROC2</th><th style=\"text-align: right;\">  feat_PROC3</th><th style=\"text-align: right;\">  feat_DOW</th><th style=\"text-align: right;\">  feat_RSI17</th><th style=\"text-align: right;\">  feat_RSI13</th><th style=\"text-align: right;\">  feat_RSI11</th><th style=\"text-align: right;\">  feat_RSIg7</th><th style=\"text-align: right;\">  feat_RSIg5</th><th style=\"text-align: right;\">  feat_RSIg3</th><th style=\"text-align: right;\">  feat_Close11/19SMARatio</th><th style=\"text-align: right;\">  feat_Close5/11SMARatio</th><th style=\"text-align: right;\">  feat_Close3/7SMARatio</th><th style=\"text-align: right;\">  feat_Close2PctFromSMA</th><th style=\"text-align: right;\">  feat_Close4PctFromSMA</th><th style=\"text-align: right;\">  feat_Close8PctFromSMA</th><th style=\"text-align: right;\">  feat_10CCI</th><th style=\"text-align: right;\">  feat_6CCI</th><th style=\"text-align: right;\">  feat_3CCI</th><th style=\"text-align: right;\">  feat_10FI</th><th style=\"text-align: right;\">  feat_6FI</th><th style=\"text-align: right;\">  feat_3FI</th><th style=\"text-align: right;\">  feat_10EMV</th><th style=\"text-align: right;\">  feat_6EMV</th><th style=\"text-align: right;\">  feat_3EMV</th><th style=\"text-align: right;\">  feat_Close10PctFromUpperBB</th><th style=\"text-align: right;\">  feat_Close10PctFromLowerBB</th><th style=\"text-align: right;\">  feat_Close10BBBandwidth</th><th style=\"text-align: right;\">  feat_Close10PctB</th><th style=\"text-align: right;\">  feat_Close6PctFromUpperBB</th><th style=\"text-align: right;\">  feat_Close6PctFromLowerBB</th><th style=\"text-align: right;\">  feat_Close6BBBandwidth</th><th style=\"text-align: right;\">  feat_Close6PctB</th><th style=\"text-align: right;\">  feat_Close3PctFromUpperBB</th><th style=\"text-align: right;\">  feat_Close3PctFromLowerBB</th><th style=\"text-align: right;\">  feat_Close3BBBandwidth</th><th style=\"text-align: right;\">  feat_Close3PctB</th><th style=\"text-align: right;\">  feat_DIRatio17</th><th style=\"text-align: right;\">  feat_ADX17</th><th style=\"text-align: right;\">  feat_DMI17</th><th style=\"text-align: right;\">  feat_AdjATR17</th><th style=\"text-align: right;\">  feat_DIRatio14</th><th style=\"text-align: right;\">  feat_ADX14</th><th style=\"text-align: right;\">  feat_DMI14</th><th style=\"text-align: right;\">  feat_AdjATR14</th><th style=\"text-align: right;\">  feat_DIRatio11</th><th style=\"text-align: right;\">  feat_ADX11</th><th style=\"text-align: right;\">  feat_DMI11</th><th style=\"text-align: right;\">  feat_AdjATR11</th><th style=\"text-align: right;\">  feat_DIRatio9</th><th style=\"text-align: right;\">  feat_ADX9</th><th style=\"text-align: right;\">  feat_DMI9</th><th style=\"text-align: right;\">  feat_AdjATR9</th><th style=\"text-align: right;\">  feat_DIRatio7</th><th style=\"text-align: right;\">  feat_ADX7</th><th style=\"text-align: right;\">  feat_DMI7</th><th style=\"text-align: right;\">  feat_AdjATR7</th><th style=\"text-align: right;\">  feat_DIRatio5</th><th style=\"text-align: right;\">  feat_ADX5</th><th style=\"text-align: right;\">  feat_DMI5</th><th style=\"text-align: right;\">  feat_AdjATR5</th><th style=\"text-align: right;\">  feat_DIRatio4</th><th style=\"text-align: right;\">  feat_ADX4</th><th style=\"text-align: right;\">  feat_DMI4</th><th style=\"text-align: right;\">  feat_AdjATR4</th><th style=\"text-align: right;\">  feat_DIRatio3</th><th style=\"text-align: right;\">  feat_ADX3</th><th style=\"text-align: right;\">  feat_DMI3</th><th style=\"text-align: right;\">  feat_AdjATR3</th><th style=\"text-align: right;\">  feat_DIRatio2</th><th style=\"text-align: right;\">  feat_ADX2</th><th style=\"text-align: right;\">  feat_DMI2</th><th style=\"text-align: right;\">  feat_AdjATR2</th><th style=\"text-align: right;\">  feat_Close91226MACD</th><th style=\"text-align: right;\">  feat_Close71123MACD</th><th style=\"text-align: right;\">  feat_235MACDg</th><th style=\"text-align: right;\">  feat_357MACDg</th><th style=\"text-align: right;\">  feat_5711MACDg</th><th style=\"text-align: right;\">  feat_11StocOsc</th><th style=\"text-align: right;\">  feat_11StocOscRatio</th><th style=\"text-align: right;\">  feat_7StocOsc</th><th style=\"text-align: right;\">  feat_7StocOscRatio</th><th style=\"text-align: right;\">  feat_5StocOsc</th><th style=\"text-align: right;\">  feat_5StocOscRatio</th><th style=\"text-align: right;\">  feat_3StocOsc</th><th style=\"text-align: right;\">  feat_3StocOscRatio</th><th style=\"text-align: right;\">  feat_11PriceChannelDist</th><th style=\"text-align: right;\">  feat_7PriceChannelDist</th><th style=\"text-align: right;\">  feat_5PriceChannelDist</th><th style=\"text-align: right;\">  feat_3PriceChannelDist</th><th style=\"text-align: right;\">  feat_PSAR</th><th style=\"text-align: right;\">  feat_10ADL</th><th style=\"text-align: right;\">  feat_10CMF</th><th style=\"text-align: right;\">  feat_10ChaikinOscillator</th><th style=\"text-align: right;\">  feat_5ADL</th><th style=\"text-align: right;\">  feat_5CMF</th><th style=\"text-align: right;\">  feat_5ChaikinOscillator</th><th style=\"text-align: right;\">  feat_10AroonUp</th><th style=\"text-align: right;\">  feat_10AroonDown</th><th style=\"text-align: right;\">  feat_10AroonOscillator</th><th style=\"text-align: right;\">  feat_5AroonUp</th><th style=\"text-align: right;\">  feat_5AroonDown</th><th style=\"text-align: right;\">  feat_5AroonOscillator</th><th style=\"text-align: right;\">  feat_autocorr10High1</th><th style=\"text-align: right;\">  feat_autocorr5High1</th><th style=\"text-align: right;\">  feat_autocorr5High2</th><th style=\"text-align: right;\">  feat_autocorr3High1</th><th style=\"text-align: right;\">  feat_autocorr3High2</th><th style=\"text-align: right;\">  feat_autocorr3High3</th><th style=\"text-align: right;\">  feat_autocorr2High2</th><th style=\"text-align: right;\">  feat_autocorr2High1</th><th style=\"text-align: right;\">  lab_lowPercentChange_H2</th><th style=\"text-align: right;\">  lab_percentChange_H2High</th><th>lab_expectedReturnPct_H2  </th><th style=\"text-align: right;\">  weights</th></tr>\n",
       "</thead>\n",
       "<tbody>\n",
       "<tr><td>2018-02-05</td><td>SDEM    </td><td>2018-02-05</td><td style=\"text-align: right;\">      14.25</td><td style=\"text-align: right;\">      14.36</td><td style=\"text-align: right;\">     13.88</td><td style=\"text-align: right;\">       13.9 </td><td style=\"text-align: right;\">        13100</td><td style=\"text-align: right;\">     0.617284</td><td style=\"text-align: right;\">     3.09375</td><td style=\"text-align: right;\">    1.18333 </td><td style=\"text-align: right;\">    0.364583</td><td style=\"text-align: right;\">  -0.00554017</td><td style=\"text-align: right;\">  -0.0471135</td><td style=\"text-align: right;\">  -0.0264407</td><td style=\"text-align: right;\">  -0.0290737</td><td style=\"text-align: right;\">         1</td><td style=\"text-align: right;\">         100</td><td style=\"text-align: right;\">         100</td><td style=\"text-align: right;\">         100</td><td style=\"text-align: right;\">         100</td><td style=\"text-align: right;\">         100</td><td style=\"text-align: right;\">         100</td><td style=\"text-align: right;\">               0.00744729</td><td style=\"text-align: right;\">             -0.00733802</td><td style=\"text-align: right;\">            -0.00978648</td><td style=\"text-align: right;\">            -0.0145339 </td><td style=\"text-align: right;\">             -0.0343869</td><td style=\"text-align: right;\">             -0.0513564</td><td style=\"text-align: right;\">    -143.872</td><td style=\"text-align: right;\">  -115.167 </td><td style=\"text-align: right;\">   -66.4456</td><td style=\"text-align: right;\"> 0.00448255</td><td style=\"text-align: right;\">0.00442847</td><td style=\"text-align: right;\">0.00460392</td><td style=\"text-align: right;\"> -0.00240797</td><td style=\"text-align: right;\"> -0.0316613</td><td style=\"text-align: right;\"> -0.0659749</td><td style=\"text-align: right;\">                   -0.095523</td><td style=\"text-align: right;\">                 -0.00515337</td><td style=\"text-align: right;\">                  9.51598</td><td style=\"text-align: right;\">        -0.0515782</td><td style=\"text-align: right;\">                 -0.0866729</td><td style=\"text-align: right;\">                 0.00620723</td><td style=\"text-align: right;\">                 9.67736</td><td style=\"text-align: right;\">        0.0610382</td><td style=\"text-align: right;\">                 -0.0812954</td><td style=\"text-align: right;\">                  0.0303929</td><td style=\"text-align: right;\">                11.4605 </td><td style=\"text-align: right;\">         0.25    </td><td style=\"text-align: right;\">        48.1243 </td><td style=\"text-align: right;\">     49.132 </td><td style=\"text-align: right;\">    23.6444 </td><td style=\"text-align: right;\">      0.0131992</td><td style=\"text-align: right;\">        42.7883 </td><td style=\"text-align: right;\">     46.5077</td><td style=\"text-align: right;\">    19.8999 </td><td style=\"text-align: right;\">      0.0141048</td><td style=\"text-align: right;\">         33.0412</td><td style=\"text-align: right;\">     43.168 </td><td style=\"text-align: right;\">     14.2632</td><td style=\"text-align: right;\">      0.015105 </td><td style=\"text-align: right;\">        21.6325</td><td style=\"text-align: right;\">    42.2623</td><td style=\"text-align: right;\">    9.14239</td><td style=\"text-align: right;\">     0.0165609</td><td style=\"text-align: right;\">        2.92777</td><td style=\"text-align: right;\">    42.3498</td><td style=\"text-align: right;\">     1.2399</td><td style=\"text-align: right;\">     0.0170907</td><td style=\"text-align: right;\">       -26.977 </td><td style=\"text-align: right;\">    48.7506</td><td style=\"text-align: right;\">   -13.1515</td><td style=\"text-align: right;\">     0.0193848</td><td style=\"text-align: right;\">       -46.233 </td><td style=\"text-align: right;\">    56.782 </td><td style=\"text-align: right;\">   -26.252 </td><td style=\"text-align: right;\">     0.0198152</td><td style=\"text-align: right;\">       -66.2545</td><td style=\"text-align: right;\">    69.3652</td><td style=\"text-align: right;\">   -45.9575</td><td style=\"text-align: right;\">     0.0228143</td><td style=\"text-align: right;\">       -84.6433</td><td style=\"text-align: right;\">    86.8622</td><td style=\"text-align: right;\">   -73.5231</td><td style=\"text-align: right;\">     0.0308315</td><td style=\"text-align: right;\">            -0.462988</td><td style=\"text-align: right;\">            -0.576425</td><td style=\"text-align: right;\">       0.210675</td><td style=\"text-align: right;\">      0.567551 </td><td style=\"text-align: right;\">       -4.68015 </td><td style=\"text-align: right;\">         1.68067</td><td style=\"text-align: right;\">            -0.903751</td><td style=\"text-align: right;\">        1.68067</td><td style=\"text-align: right;\">           -0.824711</td><td style=\"text-align: right;\">         2.1978</td><td style=\"text-align: right;\">           -0.774824</td><td style=\"text-align: right;\">        2.29885</td><td style=\"text-align: right;\">           -0.897523</td><td style=\"text-align: right;\">               -0.0397237</td><td style=\"text-align: right;\">              -0.0397237</td><td style=\"text-align: right;\">              -0.0303453</td><td style=\"text-align: right;\">             -0.0289906 </td><td style=\"text-align: right;\"> -0.074105 </td><td style=\"text-align: right;\">   -0.102219</td><td style=\"text-align: right;\">   -0.140455</td><td style=\"text-align: right;\">                -0.165381 </td><td style=\"text-align: right;\">  -0.665297</td><td style=\"text-align: right;\">  -0.593689</td><td style=\"text-align: right;\">                -0.418541</td><td style=\"text-align: right;\">              40</td><td style=\"text-align: right;\">               100</td><td style=\"text-align: right;\">                     -60</td><td style=\"text-align: right;\">             40</td><td style=\"text-align: right;\">              100</td><td style=\"text-align: right;\">                    -60</td><td style=\"text-align: right;\">              0.707053</td><td style=\"text-align: right;\">             0.738958</td><td style=\"text-align: right;\">             0.452235</td><td style=\"text-align: right;\">             0.882723</td><td style=\"text-align: right;\">            -0.518046</td><td style=\"text-align: right;\">             0.701599</td><td style=\"text-align: right;\">                    1</td><td style=\"text-align: right;\">                    1</td><td style=\"text-align: right;\">               0         </td><td style=\"text-align: right;\">                 0.0396254</td><td>n0                        </td><td style=\"text-align: right;\">        1</td></tr>\n",
       "<tr><td>2018-02-09</td><td>QQQC    </td><td>2018-02-09</td><td style=\"text-align: right;\">      28.69</td><td style=\"text-align: right;\">      29.25</td><td style=\"text-align: right;\">     27.8 </td><td style=\"text-align: right;\">       29.23</td><td style=\"text-align: right;\">        38800</td><td style=\"text-align: right;\">     5.80702 </td><td style=\"text-align: right;\">     1.20455</td><td style=\"text-align: right;\">    0.545817</td><td style=\"text-align: right;\">   -0.337884</td><td style=\"text-align: right;\">  -0.133333  </td><td style=\"text-align: right;\">  -0.13179  </td><td style=\"text-align: right;\">  -0.0400394</td><td style=\"text-align: right;\">  -0.0561471</td><td style=\"text-align: right;\">         5</td><td style=\"text-align: right;\">         100</td><td style=\"text-align: right;\">         100</td><td style=\"text-align: right;\">         100</td><td style=\"text-align: right;\">         100</td><td style=\"text-align: right;\">         100</td><td style=\"text-align: right;\">         100</td><td style=\"text-align: right;\">              -0.0129944 </td><td style=\"text-align: right;\">             -0.0250955 </td><td style=\"text-align: right;\">            -0.01812   </td><td style=\"text-align: right;\">             0.00688942</td><td style=\"text-align: right;\">             -0.0144146</td><td style=\"text-align: right;\">             -0.0473785</td><td style=\"text-align: right;\">    -102.704</td><td style=\"text-align: right;\">   -88.2292</td><td style=\"text-align: right;\">   -59.4928</td><td style=\"text-align: right;\"> 0.0193095 </td><td style=\"text-align: right;\">0.020015  </td><td style=\"text-align: right;\">0.021399  </td><td style=\"text-align: right;\"> -0.444274  </td><td style=\"text-align: right;\"> -0.740387 </td><td style=\"text-align: right;\"> -0.712263 </td><td style=\"text-align: right;\">                   -0.142871</td><td style=\"text-align: right;\">                  0.0408889 </td><td style=\"text-align: right;\">                 19.3634 </td><td style=\"text-align: right;\">         0.190721 </td><td style=\"text-align: right;\">                 -0.0863411</td><td style=\"text-align: right;\">                 0.0375886 </td><td style=\"text-align: right;\">                12.7026 </td><td style=\"text-align: right;\">        0.277118 </td><td style=\"text-align: right;\">                 -0.0358625</td><td style=\"text-align: right;\">                  0.0334922</td><td style=\"text-align: right;\">                 6.94369</td><td style=\"text-align: right;\">         0.465594</td><td style=\"text-align: right;\">         9.07685</td><td style=\"text-align: right;\">     43.0795</td><td style=\"text-align: right;\">     3.91026</td><td style=\"text-align: right;\">      0.0275966</td><td style=\"text-align: right;\">        -3.07617</td><td style=\"text-align: right;\">     44.8134</td><td style=\"text-align: right;\">    -1.37854</td><td style=\"text-align: right;\">      0.0309989</td><td style=\"text-align: right;\">        -20.4128</td><td style=\"text-align: right;\">     49.3929</td><td style=\"text-align: right;\">    -10.0825</td><td style=\"text-align: right;\">      0.0348677</td><td style=\"text-align: right;\">       -35.9765</td><td style=\"text-align: right;\">    56.0137</td><td style=\"text-align: right;\">  -20.1518 </td><td style=\"text-align: right;\">     0.0376354</td><td style=\"text-align: right;\">      -55.2814 </td><td style=\"text-align: right;\">    66.4742</td><td style=\"text-align: right;\">   -36.7478</td><td style=\"text-align: right;\">     0.0383102</td><td style=\"text-align: right;\">       -77.1996</td><td style=\"text-align: right;\">    80.906 </td><td style=\"text-align: right;\">   -62.4592</td><td style=\"text-align: right;\">     0.0433   </td><td style=\"text-align: right;\">       -87.5693</td><td style=\"text-align: right;\">    88.9221</td><td style=\"text-align: right;\">   -77.8685</td><td style=\"text-align: right;\">     0.0439803</td><td style=\"text-align: right;\">       -95.6473</td><td style=\"text-align: right;\">    95.9276</td><td style=\"text-align: right;\">   -91.7521</td><td style=\"text-align: right;\">     0.0405701</td><td style=\"text-align: right;\">       -99.5933</td><td style=\"text-align: right;\">    99.6143</td><td style=\"text-align: right;\">   -99.2092</td><td style=\"text-align: right;\">     0.0457584</td><td style=\"text-align: right;\">             0.351187</td><td style=\"text-align: right;\">             0.261811</td><td style=\"text-align: right;\">      -0.013231</td><td style=\"text-align: right;\">      0.0397584</td><td style=\"text-align: right;\">        0.151822</td><td style=\"text-align: right;\">        22.6624 </td><td style=\"text-align: right;\">             0.962558</td><td style=\"text-align: right;\">       29.668  </td><td style=\"text-align: right;\">            1.08018 </td><td style=\"text-align: right;\">        35.8396</td><td style=\"text-align: right;\">            1.01488 </td><td style=\"text-align: right;\">       53.5581 </td><td style=\"text-align: right;\">            1.0815  </td><td style=\"text-align: right;\">               -0.0557261</td><td style=\"text-align: right;\">              -0.0324396</td><td style=\"text-align: right;\">              -0.0189629</td><td style=\"text-align: right;\">              0.00326068</td><td style=\"text-align: right;\"> -0.0923519</td><td style=\"text-align: right;\">   -0.267035</td><td style=\"text-align: right;\">   -0.187263</td><td style=\"text-align: right;\">                -0.0946378</td><td style=\"text-align: right;\">   0.105395</td><td style=\"text-align: right;\">   0.134919</td><td style=\"text-align: right;\">                 0.233549</td><td style=\"text-align: right;\">              30</td><td style=\"text-align: right;\">               100</td><td style=\"text-align: right;\">                     -70</td><td style=\"text-align: right;\">             20</td><td style=\"text-align: right;\">              100</td><td style=\"text-align: right;\">                    -80</td><td style=\"text-align: right;\">              0.938188</td><td style=\"text-align: right;\">             0.975839</td><td style=\"text-align: right;\">             0.982063</td><td style=\"text-align: right;\">             0.975153</td><td style=\"text-align: right;\">             0.95807 </td><td style=\"text-align: right;\">             0.996139</td><td style=\"text-align: right;\">                    1</td><td style=\"text-align: right;\">                    1</td><td style=\"text-align: right;\">              -0.00343643</td><td style=\"text-align: right;\">                 0.0439863</td><td>n0                        </td><td style=\"text-align: right;\">        1</td></tr>\n",
       "</tbody>\n",
       "</table>"
      ]
     },
     "metadata": {},
     "output_type": "display_data"
    },
    {
     "name": "stdout",
     "output_type": "stream",
     "text": [
      "\n",
      "building model for lab_lowPercentChange_H2\n",
      "gbm Grid Build progress: |█"
     ]
    },
    {
     "name": "stderr",
     "output_type": "stream",
     "text": [
      "ERROR:root:Internal Python error in the inspect module.\n",
      "Below is the traceback from this internal error.\n",
      "\n"
     ]
    },
    {
     "name": "stdout",
     "output_type": "stream",
     "text": [
      "Traceback (most recent call last):\n",
      "  File \"/Users/Damian/opt/anaconda3/envs/uyulala/lib/python3.7/site-packages/IPython/core/interactiveshell.py\", line 2878, in run_code\n",
      "    exec(code_obj, self.user_global_ns, self.user_ns)\n",
      "  File \"<ipython-input-8-b3791d5977cd>\", line 57, in <module>\n",
      "    low_quantile_model = createQuantileModel(label=labels[0], quantile_alpha=.05, perf_metric='mae')\n",
      "  File \"<ipython-input-8-b3791d5977cd>\", line 34, in createQuantileModel\n",
      "    gbm_grid.train(x=features,y=label,training_frame=train,weights_column='weights')\n",
      "  File \"/Users/Damian/opt/anaconda3/envs/uyulala/lib/python3.7/site-packages/h2o/grid/grid_search.py\", line 342, in train\n",
      "    self.build_model(parms)\n",
      "  File \"/Users/Damian/opt/anaconda3/envs/uyulala/lib/python3.7/site-packages/h2o/grid/grid_search.py\", line 361, in build_model\n",
      "    self._model_build(x, y, training_frame, validation_frame, algo_params)\n",
      "  File \"/Users/Damian/opt/anaconda3/envs/uyulala/lib/python3.7/site-packages/h2o/grid/grid_search.py\", line 389, in _model_build\n",
      "    grid.poll()\n",
      "  File \"/Users/Damian/opt/anaconda3/envs/uyulala/lib/python3.7/site-packages/h2o/job.py\", line 60, in poll\n",
      "    pb.execute(self._refresh_job_status)\n",
      "  File \"/Users/Damian/opt/anaconda3/envs/uyulala/lib/python3.7/site-packages/h2o/utils/progressbar.py\", line 209, in execute\n",
      "    self._draw(result.rendered, final=True)\n",
      "  File \"/Users/Damian/opt/anaconda3/envs/uyulala/lib/python3.7/site-packages/h2o/utils/progressbar.py\", line 360, in _draw\n",
      "    sys.stdout.write(txt)\n",
      "  File \"/Users/Damian/opt/anaconda3/envs/uyulala/lib/python3.7/site-packages/colorama/ansitowin32.py\", line 41, in write\n",
      "    self.__convertor.write(text)\n",
      "  File \"/Users/Damian/opt/anaconda3/envs/uyulala/lib/python3.7/site-packages/colorama/ansitowin32.py\", line 162, in write\n",
      "    self.write_and_convert(text)\n",
      "  File \"/Users/Damian/opt/anaconda3/envs/uyulala/lib/python3.7/site-packages/colorama/ansitowin32.py\", line 190, in write_and_convert\n",
      "    self.write_plain_text(text, cursor, len(text))\n",
      "  File \"/Users/Damian/opt/anaconda3/envs/uyulala/lib/python3.7/site-packages/colorama/ansitowin32.py\", line 195, in write_plain_text\n",
      "    self.wrapped.write(text[start:end])\n",
      "  File \"/Users/Damian/opt/anaconda3/envs/uyulala/lib/python3.7/site-packages/ipykernel/iostream.py\", line 387, in write\n",
      "    if self.echo is not None:\n",
      "KeyboardInterrupt\n",
      "\n",
      "During handling of the above exception, another exception occurred:\n",
      "\n",
      "Traceback (most recent call last):\n",
      "  File \"/Users/Damian/opt/anaconda3/envs/uyulala/lib/python3.7/site-packages/IPython/core/interactiveshell.py\", line 1823, in showtraceback\n",
      "    stb = value._render_traceback_()\n",
      "AttributeError: 'KeyboardInterrupt' object has no attribute '_render_traceback_'\n",
      "\n",
      "During handling of the above exception, another exception occurred:\n",
      "\n",
      "Traceback (most recent call last):\n",
      "  File \"/Users/Damian/opt/anaconda3/envs/uyulala/lib/python3.7/site-packages/IPython/core/ultratb.py\", line 1132, in get_records\n",
      "    return _fixed_getinnerframes(etb, number_of_lines_of_context, tb_offset)\n",
      "  File \"/Users/Damian/opt/anaconda3/envs/uyulala/lib/python3.7/site-packages/IPython/core/ultratb.py\", line 313, in wrapped\n",
      "    return f(*args, **kwargs)\n",
      "  File \"/Users/Damian/opt/anaconda3/envs/uyulala/lib/python3.7/site-packages/IPython/core/ultratb.py\", line 358, in _fixed_getinnerframes\n",
      "    records = fix_frame_records_filenames(inspect.getinnerframes(etb, context))\n",
      "  File \"/Users/Damian/opt/anaconda3/envs/uyulala/lib/python3.7/inspect.py\", line 1502, in getinnerframes\n",
      "    frameinfo = (tb.tb_frame,) + getframeinfo(tb, context)\n",
      "  File \"/Users/Damian/opt/anaconda3/envs/uyulala/lib/python3.7/inspect.py\", line 1464, in getframeinfo\n",
      "    lines, lnum = findsource(frame)\n",
      "  File \"/Users/Damian/opt/anaconda3/envs/uyulala/lib/python3.7/site-packages/IPython/core/ultratb.py\", line 229, in findsource\n",
      "    if pmatch(lines[lnum]):\n",
      "KeyboardInterrupt\n"
     ]
    },
    {
     "ename": "KeyboardInterrupt",
     "evalue": "",
     "output_type": "error",
     "traceback": [
      "\u001b[0;31m---------------------------------------------------------------------------\u001b[0m"
     ]
    }
   ],
   "source": [
    "\n",
    "##################################################################################\n",
    "#######################       Building Models       ##############################\n",
    "##################################################################################\n",
    "\n",
    "\n",
    "print('building models')\n",
    "#timePerRun = int(totalBuildTimeAllowed_seconds / (len(labels)*1.0000000000))\n",
    "timePerRun = 999999\n",
    "print('Time per run: ' + str(timePerRun) + ' seconds')\n",
    "\n",
    "#executionOrder = []\n",
    "\n",
    "\n",
    "def createQuantileModel(label,quantile_alpha=.05,perf_metric='mse'):\n",
    "    print('building model for {}'.format(label))\n",
    "    # GBM hyperparameters\n",
    "    hyper_params = {'learn_rate': [i * 0.01 for i in range(1,21,2)],\n",
    "                    'max_depth': list(range(3, 22, 3)),\n",
    "                    'sample_rate': [i * 0.1 for i in range(5, 10)],\n",
    "                    'col_sample_rate': [i * 0.1 for i in range(3, 10)],\n",
    "                    'col_sample_rate_per_tree': [i * 0.1 for i in range(5, 8)],\n",
    "                    'min_rows': [50, 100, 500],\n",
    "                    'min_split_improvement': [1e-3, 1e-5]}\n",
    "    # Search criteria\n",
    "    search_criteria = {'strategy':'RandomDiscrete', 'max_models':500, 'max_runtime_secs':timePerRun,\n",
    "                        'stopping_metric':perf_metric, 'stopping_rounds':5}\n",
    "    gbm = H2OGradientBoostingEstimator(distribution=\"quantile\", quantile_alpha = quantile_alpha, nfolds = 6, ntrees=10000, learn_rate_annealing=0.99)\n",
    "    # Train and validate a random grid of GBMs\n",
    "    gbm_grid = H2OGridSearch(model=gbm,\n",
    "                              grid_id='gbm_grid_{}'.format(label),\n",
    "                              hyper_params=hyper_params,\n",
    "                              search_criteria=search_criteria,parallelism=0)\n",
    "    gbm_grid.train(x=features,y=label,training_frame=train,weights_column='weights')\n",
    "    # Grab the top GBM model, chosen by validation metric\n",
    "    print('choosing top model...')\n",
    "    for i in range(max(10,len(gbm_grid.get_grid(sort_by=perf_metric, decreasing=False).models))):\n",
    "        ithPerf = eval('''gbm_grid.get_grid(sort_by=perf_metric, decreasing=False).models[{}].model_performance(test).{}()'''.format(i,perf_metric))\n",
    "        print('model {0} {1}: {2}'.format(i,perf_metric,ithPerf))\n",
    "        if i==0:\n",
    "            leadingPerf = ithPerf\n",
    "            leadingModel = gbm_grid.get_grid(sort_by=perf_metric, decreasing=False).models[i]\n",
    "            print('''leading test performance: {}'''.format(leadingPerf))\n",
    "        else:\n",
    "            if ithPerf < leadingPerf:\n",
    "                leadingPerf = ithPerf\n",
    "                leadingModel = gbm_grid.get_grid(sort_by=perf_metric, decreasing=False).models[i]\n",
    "                print('''leading test performance: {}'''.format(leadingPerf))\n",
    "    print('variable importance:')\n",
    "    print(leadingModel.varimp(use_pandas=True))\n",
    "    return leadingModel\n",
    "\n",
    "r=1\n",
    "print('''model building round {}'''.format(r))\n",
    "while len(transformed_files)>0:\n",
    "    train,test,labels,features = sampleAndCleanDataAsNeeded(transformed_files=transformed_files)\n",
    "    low_quantile_model = createQuantileModel(label=labels[0], quantile_alpha=.05, perf_metric='mae')\n",
    "    #executionOrder.append(low_quantile_model.model_id)\n",
    "    h2o.save_model(model=low_quantile_model, path=os.path.join(uyulala.modelsDir,folderName,labels[0]), force=True)\n",
    "    high_quantile_model = createQuantileModel(label=labels[1], quantile_alpha=.05, perf_metric='mae')\n",
    "    #executionOrder.append(high_quantile_model.model_id)\n",
    "    h2o.save_model(model=high_quantile_model, path=os.path.join(uyulala.modelsDir,folderName,labels[1]), force=True)\n",
    "\n",
    "    print('building model for {}'.format(labels[2]))\n",
    "    aml = H2OAutoML(project_name=labels[2],\n",
    "                    stopping_rounds=5,max_models=500,\n",
    "                    max_runtime_secs = timePerRun)\n",
    "    aml.train(x=features,y=labels[2],training_frame=train,leaderboard_frame=test,weights_column='weights')\n",
    "    #executionOrder = executionOrder + [aml._leader_id]\n",
    "    h2o.save_model(model=aml.leader, path=os.path.join(uyulala.modelsDir,folderName,labels[2]), force=True)\n",
    "    print('variable importance:')\n",
    "    print(aml.leader.varimp(use_pandas=True))\n",
    "    transformed_files = [x for x in transformed_files if x not in sampledFiles]\n",
    "    r=r+1\n",
    "print('done building models')\n",
    "\n",
    "\n",
    "\n"
   ]
  },
  {
   "cell_type": "code",
   "execution_count": null,
   "metadata": {},
   "outputs": [],
   "source": [
    "\n",
    "\n",
    "##################################################################################\n",
    "######################       Check Predictions       #############################\n",
    "##################################################################################\n",
    "\n",
    "\n",
    "train['dataset'] = 'train'\n",
    "test['dataset'] = 'test'\n",
    "fullDF = train.rbind(test)\n",
    "h2o.remove('train')\n",
    "h2o.remove('test')\n",
    "\n",
    "preds = low_quantile_model.predict(fullDF)\n",
    "preds.set_names([x+'_low' for x in preds.names])\n",
    "fullDF = fullDF.cbind(preds)\n",
    "\n",
    "preds = high_quantile_model.predict(fullDF)\n",
    "preds.set_names([x+'_high' for x in preds.names])\n",
    "fullDF = fullDF.cbind(preds)\n",
    "\n",
    "preds = aml.leader.predict(fullDF)\n",
    "preds.set_names([x+'_expectedReturnPct' for x in preds.names])\n",
    "fullDF = fullDF.cbind(preds)\n",
    "\n",
    "\n",
    "with open(os.path.join(uyulala.modelsDir,folderName,\"executionOrder.txt\"), \"w\") as output:\n",
    "    output.write(str(executionOrder))\n",
    "print(fullDF.head(2))\n",
    "h2o.export_file(fullDF, path=os.path.join(uyulala.dataDir,'model_data',folderName), force = True, parts=-1)\n",
    "\n",
    "\n",
    "print('done')\n"
   ]
  }
 ],
 "metadata": {
  "kernelspec": {
   "display_name": "Python 3",
   "language": "python",
   "name": "python3"
  },
  "language_info": {
   "codemirror_mode": {
    "name": "ipython",
    "version": 3
   },
   "file_extension": ".py",
   "mimetype": "text/x-python",
   "name": "python",
   "nbconvert_exporter": "python",
   "pygments_lexer": "ipython3",
   "version": "3.7.6"
  }
 },
 "nbformat": 4,
 "nbformat_minor": 4
}
