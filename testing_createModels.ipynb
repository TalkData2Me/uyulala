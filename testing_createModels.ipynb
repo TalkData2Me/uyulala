{
 "metadata": {
  "name": "",
  "signature": "sha256:b2683517752cd37549515537ae1c27fe499b77a0d211c1de987031633e7bc631"
 },
 "nbformat": 3,
 "nbformat_minor": 0,
 "worksheets": [
  {
   "cells": [
    {
     "cell_type": "code",
     "collapsed": false,
     "input": [
      "import uyulala\n",
      "reload(uyulala)\n",
      "import os\n",
      "import pandas"
     ],
     "language": "python",
     "metadata": {},
     "outputs": [
      {
       "output_type": "stream",
       "stream": "stderr",
       "text": [
        "/Users/Damian/anaconda/lib/python2.7/site-packages/pandas/computation/__init__.py:19: UserWarning: The installed version of numexpr 2.4.4 is not supported in pandas and will be not be used\n",
        "\n",
        "  UserWarning)\n"
       ]
      }
     ],
     "prompt_number": 2
    },
    {
     "cell_type": "code",
     "collapsed": false,
     "input": [
      "import h2o\n",
      "h2o.init()"
     ],
     "language": "python",
     "metadata": {},
     "outputs": [
      {
       "output_type": "stream",
       "stream": "stdout",
       "text": [
        "\n",
        "\n",
        "No instance found at ip and port: localhost:54321. Trying to start local jar...\n",
        "\n",
        "\n",
        "JVM stdout: /var/folders/5b/s4769fcn60d842cy18f7nc3h0000gn/T/tmpiB7P1d/h2o_Damian_started_from_python.out"
       ]
      },
      {
       "output_type": "stream",
       "stream": "stdout",
       "text": [
        "\n",
        "JVM stderr: /var/folders/5b/s4769fcn60d842cy18f7nc3h0000gn/T/tmpCiZ3uR/h2o_Damian_started_from_python.err\n",
        "Using ice_root: /var/folders/5b/s4769fcn60d842cy18f7nc3h0000gn/T/tmprOoUCd\n",
        "\n"
       ]
      },
      {
       "ename": "CalledProcessError",
       "evalue": "Command '['/usr/bin/java', '-version']' returned non-zero exit status 1",
       "output_type": "pyerr",
       "traceback": [
        "\u001b[0;31m---------------------------------------------------------------------------\u001b[0m\n\u001b[0;31mCalledProcessError\u001b[0m                        Traceback (most recent call last)",
        "\u001b[0;32m<ipython-input-6-07f8bb8f27db>\u001b[0m in \u001b[0;36m<module>\u001b[0;34m()\u001b[0m\n\u001b[1;32m      1\u001b[0m \u001b[0;32mimport\u001b[0m \u001b[0mh2o\u001b[0m\u001b[0;34m\u001b[0m\u001b[0m\n\u001b[0;32m----> 2\u001b[0;31m \u001b[0mh2o\u001b[0m\u001b[0;34m.\u001b[0m\u001b[0minit\u001b[0m\u001b[0;34m(\u001b[0m\u001b[0;34m)\u001b[0m\u001b[0;34m\u001b[0m\u001b[0m\n\u001b[0m",
        "\u001b[0;32m/Users/Damian/anaconda/lib/python2.7/site-packages/h2o/h2o.pyc\u001b[0m in \u001b[0;36minit\u001b[0;34m(ip, port, start_h2o, enable_assertions, license, nthreads, max_mem_size, min_mem_size, ice_root, strict_version_check, proxy, https, insecure, username, password, cluster_name, max_mem_size_GB, min_mem_size_GB, proxies, size)\u001b[0m\n\u001b[1;32m    851\u001b[0m                 \u001b[0mnthreads\u001b[0m\u001b[0;34m=\u001b[0m\u001b[0mnthreads\u001b[0m\u001b[0;34m,\u001b[0m\u001b[0mmax_mem_size\u001b[0m\u001b[0;34m=\u001b[0m\u001b[0mmax_mem_size\u001b[0m\u001b[0;34m,\u001b[0m\u001b[0mmin_mem_size\u001b[0m\u001b[0;34m=\u001b[0m\u001b[0mmin_mem_size\u001b[0m\u001b[0;34m,\u001b[0m\u001b[0mice_root\u001b[0m\u001b[0;34m=\u001b[0m\u001b[0mice_root\u001b[0m\u001b[0;34m,\u001b[0m\u001b[0;34m\u001b[0m\u001b[0m\n\u001b[1;32m    852\u001b[0m                 \u001b[0mstrict_version_check\u001b[0m\u001b[0;34m=\u001b[0m\u001b[0mstrict_version_check\u001b[0m\u001b[0;34m,\u001b[0m\u001b[0mproxy\u001b[0m\u001b[0;34m=\u001b[0m\u001b[0mproxy\u001b[0m\u001b[0;34m,\u001b[0m\u001b[0mhttps\u001b[0m\u001b[0;34m=\u001b[0m\u001b[0mhttps\u001b[0m\u001b[0;34m,\u001b[0m\u001b[0minsecure\u001b[0m\u001b[0;34m=\u001b[0m\u001b[0minsecure\u001b[0m\u001b[0;34m,\u001b[0m\u001b[0musername\u001b[0m\u001b[0;34m=\u001b[0m\u001b[0musername\u001b[0m\u001b[0;34m,\u001b[0m\u001b[0;34m\u001b[0m\u001b[0m\n\u001b[0;32m--> 853\u001b[0;31m                 password=password,cluster_name=cluster_name,max_mem_size_GB=max_mem_size_GB,min_mem_size_GB=min_mem_size_GB,proxies=proxies,size=size)\n\u001b[0m\u001b[1;32m    854\u001b[0m   \u001b[0;32mreturn\u001b[0m \u001b[0mNone\u001b[0m\u001b[0;34m\u001b[0m\u001b[0m\n\u001b[1;32m    855\u001b[0m \u001b[0;34m\u001b[0m\u001b[0m\n",
        "\u001b[0;32m/Users/Damian/anaconda/lib/python2.7/site-packages/h2o/connection.pyc\u001b[0m in \u001b[0;36m__init__\u001b[0;34m(self, ip, port, start_h2o, enable_assertions, license, nthreads, max_mem_size, min_mem_size, ice_root, strict_version_check, proxy, https, insecure, username, password, cluster_name, max_mem_size_GB, min_mem_size_GB, proxies, size)\u001b[0m\n\u001b[1;32m    135\u001b[0m         \u001b[0;32mif\u001b[0m \u001b[0;32mnot\u001b[0m \u001b[0mice_root\u001b[0m\u001b[0;34m:\u001b[0m\u001b[0;34m\u001b[0m\u001b[0m\n\u001b[1;32m    136\u001b[0m           \u001b[0mice_root\u001b[0m \u001b[0;34m=\u001b[0m \u001b[0mtempfile\u001b[0m\u001b[0;34m.\u001b[0m\u001b[0mmkdtemp\u001b[0m\u001b[0;34m(\u001b[0m\u001b[0;34m)\u001b[0m\u001b[0;34m\u001b[0m\u001b[0m\n\u001b[0;32m--> 137\u001b[0;31m         \u001b[0mcld\u001b[0m \u001b[0;34m=\u001b[0m \u001b[0mself\u001b[0m\u001b[0;34m.\u001b[0m\u001b[0m_start_local_h2o_jar\u001b[0m\u001b[0;34m(\u001b[0m\u001b[0mmax_mem_size\u001b[0m\u001b[0;34m,\u001b[0m \u001b[0mmin_mem_size\u001b[0m\u001b[0;34m,\u001b[0m \u001b[0menable_assertions\u001b[0m\u001b[0;34m,\u001b[0m \u001b[0mlicense\u001b[0m\u001b[0;34m,\u001b[0m \u001b[0mice_root\u001b[0m\u001b[0;34m,\u001b[0m \u001b[0mjar_path\u001b[0m\u001b[0;34m,\u001b[0m \u001b[0mnthreads\u001b[0m\u001b[0;34m)\u001b[0m\u001b[0;34m\u001b[0m\u001b[0m\n\u001b[0m\u001b[1;32m    138\u001b[0m       \u001b[0;32melse\u001b[0m\u001b[0;34m:\u001b[0m\u001b[0;34m\u001b[0m\u001b[0m\n\u001b[1;32m    139\u001b[0m         \u001b[0;32mprint\u001b[0m\u001b[0;34m(\u001b[0m\u001b[0;34m\"No jar file found. Could not start local instance.\"\u001b[0m\u001b[0;34m)\u001b[0m\u001b[0;34m\u001b[0m\u001b[0m\n",
        "\u001b[0;32m/Users/Damian/anaconda/lib/python2.7/site-packages/h2o/connection.pyc\u001b[0m in \u001b[0;36m_start_local_h2o_jar\u001b[0;34m(self, mmax, mmin, ea, license, ice, jar_path, nthreads)\u001b[0m\n\u001b[1;32m    278\u001b[0m     \u001b[0;32mprint\u001b[0m\u001b[0;34m(\u001b[0m\u001b[0;34m)\u001b[0m\u001b[0;34m\u001b[0m\u001b[0m\n\u001b[1;32m    279\u001b[0m \u001b[0;34m\u001b[0m\u001b[0m\n\u001b[0;32m--> 280\u001b[0;31m     \u001b[0mjver\u001b[0m \u001b[0;34m=\u001b[0m \u001b[0msubprocess\u001b[0m\u001b[0;34m.\u001b[0m\u001b[0mcheck_output\u001b[0m\u001b[0;34m(\u001b[0m\u001b[0;34m[\u001b[0m\u001b[0mcommand\u001b[0m\u001b[0;34m,\u001b[0m \u001b[0;34m\"-version\"\u001b[0m\u001b[0;34m]\u001b[0m\u001b[0;34m,\u001b[0m \u001b[0mstderr\u001b[0m\u001b[0;34m=\u001b[0m\u001b[0msubprocess\u001b[0m\u001b[0;34m.\u001b[0m\u001b[0mSTDOUT\u001b[0m\u001b[0;34m)\u001b[0m\u001b[0;34m\u001b[0m\u001b[0m\n\u001b[0m\u001b[1;32m    281\u001b[0m     \u001b[0;32mif\u001b[0m \u001b[0mPY3\u001b[0m\u001b[0;34m:\u001b[0m \u001b[0mjver\u001b[0m \u001b[0;34m=\u001b[0m \u001b[0mstr\u001b[0m\u001b[0;34m(\u001b[0m\u001b[0mjver\u001b[0m\u001b[0;34m,\u001b[0m \u001b[0mH2OConnection\u001b[0m\u001b[0;34m.\u001b[0m\u001b[0m__ENCODING__\u001b[0m\u001b[0;34m)\u001b[0m\u001b[0;34m\u001b[0m\u001b[0m\n\u001b[1;32m    282\u001b[0m \u001b[0;34m\u001b[0m\u001b[0m\n",
        "\u001b[0;32m/Users/Damian/anaconda/python.app/Contents/lib/python2.7/subprocess.pyc\u001b[0m in \u001b[0;36mcheck_output\u001b[0;34m(*popenargs, **kwargs)\u001b[0m\n\u001b[1;32m    572\u001b[0m         \u001b[0;32mif\u001b[0m \u001b[0mcmd\u001b[0m \u001b[0;32mis\u001b[0m \u001b[0mNone\u001b[0m\u001b[0;34m:\u001b[0m\u001b[0;34m\u001b[0m\u001b[0m\n\u001b[1;32m    573\u001b[0m             \u001b[0mcmd\u001b[0m \u001b[0;34m=\u001b[0m \u001b[0mpopenargs\u001b[0m\u001b[0;34m[\u001b[0m\u001b[0;36m0\u001b[0m\u001b[0;34m]\u001b[0m\u001b[0;34m\u001b[0m\u001b[0m\n\u001b[0;32m--> 574\u001b[0;31m         \u001b[0;32mraise\u001b[0m \u001b[0mCalledProcessError\u001b[0m\u001b[0;34m(\u001b[0m\u001b[0mretcode\u001b[0m\u001b[0;34m,\u001b[0m \u001b[0mcmd\u001b[0m\u001b[0;34m,\u001b[0m \u001b[0moutput\u001b[0m\u001b[0;34m=\u001b[0m\u001b[0moutput\u001b[0m\u001b[0;34m)\u001b[0m\u001b[0;34m\u001b[0m\u001b[0m\n\u001b[0m\u001b[1;32m    575\u001b[0m     \u001b[0;32mreturn\u001b[0m \u001b[0moutput\u001b[0m\u001b[0;34m\u001b[0m\u001b[0m\n\u001b[1;32m    576\u001b[0m \u001b[0;34m\u001b[0m\u001b[0m\n",
        "\u001b[0;31mCalledProcessError\u001b[0m: Command '['/usr/bin/java', '-version']' returned non-zero exit status 1"
       ]
      }
     ],
     "prompt_number": 6
    },
    {
     "cell_type": "code",
     "collapsed": false,
     "input": [
      "asset = 'CHIX'\n",
      "\n",
      "labeled = pandas.read_csv(os.path.join(uyulala.dataDir,'labeled',asset+'.csv'),parse_dates=['DateCol']).set_index('DateCol',drop=False)\n",
      "labeled.head()"
     ],
     "language": "python",
     "metadata": {},
     "outputs": [
      {
       "html": [
        "<div style=\"max-width:1500px;overflow:auto;\">\n",
        "<table border=\"1\" class=\"dataframe\">\n",
        "  <thead>\n",
        "    <tr style=\"text-align: right;\">\n",
        "      <th></th>\n",
        "      <th>Open</th>\n",
        "      <th>High</th>\n",
        "      <th>Low</th>\n",
        "      <th>Close</th>\n",
        "      <th>Volume</th>\n",
        "      <th>Symbol</th>\n",
        "      <th>DateCol</th>\n",
        "      <th>percentChange</th>\n",
        "    </tr>\n",
        "    <tr>\n",
        "      <th>DateCol</th>\n",
        "      <th></th>\n",
        "      <th></th>\n",
        "      <th></th>\n",
        "      <th></th>\n",
        "      <th></th>\n",
        "      <th></th>\n",
        "      <th></th>\n",
        "      <th></th>\n",
        "    </tr>\n",
        "  </thead>\n",
        "  <tbody>\n",
        "    <tr>\n",
        "      <th>2010-01-22</th>\n",
        "      <td>13.30</td>\n",
        "      <td>13.30</td>\n",
        "      <td>12.88</td>\n",
        "      <td>12.95</td>\n",
        "      <td>27200</td>\n",
        "      <td>CHIX</td>\n",
        "      <td>2010-01-22</td>\n",
        "      <td>0.000000</td>\n",
        "    </tr>\n",
        "    <tr>\n",
        "      <th>2010-01-25</th>\n",
        "      <td>13.25</td>\n",
        "      <td>13.25</td>\n",
        "      <td>12.96</td>\n",
        "      <td>13.03</td>\n",
        "      <td>9700</td>\n",
        "      <td>CHIX</td>\n",
        "      <td>2010-01-25</td>\n",
        "      <td>0.050834</td>\n",
        "    </tr>\n",
        "    <tr>\n",
        "      <th>2010-01-26</th>\n",
        "      <td>12.59</td>\n",
        "      <td>12.83</td>\n",
        "      <td>12.55</td>\n",
        "      <td>12.70</td>\n",
        "      <td>40000</td>\n",
        "      <td>CHIX</td>\n",
        "      <td>2010-01-26</td>\n",
        "      <td>0.060096</td>\n",
        "    </tr>\n",
        "    <tr>\n",
        "      <th>2010-01-27</th>\n",
        "      <td>12.48</td>\n",
        "      <td>12.55</td>\n",
        "      <td>12.36</td>\n",
        "      <td>12.51</td>\n",
        "      <td>5300</td>\n",
        "      <td>CHIX</td>\n",
        "      <td>2010-01-27</td>\n",
        "      <td>0.048336</td>\n",
        "    </tr>\n",
        "    <tr>\n",
        "      <th>2010-01-28</th>\n",
        "      <td>12.62</td>\n",
        "      <td>12.70</td>\n",
        "      <td>12.42</td>\n",
        "      <td>12.58</td>\n",
        "      <td>13100</td>\n",
        "      <td>CHIX</td>\n",
        "      <td>2010-01-28</td>\n",
        "      <td>0.031981</td>\n",
        "    </tr>\n",
        "  </tbody>\n",
        "</table>\n",
        "</div>"
       ],
       "metadata": {},
       "output_type": "pyout",
       "prompt_number": 5,
       "text": [
        "             Open   High    Low  Close  Volume Symbol    DateCol  \\\n",
        "DateCol                                                            \n",
        "2010-01-22  13.30  13.30  12.88  12.95   27200   CHIX 2010-01-22   \n",
        "2010-01-25  13.25  13.25  12.96  13.03    9700   CHIX 2010-01-25   \n",
        "2010-01-26  12.59  12.83  12.55  12.70   40000   CHIX 2010-01-26   \n",
        "2010-01-27  12.48  12.55  12.36  12.51    5300   CHIX 2010-01-27   \n",
        "2010-01-28  12.62  12.70  12.42  12.58   13100   CHIX 2010-01-28   \n",
        "\n",
        "            percentChange  \n",
        "DateCol                    \n",
        "2010-01-22       0.000000  \n",
        "2010-01-25       0.050834  \n",
        "2010-01-26       0.060096  \n",
        "2010-01-27       0.048336  \n",
        "2010-01-28       0.031981  "
       ]
      }
     ],
     "prompt_number": 5
    },
    {
     "cell_type": "code",
     "collapsed": false,
     "input": [],
     "language": "python",
     "metadata": {},
     "outputs": []
    }
   ],
   "metadata": {}
  }
 ]
}