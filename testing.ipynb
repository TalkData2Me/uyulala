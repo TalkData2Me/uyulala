{
 "metadata": {
  "name": "",
  "signature": "sha256:db8e4693e517e210ccd3be4d172755e3432be621b2b267263115e0e7680b1efa"
 },
 "nbformat": 3,
 "nbformat_minor": 0,
 "worksheets": [
  {
   "cells": [
    {
     "cell_type": "code",
     "collapsed": false,
     "input": [
      "import uyulala\n",
      "reload(uyulala)\n",
      "\n",
      "import os\n",
      "import pandas\n",
      "import glob\n",
      "\n",
      "import h2o"
     ],
     "language": "python",
     "metadata": {},
     "outputs": [
      {
       "output_type": "stream",
       "stream": "stderr",
       "text": [
        "/Users/Damian/anaconda/lib/python2.7/site-packages/pandas/computation/__init__.py:19: UserWarning: The installed version of numexpr 2.4.4 is not supported in pandas and will be not be used\n",
        "\n",
        "  UserWarning)\n"
       ]
      }
     ],
     "prompt_number": 1
    },
    {
     "cell_type": "code",
     "collapsed": false,
     "input": [
      "h2o.init()\n"
     ],
     "language": "python",
     "metadata": {},
     "outputs": [
      {
       "output_type": "stream",
       "stream": "stdout",
       "text": [
        "\n",
        "\n",
        "No instance found at ip and port: localhost:54321. Trying to start local jar...\n",
        "\n",
        "\n",
        "JVM stdout: /var/folders/5b/s4769fcn60d842cy18f7nc3h0000gn/T/tmpz96RmY/h2o_Damian_started_from_python.out\n",
        "JVM stderr: /var/folders/5b/s4769fcn60d842cy18f7nc3h0000gn/T/tmpZRw2ea/h2o_Damian_started_from_python.err\n",
        "Using ice_root: /var/folders/5b/s4769fcn60d842cy18f7nc3h0000gn/T/tmpdegjbC\n",
        "\n",
        "\n"
       ]
      },
      {
       "output_type": "stream",
       "stream": "stdout",
       "text": [
        "Java Version: java version \"1.8.0_101\"\n",
        "Java(TM) SE Runtime Environment (build 1.8.0_101-b13)\n",
        "Java HotSpot(TM) 64-Bit Server VM (build 25.101-b13, mixed mode)\n",
        "\n",
        "\n",
        "\r",
        "Starting H2O JVM and connecting: ."
       ]
      },
      {
       "output_type": "stream",
       "stream": "stdout",
       "text": [
        "\r",
        "Starting H2O JVM and connecting: .."
       ]
      },
      {
       "output_type": "stream",
       "stream": "stdout",
       "text": [
        "\r",
        "Starting H2O JVM and connecting: ..."
       ]
      },
      {
       "output_type": "stream",
       "stream": "stdout",
       "text": [
        "\r",
        "Starting H2O JVM and connecting: ...."
       ]
      },
      {
       "output_type": "stream",
       "stream": "stdout",
       "text": [
        "\r",
        "Starting H2O JVM and connecting: ....."
       ]
      },
      {
       "output_type": "stream",
       "stream": "stdout",
       "text": [
        "\r",
        "Starting H2O JVM and connecting: ......"
       ]
      },
      {
       "output_type": "stream",
       "stream": "stdout",
       "text": [
        "\r",
        "Starting H2O JVM and connecting: ......."
       ]
      },
      {
       "output_type": "stream",
       "stream": "stdout",
       "text": [
        "\r",
        "Starting H2O JVM and connecting: ........"
       ]
      },
      {
       "output_type": "stream",
       "stream": "stdout",
       "text": [
        "\r",
        "Starting H2O JVM and connecting: ........."
       ]
      },
      {
       "output_type": "stream",
       "stream": "stdout",
       "text": [
        "\r",
        "Starting H2O JVM and connecting: .........."
       ]
      },
      {
       "output_type": "stream",
       "stream": "stdout",
       "text": [
        "\r",
        "Starting H2O JVM and connecting: ..........."
       ]
      },
      {
       "output_type": "stream",
       "stream": "stdout",
       "text": [
        "\r",
        "Starting H2O JVM and connecting: ............"
       ]
      },
      {
       "output_type": "stream",
       "stream": "stdout",
       "text": [
        "\r",
        "Starting H2O JVM and connecting: ............."
       ]
      },
      {
       "output_type": "stream",
       "stream": "stdout",
       "text": [
        "\r",
        "Starting H2O JVM and connecting: .............."
       ]
      },
      {
       "output_type": "stream",
       "stream": "stdout",
       "text": [
        "\r",
        "Starting H2O JVM and connecting: ..............."
       ]
      },
      {
       "output_type": "stream",
       "stream": "stdout",
       "text": [
        "\r",
        "Starting H2O JVM and connecting: ................"
       ]
      },
      {
       "output_type": "stream",
       "stream": "stdout",
       "text": [
        "\r",
        "Starting H2O JVM and connecting: ................."
       ]
      },
      {
       "output_type": "stream",
       "stream": "stdout",
       "text": [
        " Connection successful!\n"
       ]
      },
      {
       "html": [
        "<div style=\"overflow:auto\"><table style=\"width:50%\"><tr><td>H2O cluster uptime: </td>\n",
        "<td>1 seconds 941 milliseconds </td></tr>\n",
        "<tr><td>H2O cluster version: </td>\n",
        "<td>3.8.3.3</td></tr>\n",
        "<tr><td>H2O cluster name: </td>\n",
        "<td>H2O_started_from_python_Damian_ras676</td></tr>\n",
        "<tr><td>H2O cluster total nodes: </td>\n",
        "<td>1</td></tr>\n",
        "<tr><td>H2O cluster total free memory: </td>\n",
        "<td>3.56 GB</td></tr>\n",
        "<tr><td>H2O cluster total cores: </td>\n",
        "<td>24</td></tr>\n",
        "<tr><td>H2O cluster allowed cores: </td>\n",
        "<td>24</td></tr>\n",
        "<tr><td>H2O cluster healthy: </td>\n",
        "<td>True</td></tr>\n",
        "<tr><td>H2O Connection ip: </td>\n",
        "<td>127.0.0.1</td></tr>\n",
        "<tr><td>H2O Connection port: </td>\n",
        "<td>54321</td></tr>\n",
        "<tr><td>H2O Connection proxy: </td>\n",
        "<td>None</td></tr>\n",
        "<tr><td>Python Version: </td>\n",
        "<td>2.7.12</td></tr></table></div>"
       ],
       "metadata": {},
       "output_type": "display_data",
       "text": [
        "------------------------------  -------------------------------------\n",
        "H2O cluster uptime:             1 seconds 941 milliseconds\n",
        "H2O cluster version:            3.8.3.3\n",
        "H2O cluster name:               H2O_started_from_python_Damian_ras676\n",
        "H2O cluster total nodes:        1\n",
        "H2O cluster total free memory:  3.56 GB\n",
        "H2O cluster total cores:        24\n",
        "H2O cluster allowed cores:      24\n",
        "H2O cluster healthy:            True\n",
        "H2O Connection ip:              127.0.0.1\n",
        "H2O Connection port:            54321\n",
        "H2O Connection proxy:\n",
        "Python Version:                 2.7.12\n",
        "------------------------------  -------------------------------------"
       ]
      }
     ],
     "prompt_number": 2
    },
    {
     "cell_type": "code",
     "collapsed": false,
     "input": [
      "\n",
      "transformed = h2o.import_file(path=os.path.join(uyulala.dataDir,'transformed'),col_types={'DateCol':'enum'})\n"
     ],
     "language": "python",
     "metadata": {},
     "outputs": [
      {
       "output_type": "stream",
       "stream": "stdout",
       "text": [
        "\n",
        "\r",
        "Parse Progress: [                                                  ] 00%"
       ]
      },
      {
       "output_type": "stream",
       "stream": "stdout",
       "text": [
        "\r",
        "Parse Progress: [###########################################       ] 86%"
       ]
      },
      {
       "output_type": "stream",
       "stream": "stdout",
       "text": [
        "\r",
        "Parse Progress: [##################################################] 100%"
       ]
      },
      {
       "output_type": "stream",
       "stream": "stdout",
       "text": [
        "\n"
       ]
      }
     ],
     "prompt_number": 3
    },
    {
     "cell_type": "code",
     "collapsed": false,
     "input": [],
     "language": "python",
     "metadata": {},
     "outputs": [],
     "prompt_number": 3
    },
    {
     "cell_type": "code",
     "collapsed": false,
     "input": [],
     "language": "python",
     "metadata": {},
     "outputs": [],
     "prompt_number": 3
    },
    {
     "cell_type": "code",
     "collapsed": false,
     "input": [],
     "language": "python",
     "metadata": {},
     "outputs": [],
     "prompt_number": 3
    },
    {
     "cell_type": "code",
     "collapsed": false,
     "input": [
      "\n",
      "predictionDF = h2o.as_list(transformed[['Symbol','DateCol']], use_pandas=True) # pandas data frame is the default \n",
      "\n",
      "predictionDF.head()"
     ],
     "language": "python",
     "metadata": {},
     "outputs": [
      {
       "html": [
        "<div style=\"max-width:1500px;overflow:auto;\">\n",
        "<table border=\"1\" class=\"dataframe\">\n",
        "  <thead>\n",
        "    <tr style=\"text-align: right;\">\n",
        "      <th></th>\n",
        "      <th>Symbol</th>\n",
        "      <th>DateCol</th>\n",
        "    </tr>\n",
        "  </thead>\n",
        "  <tbody>\n",
        "    <tr>\n",
        "      <th>0</th>\n",
        "      <td>CHIX</td>\n",
        "      <td>2010-01-22</td>\n",
        "    </tr>\n",
        "    <tr>\n",
        "      <th>1</th>\n",
        "      <td>CHIX</td>\n",
        "      <td>2010-01-25</td>\n",
        "    </tr>\n",
        "    <tr>\n",
        "      <th>2</th>\n",
        "      <td>CHIX</td>\n",
        "      <td>2010-01-26</td>\n",
        "    </tr>\n",
        "    <tr>\n",
        "      <th>3</th>\n",
        "      <td>CHIX</td>\n",
        "      <td>2010-01-27</td>\n",
        "    </tr>\n",
        "    <tr>\n",
        "      <th>4</th>\n",
        "      <td>CHIX</td>\n",
        "      <td>2010-01-28</td>\n",
        "    </tr>\n",
        "  </tbody>\n",
        "</table>\n",
        "</div>"
       ],
       "metadata": {},
       "output_type": "pyout",
       "prompt_number": 4,
       "text": [
        "  Symbol     DateCol\n",
        "0   CHIX  2010-01-22\n",
        "1   CHIX  2010-01-25\n",
        "2   CHIX  2010-01-26\n",
        "3   CHIX  2010-01-27\n",
        "4   CHIX  2010-01-28"
       ]
      }
     ],
     "prompt_number": 4
    },
    {
     "cell_type": "code",
     "collapsed": false,
     "input": [
      "modelFiles = glob.glob(os.path.join(uyulala.modelsDir,'model|*'))\n",
      "print modelFiles\n",
      "\n",
      "modelFile = modelFiles[0]"
     ],
     "language": "python",
     "metadata": {},
     "outputs": [
      {
       "output_type": "stream",
       "stream": "stdout",
       "text": [
        "['/Users/Damian/Documents/uyulala/models/model|lab_percentChange|glm']\n"
       ]
      }
     ],
     "prompt_number": 5
    },
    {
     "cell_type": "code",
     "collapsed": false,
     "input": [
      "\n",
      "fileName = modelFile.split('/')[-1]\n",
      "junk,label,modelType = fileName.split('|')\n",
      "model = h2o.h2o.load_model(path=modelFile)\n",
      "\n",
      "\n"
     ],
     "language": "python",
     "metadata": {},
     "outputs": [],
     "prompt_number": 6
    },
    {
     "cell_type": "code",
     "collapsed": false,
     "input": [
      "#'pred_'+label+'_'+modelType\n",
      "prediction = model.predict(transformed)\n"
     ],
     "language": "python",
     "metadata": {},
     "outputs": [
      {
       "output_type": "stream",
       "stream": "stdout",
       "text": [
        "\n",
        "\r",
        "glm prediction Progress: [                                                  ] 00%"
       ]
      },
      {
       "output_type": "stream",
       "stream": "stdout",
       "text": [
        "\r",
        "glm prediction Progress: [##################################################] 100%"
       ]
      },
      {
       "output_type": "stream",
       "stream": "stdout",
       "text": [
        "\n"
       ]
      }
     ],
     "prompt_number": 7
    },
    {
     "cell_type": "code",
     "collapsed": false,
     "input": [],
     "language": "python",
     "metadata": {},
     "outputs": []
    },
    {
     "cell_type": "code",
     "collapsed": false,
     "input": [
      "predictionDF.merge(h2o.as_list(prediction, use_pandas=True),\n",
      "                   left_index=True,right_index=True).rename(columns={'predict':label+'|'+modelType}).head()"
     ],
     "language": "python",
     "metadata": {},
     "outputs": []
    },
    {
     "cell_type": "code",
     "collapsed": false,
     "input": [],
     "language": "python",
     "metadata": {},
     "outputs": []
    },
    {
     "cell_type": "code",
     "collapsed": false,
     "input": [
      "transformed = transformed.cbind(prediction)"
     ],
     "language": "python",
     "metadata": {},
     "outputs": [],
     "prompt_number": 9
    },
    {
     "cell_type": "code",
     "collapsed": false,
     "input": [],
     "language": "python",
     "metadata": {},
     "outputs": []
    },
    {
     "cell_type": "code",
     "collapsed": false,
     "input": [
      "prediction.describe()"
     ],
     "language": "python",
     "metadata": {},
     "outputs": []
    },
    {
     "cell_type": "code",
     "collapsed": false,
     "input": [
      "predictionDF = predictionDF.cbind(prediction)"
     ],
     "language": "python",
     "metadata": {},
     "outputs": []
    },
    {
     "cell_type": "code",
     "collapsed": false,
     "input": [
      "predictionDF.describe()"
     ],
     "language": "python",
     "metadata": {},
     "outputs": []
    },
    {
     "cell_type": "code",
     "collapsed": false,
     "input": [
      "\n",
      "h2o.download_csv(data=predictionDF, filename=os.path.join(uyulala.dataDir,'predictions.csv'))"
     ],
     "language": "python",
     "metadata": {},
     "outputs": []
    },
    {
     "cell_type": "code",
     "collapsed": false,
     "input": [],
     "language": "python",
     "metadata": {},
     "outputs": []
    }
   ],
   "metadata": {}
  }
 ]
}