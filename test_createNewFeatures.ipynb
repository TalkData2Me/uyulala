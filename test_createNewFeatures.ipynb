{
 "metadata": {
  "name": "",
  "signature": "sha256:4b13c8fa3bd60fb1a19d48960842a12540267c3506db55b1580d6934a895c0d2"
 },
 "nbformat": 3,
 "nbformat_minor": 0,
 "worksheets": [
  {
   "cells": [
    {
     "cell_type": "code",
     "collapsed": false,
     "input": [
      "import pandas\n",
      "import uyulala\n",
      "reload(uyulala)\n",
      "import os"
     ],
     "language": "python",
     "metadata": {},
     "outputs": [],
     "prompt_number": 131
    },
    {
     "cell_type": "code",
     "collapsed": false,
     "input": [
      "rawData = pandas.read_csv(os.path.join(uyulala.dataDir,'raw','CHIX'+'.csv'),parse_dates=['DateCol'])"
     ],
     "language": "python",
     "metadata": {},
     "outputs": [],
     "prompt_number": 3
    },
    {
     "cell_type": "code",
     "collapsed": false,
     "input": [
      "\n",
      "features = uyulala.VROC(df=rawData,windowSize=11)\n",
      "features = uyulala.VROC(df=features,windowSize=7)\n",
      "features = uyulala.VROC(df=features,windowSize=5)\n",
      "features = uyulala.VROC(df=features,windowSize=3)\n",
      "features = uyulala.RSI(df=features,priceCol='Close',windowSize=17)\n",
      "features = uyulala.RSI(df=features,priceCol='Close',windowSize=13)\n",
      "features = uyulala.RSI(df=features,priceCol='Close',windowSize=11)\n",
      "features = uyulala.RSIgranular(df=features,windowSize=7)\n",
      "features = uyulala.RSIgranular(df=features,windowSize=5)\n",
      "features = uyulala.RSIgranular(df=features,windowSize=3)\n",
      "features = uyulala.SMARatio(df=features,colToAvg='Close',windowSize1=11,windowSize2=19)\n",
      "features = uyulala.SMARatio(df=features,colToAvg='Close',windowSize1=5,windowSize2=11)\n",
      "features = uyulala.SMARatio(df=features,colToAvg='Close',windowSize1=3,windowSize2=7)\n",
      "features = uyulala.DMI(df=features,windowSize=17)\n",
      "features = uyulala.DMI(df=features,windowSize=11)\n",
      "features = uyulala.DMI(df=features,windowSize=7)\n",
      "features = uyulala.DMI(df=features,windowSize=3)\n",
      "features = uyulala.MACD(df=features,colToAvg='Close',windowSizes=[9,12,26])\n",
      "features = uyulala.MACD(df=features,colToAvg='Close',windowSizes=[7,11,23])\n",
      "features = uyulala.MACDgranular(df=features,windowSizes=[2,3,5])\n",
      "features = uyulala.MACDgranular(df=features,windowSizes=[3,5,7])\n",
      "features = uyulala.MACDgranular(df=features,windowSizes=[5,7,11])\n",
      "features = uyulala.StochasticOscillator(df=features,windowSize=11)\n",
      "features = uyulala.StochasticOscillator(df=features,windowSize=7)\n",
      "features = uyulala.StochasticOscillator(df=features,windowSize=5)\n",
      "features = uyulala.StochasticOscillator(df=features,windowSize=3)\n",
      "features = uyulala.PriceChannels(df=features,windowSize=11)\n",
      "features = uyulala.PriceChannels(df=features,windowSize=7)\n",
      "features = uyulala.PriceChannels(df=features,windowSize=5)\n",
      "features = uyulala.PriceChannels(df=features,windowSize=3)\n",
      "features = uyulala.PSAR(df=features)\n",
      "\n",
      "features.drop(['Open','High','Low','Close','Volume'],inplace=True,axis=1)\n",
      "features.to_csv(os.path.join(uyulala.dataDir,'transformed',asset+'.csv'),index=False)\n",
      "\n"
     ],
     "language": "python",
     "metadata": {},
     "outputs": [
      {
       "output_type": "stream",
       "stream": "stderr",
       "text": [
        "/Users/Damian/Documents/uyulala/__init__.py:339: FutureWarning: pd.ewm_mean is deprecated for Series and will be removed in a future version, replace with \n",
        "\tSeries.ewm(ignore_na=False,span=10,min_periods=0,adjust=True).mean()\n",
        "/Users/Damian/Documents/uyulala/__init__.py:340: FutureWarning: pd.ewm_mean is deprecated for Series and will be removed in a future version, replace with \n",
        "\tSeries.ewm(ignore_na=False,span=14,min_periods=0,adjust=True).mean()\n",
        "/Users/Damian/Documents/uyulala/__init__.py:342: FutureWarning: pd.ewm_mean is deprecated for Series and will be removed in a future version, replace with \n",
        "\tSeries.ewm(ignore_na=False,span=6,min_periods=0,adjust=True).mean()\n",
        "/Users/Damian/Documents/uyulala/__init__.py:339: FutureWarning: pd.ewm_mean is deprecated for Series and will be removed in a future version, replace with \n",
        "\tSeries.ewm(ignore_na=False,span=14,min_periods=0,adjust=True).mean()\n"
       ]
      },
      {
       "output_type": "stream",
       "stream": "stderr",
       "text": [
        "/Users/Damian/Documents/uyulala/__init__.py:340: FutureWarning: pd.ewm_mean is deprecated for Series and will be removed in a future version, replace with \n",
        "\tSeries.ewm(ignore_na=False,span=22,min_periods=0,adjust=True).mean()\n",
        "/Users/Damian/Documents/uyulala/__init__.py:342: FutureWarning: pd.ewm_mean is deprecated for Series and will be removed in a future version, replace with \n",
        "\tSeries.ewm(ignore_na=False,span=10,min_periods=0,adjust=True).mean()\n"
       ]
      },
      {
       "ename": "NameError",
       "evalue": "name 'asset' is not defined",
       "output_type": "pyerr",
       "traceback": [
        "\u001b[0;31m---------------------------------------------------------------------------\u001b[0m\n\u001b[0;31mNameError\u001b[0m                                 Traceback (most recent call last)",
        "\u001b[0;32m<ipython-input-132-e7a095d7ddb8>\u001b[0m in \u001b[0;36m<module>\u001b[0;34m()\u001b[0m\n\u001b[1;32m     33\u001b[0m \u001b[0;34m\u001b[0m\u001b[0m\n\u001b[1;32m     34\u001b[0m \u001b[0mfeatures\u001b[0m\u001b[0;34m.\u001b[0m\u001b[0mdrop\u001b[0m\u001b[0;34m(\u001b[0m\u001b[0;34m[\u001b[0m\u001b[0;34m'Open'\u001b[0m\u001b[0;34m,\u001b[0m\u001b[0;34m'High'\u001b[0m\u001b[0;34m,\u001b[0m\u001b[0;34m'Low'\u001b[0m\u001b[0;34m,\u001b[0m\u001b[0;34m'Close'\u001b[0m\u001b[0;34m,\u001b[0m\u001b[0;34m'Volume'\u001b[0m\u001b[0;34m]\u001b[0m\u001b[0;34m,\u001b[0m\u001b[0minplace\u001b[0m\u001b[0;34m=\u001b[0m\u001b[0mTrue\u001b[0m\u001b[0;34m,\u001b[0m\u001b[0maxis\u001b[0m\u001b[0;34m=\u001b[0m\u001b[0;36m1\u001b[0m\u001b[0;34m)\u001b[0m\u001b[0;34m\u001b[0m\u001b[0m\n\u001b[0;32m---> 35\u001b[0;31m \u001b[0mfeatures\u001b[0m\u001b[0;34m.\u001b[0m\u001b[0mto_csv\u001b[0m\u001b[0;34m(\u001b[0m\u001b[0mos\u001b[0m\u001b[0;34m.\u001b[0m\u001b[0mpath\u001b[0m\u001b[0;34m.\u001b[0m\u001b[0mjoin\u001b[0m\u001b[0;34m(\u001b[0m\u001b[0muyulala\u001b[0m\u001b[0;34m.\u001b[0m\u001b[0mdataDir\u001b[0m\u001b[0;34m,\u001b[0m\u001b[0;34m'transformed'\u001b[0m\u001b[0;34m,\u001b[0m\u001b[0masset\u001b[0m\u001b[0;34m+\u001b[0m\u001b[0;34m'.csv'\u001b[0m\u001b[0;34m)\u001b[0m\u001b[0;34m,\u001b[0m\u001b[0mindex\u001b[0m\u001b[0;34m=\u001b[0m\u001b[0mFalse\u001b[0m\u001b[0;34m)\u001b[0m\u001b[0;34m\u001b[0m\u001b[0m\n\u001b[0m\u001b[1;32m     36\u001b[0m \u001b[0;34m\u001b[0m\u001b[0m\n",
        "\u001b[0;31mNameError\u001b[0m: name 'asset' is not defined"
       ]
      }
     ],
     "prompt_number": 132
    },
    {
     "cell_type": "code",
     "collapsed": false,
     "input": [],
     "language": "python",
     "metadata": {},
     "outputs": [],
     "prompt_number": 113
    },
    {
     "cell_type": "code",
     "collapsed": false,
     "input": [],
     "language": "python",
     "metadata": {},
     "outputs": []
    }
   ],
   "metadata": {}
  }
 ]
}